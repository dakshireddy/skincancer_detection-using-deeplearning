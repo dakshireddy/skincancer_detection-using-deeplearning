{
  "cells": [
    {
      "cell_type": "markdown",
      "source": [
        "Dataset Link:https://www.kaggle.com/datasets/cdeotte/jpeg-isic2019-512x512"
      ],
      "metadata": {
        "id": "gCGDNsGC1pJ4"
      }
    },
    {
      "cell_type": "code",
      "execution_count": null,
      "metadata": {
        "id": "sWJ7uek25QJH"
      },
      "outputs": [],
      "source": [
        "!mkdir -p ~/.kaggle\n",
        "!cp kaggle.json ~/.kaggle/"
      ]
    },
    {
      "cell_type": "code",
      "execution_count": null,
      "metadata": {
        "colab": {
          "base_uri": "https://localhost:8080/"
        },
        "id": "JTXEFjwg50DJ",
        "outputId": "e81af772-7087-4f04-9cbf-0b2e90b7aba7"
      },
      "outputs": [
        {
          "output_type": "stream",
          "name": "stdout",
          "text": [
            "Warning: Your Kaggle API key is readable by other users on this system! To fix this, you can run 'chmod 600 /root/.kaggle/kaggle.json'\n",
            "Downloading jpeg-isic2019-512x512.zip to /content\n",
            "100% 1.38G/1.38G [01:14<00:00, 21.7MB/s]\n",
            "100% 1.38G/1.38G [01:14<00:00, 19.8MB/s]\n"
          ]
        }
      ],
      "source": [
        "!kaggle datasets  download -d cdeotte/jpeg-isic2019-512x512"
      ]
    },
    {
      "cell_type": "code",
      "execution_count": null,
      "metadata": {
        "id": "77TJVI-N54cy"
      },
      "outputs": [],
      "source": [
        "import zipfile\n",
        "a = zipfile.ZipFile('/content/jpeg-isic2019-512x512.zip','r')\n",
        "a.extractall('/content/jpeg-isic2019-512x512')\n",
        "a.close()"
      ]
    },
    {
      "cell_type": "code",
      "execution_count": null,
      "metadata": {
        "colab": {
          "base_uri": "https://localhost:8080/"
        },
        "id": "EBWVT5ar6GbB",
        "outputId": "e149c7c7-3562-476c-b301-c3fe469fbdfd"
      },
      "outputs": [
        {
          "output_type": "stream",
          "name": "stdout",
          "text": [
            "['train', 'train.csv']\n"
          ]
        }
      ],
      "source": [
        "import os\n",
        "root_path = '/content/jpeg-isic2019-512x512/'\n",
        "print(list(os.listdir(root_path)))"
      ]
    },
    {
      "cell_type": "code",
      "execution_count": null,
      "metadata": {
        "id": "EMj808Sr7cmj"
      },
      "outputs": [],
      "source": [
        "from sklearn.model_selection import train_test_split\n",
        "from sklearn.metrics import confusion_matrix\n",
        "import matplotlib.pyplot as plt\n",
        "import seaborn as sns\n",
        "from PIL import Image\n",
        "import keras\n",
        "from keras.models import load_model\n",
        "from keras.preprocessing.image import ImageDataGenerator\n",
        "import numpy as np\n",
        "# Suppress warnings\n",
        "import warnings\n",
        "warnings.filterwarnings('ignore')"
      ]
    },
    {
      "cell_type": "code",
      "execution_count": null,
      "metadata": {
        "colab": {
          "base_uri": "https://localhost:8080/"
        },
        "id": "gdX3puM06cWE",
        "outputId": "a2fc3d2f-57fe-4df4-cddc-30dc402f86c4"
      },
      "outputs": [
        {
          "output_type": "stream",
          "name": "stdout",
          "text": [
            "         image_name  patient_id     sex  age_approx  \\\n",
            "0      ISIC_0000000          -1  female        55.0   \n",
            "1      ISIC_0000001          -1  female        30.0   \n",
            "2      ISIC_0000002          -1  female        60.0   \n",
            "3      ISIC_0000003          -1    male        30.0   \n",
            "4      ISIC_0000004          -1    male        80.0   \n",
            "...             ...         ...     ...         ...   \n",
            "25326  ISIC_0073247          -1  female        85.0   \n",
            "25327  ISIC_0073248          -1    male        65.0   \n",
            "25328  ISIC_0073249          -1    male        70.0   \n",
            "25329  ISIC_0073251          -1  female        55.0   \n",
            "25330  ISIC_0073254          -1    male        50.0   \n",
            "\n",
            "      anatom_site_general_challenge diagnosis benign_malignant  target  \\\n",
            "0                    anterior torso        NV           benign       0   \n",
            "1                    anterior torso        NV           benign       0   \n",
            "2                   upper extremity       MEL        malignant       1   \n",
            "3                   upper extremity        NV           benign       0   \n",
            "4                   posterior torso       MEL        malignant       1   \n",
            "...                             ...       ...              ...     ...   \n",
            "25326                     head/neck       BCC           benign       0   \n",
            "25327                anterior torso       BKL           benign       0   \n",
            "25328               lower extremity       MEL        malignant       1   \n",
            "25329                   palms/soles        NV           benign       0   \n",
            "25330               upper extremity       BKL           benign       0   \n",
            "\n",
            "       tfrecord  width  height  \n",
            "0             4   1022     767  \n",
            "1            18   1022     767  \n",
            "2             0   1022     767  \n",
            "3            24   1022     767  \n",
            "4            14   1022     767  \n",
            "...         ...    ...     ...  \n",
            "25326        19   1024    1024  \n",
            "25327         7   1024    1024  \n",
            "25328         9   1024    1024  \n",
            "25329        15   1024    1024  \n",
            "25330        23   1024    1024  \n",
            "\n",
            "[25331 rows x 11 columns]\n"
          ]
        }
      ],
      "source": [
        "#Read in training csv\n",
        "import pandas as pd\n",
        "meta = pd.read_csv('/content/jpeg-isic2019-512x512/train.csv')\n",
        "print(meta)"
      ]
    },
    {
      "cell_type": "code",
      "execution_count": null,
      "metadata": {
        "colab": {
          "base_uri": "https://localhost:8080/"
        },
        "id": "lsoVc-T_8HzI",
        "outputId": "b5bfd021-bd9a-43e6-9dfd-e0b5f460289b"
      },
      "outputs": [
        {
          "output_type": "execute_result",
          "data": {
            "text/plain": [
              "NV      12875\n",
              "MEL      4522\n",
              "BCC      3323\n",
              "BKL      2624\n",
              "AK        867\n",
              "SCC       628\n",
              "VASC      253\n",
              "DF        239\n",
              "Name: diagnosis, dtype: int64"
            ]
          },
          "metadata": {},
          "execution_count": 7
        }
      ],
      "source": [
        "#Get diagnosis value counts\n",
        "meta['diagnosis'].value_counts()"
      ]
    },
    {
      "cell_type": "code",
      "execution_count": null,
      "metadata": {
        "colab": {
          "base_uri": "https://localhost:8080/"
        },
        "id": "scLBt9iP8Nd4",
        "outputId": "112a244e-8187-40ec-f6f8-ff3c69d3b42c"
      },
      "outputs": [
        {
          "output_type": "stream",
          "name": "stdout",
          "text": [
            "         image_name  patient_id     sex  age_approx  \\\n",
            "0      ISIC_0000000          -1  female        55.0   \n",
            "1      ISIC_0000001          -1  female        30.0   \n",
            "2      ISIC_0000002          -1  female        60.0   \n",
            "3      ISIC_0000003          -1    male        30.0   \n",
            "4      ISIC_0000004          -1    male        80.0   \n",
            "...             ...         ...     ...         ...   \n",
            "25326  ISIC_0073247          -1  female        85.0   \n",
            "25327  ISIC_0073248          -1    male        65.0   \n",
            "25328  ISIC_0073249          -1    male        70.0   \n",
            "25329  ISIC_0073251          -1  female        55.0   \n",
            "25330  ISIC_0073254          -1    male        50.0   \n",
            "\n",
            "      anatom_site_general_challenge diagnosis benign_malignant  target  \\\n",
            "0                    anterior torso        NV           benign       0   \n",
            "1                    anterior torso        NV           benign       0   \n",
            "2                   upper extremity       MEL        malignant       1   \n",
            "3                   upper extremity        NV           benign       0   \n",
            "4                   posterior torso       MEL        malignant       1   \n",
            "...                             ...       ...              ...     ...   \n",
            "25326                     head/neck       BCC           benign       0   \n",
            "25327                anterior torso       BKL           benign       0   \n",
            "25328               lower extremity       MEL        malignant       1   \n",
            "25329                   palms/soles        NV           benign       0   \n",
            "25330               upper extremity       BKL           benign       0   \n",
            "\n",
            "       tfrecord  width  height  \\\n",
            "0             4   1022     767   \n",
            "1            18   1022     767   \n",
            "2             0   1022     767   \n",
            "3            24   1022     767   \n",
            "4            14   1022     767   \n",
            "...         ...    ...     ...   \n",
            "25326        19   1024    1024   \n",
            "25327         7   1024    1024   \n",
            "25328         9   1024    1024   \n",
            "25329        15   1024    1024   \n",
            "25330        23   1024    1024   \n",
            "\n",
            "                                                    path  \n",
            "0      /content/jpeg-isic2019-512x512/train/ISIC_0000...  \n",
            "1      /content/jpeg-isic2019-512x512/train/ISIC_0000...  \n",
            "2      /content/jpeg-isic2019-512x512/train/ISIC_0000...  \n",
            "3      /content/jpeg-isic2019-512x512/train/ISIC_0000...  \n",
            "4      /content/jpeg-isic2019-512x512/train/ISIC_0000...  \n",
            "...                                                  ...  \n",
            "25326  /content/jpeg-isic2019-512x512/train/ISIC_0073...  \n",
            "25327  /content/jpeg-isic2019-512x512/train/ISIC_0073...  \n",
            "25328  /content/jpeg-isic2019-512x512/train/ISIC_0073...  \n",
            "25329  /content/jpeg-isic2019-512x512/train/ISIC_0073...  \n",
            "25330  /content/jpeg-isic2019-512x512/train/ISIC_0073...  \n",
            "\n",
            "[25331 rows x 12 columns]\n"
          ]
        }
      ],
      "source": [
        "#Add a column with the path to each images jpeg\n",
        "meta['path'] = root_path + 'train/' + meta['image_name'] + '.jpg'\n",
        "print(meta)"
      ]
    },
    {
      "cell_type": "code",
      "execution_count": null,
      "metadata": {
        "colab": {
          "base_uri": "https://localhost:8080/"
        },
        "id": "L9Er0nL48TZ8",
        "outputId": "f1fab3a2-4541-4145-b467-44b54403e7ec"
      },
      "outputs": [
        {
          "output_type": "execute_result",
          "data": {
            "text/plain": [
              "NV      12875\n",
              "MEL      4522\n",
              "BCC      3323\n",
              "BKL      2624\n",
              "AK        867\n",
              "SCC       628\n",
              "VASC      253\n",
              "DF        239\n",
              "Name: diagnosis, dtype: int64"
            ]
          },
          "metadata": {},
          "execution_count": 9
        }
      ],
      "source": [
        "\n",
        "#Check target distribution\n",
        "meta['diagnosis'].value_counts()"
      ]
    },
    {
      "cell_type": "code",
      "execution_count": null,
      "metadata": {
        "colab": {
          "base_uri": "https://localhost:8080/"
        },
        "id": "D7qShBKiWB5L",
        "outputId": "85037923-59b7-461c-9ac8-e5e0ae7fccb5"
      },
      "outputs": [
        {
          "output_type": "stream",
          "name": "stdout",
          "text": [
            "['AK', 'BCC', 'BKL', 'DF', 'MEL', 'NV', 'SCC', 'VASC']\n"
          ]
        }
      ],
      "source": [
        "from sklearn.preprocessing import LabelEncoder\n",
        "le=LabelEncoder()\n",
        "le.fit(meta['diagnosis'])\n",
        "LabelEncoder()\n",
        "print(list(le.classes_))"
      ]
    },
    {
      "cell_type": "code",
      "execution_count": null,
      "metadata": {
        "id": "WEgbbOoqWK9u"
      },
      "outputs": [],
      "source": [
        "meta['label']=le.transform(meta['diagnosis'])"
      ]
    },
    {
      "cell_type": "code",
      "execution_count": null,
      "metadata": {
        "colab": {
          "base_uri": "https://localhost:8080/"
        },
        "id": "mhSh6vy0WXX6",
        "outputId": "dbb784ac-c6a9-4cf6-93e0-a49b0fb05f3d"
      },
      "outputs": [
        {
          "output_type": "stream",
          "name": "stdout",
          "text": [
            "         image_name  patient_id     sex  age_approx  \\\n",
            "0      ISIC_0000000          -1  female        55.0   \n",
            "1      ISIC_0000001          -1  female        30.0   \n",
            "2      ISIC_0000002          -1  female        60.0   \n",
            "3      ISIC_0000003          -1    male        30.0   \n",
            "4      ISIC_0000004          -1    male        80.0   \n",
            "...             ...         ...     ...         ...   \n",
            "25326  ISIC_0073247          -1  female        85.0   \n",
            "25327  ISIC_0073248          -1    male        65.0   \n",
            "25328  ISIC_0073249          -1    male        70.0   \n",
            "25329  ISIC_0073251          -1  female        55.0   \n",
            "25330  ISIC_0073254          -1    male        50.0   \n",
            "\n",
            "      anatom_site_general_challenge diagnosis benign_malignant  target  \\\n",
            "0                    anterior torso        NV           benign       0   \n",
            "1                    anterior torso        NV           benign       0   \n",
            "2                   upper extremity       MEL        malignant       1   \n",
            "3                   upper extremity        NV           benign       0   \n",
            "4                   posterior torso       MEL        malignant       1   \n",
            "...                             ...       ...              ...     ...   \n",
            "25326                     head/neck       BCC           benign       0   \n",
            "25327                anterior torso       BKL           benign       0   \n",
            "25328               lower extremity       MEL        malignant       1   \n",
            "25329                   palms/soles        NV           benign       0   \n",
            "25330               upper extremity       BKL           benign       0   \n",
            "\n",
            "       tfrecord  width  height  \\\n",
            "0             4   1022     767   \n",
            "1            18   1022     767   \n",
            "2             0   1022     767   \n",
            "3            24   1022     767   \n",
            "4            14   1022     767   \n",
            "...         ...    ...     ...   \n",
            "25326        19   1024    1024   \n",
            "25327         7   1024    1024   \n",
            "25328         9   1024    1024   \n",
            "25329        15   1024    1024   \n",
            "25330        23   1024    1024   \n",
            "\n",
            "                                                    path  label  \n",
            "0      /content/jpeg-isic2019-512x512/train/ISIC_0000...      5  \n",
            "1      /content/jpeg-isic2019-512x512/train/ISIC_0000...      5  \n",
            "2      /content/jpeg-isic2019-512x512/train/ISIC_0000...      4  \n",
            "3      /content/jpeg-isic2019-512x512/train/ISIC_0000...      5  \n",
            "4      /content/jpeg-isic2019-512x512/train/ISIC_0000...      4  \n",
            "...                                                  ...    ...  \n",
            "25326  /content/jpeg-isic2019-512x512/train/ISIC_0073...      1  \n",
            "25327  /content/jpeg-isic2019-512x512/train/ISIC_0073...      2  \n",
            "25328  /content/jpeg-isic2019-512x512/train/ISIC_0073...      4  \n",
            "25329  /content/jpeg-isic2019-512x512/train/ISIC_0073...      5  \n",
            "25330  /content/jpeg-isic2019-512x512/train/ISIC_0073...      2  \n",
            "\n",
            "[25331 rows x 13 columns]\n"
          ]
        }
      ],
      "source": [
        "print(meta)"
      ]
    },
    {
      "cell_type": "code",
      "execution_count": null,
      "metadata": {
        "colab": {
          "base_uri": "https://localhost:8080/"
        },
        "id": "RDJErKhr8Wq3",
        "outputId": "56d96e95-c1b5-4647-fd9a-7ebd24a7d92b"
      },
      "outputs": [
        {
          "output_type": "execute_result",
          "data": {
            "text/plain": [
              "5    12875\n",
              "4     4522\n",
              "1     3323\n",
              "2     2624\n",
              "0      867\n",
              "6      628\n",
              "7      253\n",
              "3      239\n",
              "Name: label, dtype: int64"
            ]
          },
          "metadata": {},
          "execution_count": 13
        }
      ],
      "source": [
        "#Check target distribution normalized\n",
        "meta['label'].value_counts()"
      ]
    },
    {
      "cell_type": "code",
      "execution_count": null,
      "metadata": {
        "id": "6QthVeLBaAS-"
      },
      "outputs": [],
      "source": [
        "from PIL import Image\n",
        "meta['image']=meta['path'].map(lambda x:np.asarray(Image.open(x).resize((75,75))))"
      ]
    },
    {
      "cell_type": "code",
      "execution_count": null,
      "metadata": {
        "colab": {
          "base_uri": "https://localhost:8080/"
        },
        "id": "6Q9q7EM0bpdu",
        "outputId": "320503f1-a250-46e2-e589-824bb95b34b4"
      },
      "outputs": [
        {
          "output_type": "stream",
          "name": "stdout",
          "text": [
            "0        [[[179, 218, 250], [179, 216, 249], [179, 215,...\n",
            "1        [[[173, 173, 182], [175, 175, 184], [177, 177,...\n",
            "2        [[[64, 81, 114], [77, 95, 133], [88, 110, 147]...\n",
            "3        [[[223, 222, 224], [223, 223, 227], [223, 224,...\n",
            "4        [[[19, 19, 19], [19, 19, 19], [19, 19, 19], [1...\n",
            "                               ...                        \n",
            "25326    [[[0, 0, 0], [0, 0, 0], [0, 0, 0], [0, 0, 0], ...\n",
            "25327    [[[91, 86, 90], [97, 92, 96], [105, 98, 104], ...\n",
            "25328    [[[127, 124, 128], [131, 127, 129], [131, 125,...\n",
            "25329    [[[139, 118, 132], [141, 119, 133], [144, 122,...\n",
            "25330    [[[212, 217, 219], [214, 222, 224], [214, 221,...\n",
            "Name: image, Length: 25331, dtype: object\n"
          ]
        }
      ],
      "source": [
        "print(meta['image'])"
      ]
    },
    {
      "cell_type": "code",
      "execution_count": null,
      "metadata": {
        "id": "CcMB1GA0aBbS"
      },
      "outputs": [],
      "source": [
        "import tensorflow as tf\n",
        "\n",
        "x=np.asarray(meta['image'].tolist())\n",
        "x=x/225\n",
        "y=meta['label']\n",
        "y_cat=tf.keras.utils.to_categorical(y,num_classes=8)"
      ]
    },
    {
      "cell_type": "code",
      "execution_count": null,
      "metadata": {
        "colab": {
          "base_uri": "https://localhost:8080/"
        },
        "id": "p-nhgXrjcbwT",
        "outputId": "3066eb2b-1356-4bb4-f8cb-1609d4d7c7ca"
      },
      "outputs": [
        {
          "output_type": "stream",
          "name": "stdout",
          "text": [
            "[[[[0.79555556 0.96888889 1.11111111]\n",
            "   [0.79555556 0.96       1.10666667]\n",
            "   [0.79555556 0.95555556 1.10666667]\n",
            "   ...\n",
            "   [0.79111111 0.97333333 1.11111111]\n",
            "   [0.79111111 0.98222222 1.11111111]\n",
            "   [0.79111111 0.98666667 1.11111111]]\n",
            "\n",
            "  [[0.77777778 0.94666667 1.12444444]\n",
            "   [0.77333333 0.94222222 1.12      ]\n",
            "   [0.76888889 0.93333333 1.11555556]\n",
            "   ...\n",
            "   [0.76       0.96444444 1.12888889]\n",
            "   [0.76       0.96888889 1.12444444]\n",
            "   [0.75555556 0.96888889 1.12888889]]\n",
            "\n",
            "  [[0.77777778 0.94666667 1.12      ]\n",
            "   [0.77333333 0.94222222 1.11555556]\n",
            "   [0.77333333 0.93777778 1.11555556]\n",
            "   ...\n",
            "   [0.76       0.96       1.12444444]\n",
            "   [0.76444444 0.96444444 1.12888889]\n",
            "   [0.76       0.96888889 1.12444444]]\n",
            "\n",
            "  ...\n",
            "\n",
            "  [[0.78666667 0.98222222 1.13333333]\n",
            "   [0.79111111 0.98666667 1.13333333]\n",
            "   [0.78666667 0.98222222 1.13333333]\n",
            "   ...\n",
            "   [0.80444444 1.00444444 1.13333333]\n",
            "   [0.8        1.00444444 1.12888889]\n",
            "   [0.80444444 1.         1.12888889]]\n",
            "\n",
            "  [[0.77333333 0.98666667 1.12888889]\n",
            "   [0.77777778 0.98666667 1.12888889]\n",
            "   [0.78666667 0.98222222 1.12888889]\n",
            "   ...\n",
            "   [0.8        1.         1.12888889]\n",
            "   [0.80444444 1.00444444 1.13333333]\n",
            "   [0.80888889 1.         1.13333333]]\n",
            "\n",
            "  [[0.81333333 0.99555556 1.12      ]\n",
            "   [0.80888889 0.99111111 1.11555556]\n",
            "   [0.80444444 0.99555556 1.11555556]\n",
            "   ...\n",
            "   [0.83111111 1.         1.11555556]\n",
            "   [0.84       1.01333333 1.12      ]\n",
            "   [0.84444444 1.01777778 1.11555556]]]\n",
            "\n",
            "\n",
            " [[[0.76888889 0.76888889 0.80888889]\n",
            "   [0.77777778 0.77777778 0.81777778]\n",
            "   [0.78666667 0.78666667 0.83111111]\n",
            "   ...\n",
            "   [0.79555556 0.79111111 0.84444444]\n",
            "   [0.79111111 0.79555556 0.84      ]\n",
            "   [0.78222222 0.79555556 0.84      ]]\n",
            "\n",
            "  [[0.75111111 0.75111111 0.79111111]\n",
            "   [0.75555556 0.75555556 0.8       ]\n",
            "   [0.76       0.76       0.8       ]\n",
            "   ...\n",
            "   [0.76444444 0.76444444 0.81777778]\n",
            "   [0.76       0.76       0.81333333]\n",
            "   [0.75555556 0.76       0.81333333]]\n",
            "\n",
            "  [[0.76444444 0.76444444 0.8       ]\n",
            "   [0.76444444 0.76444444 0.8       ]\n",
            "   [0.76444444 0.76444444 0.8       ]\n",
            "   ...\n",
            "   [0.76888889 0.76888889 0.82222222]\n",
            "   [0.76888889 0.76888889 0.82222222]\n",
            "   [0.76888889 0.76444444 0.82222222]]\n",
            "\n",
            "  ...\n",
            "\n",
            "  [[0.79111111 0.79111111 0.82666667]\n",
            "   [0.79111111 0.79555556 0.83111111]\n",
            "   [0.79555556 0.80888889 0.84      ]\n",
            "   ...\n",
            "   [0.79555556 0.77777778 0.80888889]\n",
            "   [0.79111111 0.78222222 0.81333333]\n",
            "   [0.79555556 0.78222222 0.81333333]]\n",
            "\n",
            "  [[0.79111111 0.79111111 0.83555556]\n",
            "   [0.79111111 0.79111111 0.82666667]\n",
            "   [0.79111111 0.78666667 0.81777778]\n",
            "   ...\n",
            "   [0.79555556 0.78222222 0.81333333]\n",
            "   [0.79111111 0.77777778 0.80888889]\n",
            "   [0.79111111 0.78222222 0.80888889]]\n",
            "\n",
            "  [[0.82666667 0.83111111 0.85333333]\n",
            "   [0.82222222 0.82222222 0.84444444]\n",
            "   [0.81777778 0.81333333 0.84      ]\n",
            "   ...\n",
            "   [0.82222222 0.81333333 0.84      ]\n",
            "   [0.81777778 0.80888889 0.83555556]\n",
            "   [0.80888889 0.80888889 0.83111111]]]\n",
            "\n",
            "\n",
            " [[[0.28444444 0.36       0.50666667]\n",
            "   [0.34222222 0.42222222 0.59111111]\n",
            "   [0.39111111 0.48888889 0.65333333]\n",
            "   ...\n",
            "   [0.57777778 0.76       1.00444444]\n",
            "   [0.55111111 0.72888889 0.98222222]\n",
            "   [0.52888889 0.71111111 0.96      ]]\n",
            "\n",
            "  [[0.26666667 0.36       0.54666667]\n",
            "   [0.31111111 0.41777778 0.61777778]\n",
            "   [0.36444444 0.48444444 0.68444444]\n",
            "   ...\n",
            "   [0.56444444 0.75555556 1.03555556]\n",
            "   [0.54222222 0.73333333 1.01333333]\n",
            "   [0.51555556 0.71555556 0.99111111]]\n",
            "\n",
            "  [[0.31555556 0.42222222 0.60444444]\n",
            "   [0.35111111 0.48444444 0.66666667]\n",
            "   [0.40888889 0.52444444 0.73777778]\n",
            "   ...\n",
            "   [0.59555556 0.77777778 1.04888889]\n",
            "   [0.57777778 0.76       1.02666667]\n",
            "   [0.55111111 0.73777778 1.00444444]]\n",
            "\n",
            "  ...\n",
            "\n",
            "  [[0.44888889 0.62666667 0.90222222]\n",
            "   [0.48444444 0.66222222 0.93777778]\n",
            "   [0.52444444 0.70666667 0.99111111]\n",
            "   ...\n",
            "   [0.67555556 0.85777778 1.11111111]\n",
            "   [0.66222222 0.83111111 1.08888889]\n",
            "   [0.64888889 0.82666667 1.08      ]]\n",
            "\n",
            "  [[0.40888889 0.58222222 0.85333333]\n",
            "   [0.44444444 0.60888889 0.88444444]\n",
            "   [0.48       0.64888889 0.93333333]\n",
            "   ...\n",
            "   [0.66222222 0.84       1.08888889]\n",
            "   [0.64888889 0.82222222 1.06222222]\n",
            "   [0.64       0.81333333 1.06222222]]\n",
            "\n",
            "  [[0.42666667 0.57777778 0.80888889]\n",
            "   [0.46666667 0.61333333 0.86222222]\n",
            "   [0.50666667 0.65777778 0.92444444]\n",
            "   ...\n",
            "   [0.69333333 0.84888889 1.06222222]\n",
            "   [0.68       0.83555556 1.04      ]\n",
            "   [0.66666667 0.81777778 1.05333333]]]\n",
            "\n",
            "\n",
            " ...\n",
            "\n",
            "\n",
            " [[[0.56444444 0.55111111 0.56888889]\n",
            "   [0.58222222 0.56444444 0.57333333]\n",
            "   [0.58222222 0.55555556 0.56444444]\n",
            "   ...\n",
            "   [0.89777778 0.89777778 0.88      ]\n",
            "   [0.87555556 0.87111111 0.85333333]\n",
            "   [0.84888889 0.84444444 0.82666667]]\n",
            "\n",
            "  [[0.56888889 0.54666667 0.54222222]\n",
            "   [0.57333333 0.54666667 0.54666667]\n",
            "   [0.56444444 0.52444444 0.52888889]\n",
            "   ...\n",
            "   [0.92444444 0.92888889 0.91555556]\n",
            "   [0.90666667 0.90666667 0.88888889]\n",
            "   [0.88       0.88       0.85777778]]\n",
            "\n",
            "  [[0.56       0.52       0.52444444]\n",
            "   [0.53777778 0.48888889 0.48888889]\n",
            "   [0.51555556 0.44444444 0.44444444]\n",
            "   ...\n",
            "   [0.94222222 0.95111111 0.94222222]\n",
            "   [0.92888889 0.93333333 0.92444444]\n",
            "   [0.90666667 0.91111111 0.88888889]]\n",
            "\n",
            "  ...\n",
            "\n",
            "  [[0.67111111 0.56444444 0.56      ]\n",
            "   [0.69333333 0.59111111 0.6       ]\n",
            "   [0.72       0.61333333 0.62222222]\n",
            "   ...\n",
            "   [0.96       1.00888889 1.01777778]\n",
            "   [0.95111111 1.         1.00888889]\n",
            "   [0.93777778 0.98666667 0.99555556]]\n",
            "\n",
            "  [[0.66222222 0.56888889 0.56      ]\n",
            "   [0.68888889 0.6        0.6       ]\n",
            "   [0.71555556 0.62666667 0.63111111]\n",
            "   ...\n",
            "   [0.94666667 1.         1.01333333]\n",
            "   [0.93333333 0.99111111 0.99555556]\n",
            "   [0.92       0.97777778 0.98666667]]\n",
            "\n",
            "  [[0.64444444 0.56888889 0.56444444]\n",
            "   [0.67555556 0.6        0.6       ]\n",
            "   [0.70222222 0.63111111 0.63111111]\n",
            "   ...\n",
            "   [0.93777778 0.98666667 0.99555556]\n",
            "   [0.92       0.97777778 0.98666667]\n",
            "   [0.90666667 0.96888889 0.97333333]]]\n",
            "\n",
            "\n",
            " [[[0.61777778 0.52444444 0.58666667]\n",
            "   [0.62666667 0.52888889 0.59111111]\n",
            "   [0.64       0.54222222 0.60444444]\n",
            "   ...\n",
            "   [0.58666667 0.53333333 0.54666667]\n",
            "   [0.57333333 0.52444444 0.52888889]\n",
            "   [0.55555556 0.50222222 0.51111111]]\n",
            "\n",
            "  [[0.62666667 0.52888889 0.59555556]\n",
            "   [0.64       0.53777778 0.60888889]\n",
            "   [0.65333333 0.55555556 0.62666667]\n",
            "   ...\n",
            "   [0.60444444 0.53777778 0.56      ]\n",
            "   [0.58666667 0.52888889 0.54222222]\n",
            "   [0.56888889 0.51555556 0.52444444]]\n",
            "\n",
            "  [[0.64444444 0.54666667 0.61777778]\n",
            "   [0.65777778 0.56444444 0.63111111]\n",
            "   [0.66666667 0.57777778 0.64444444]\n",
            "   ...\n",
            "   [0.61777778 0.53777778 0.56444444]\n",
            "   [0.6        0.52888889 0.55111111]\n",
            "   [0.58222222 0.52444444 0.53333333]]\n",
            "\n",
            "  ...\n",
            "\n",
            "  [[0.62222222 0.60444444 0.69777778]\n",
            "   [0.62222222 0.60888889 0.70666667]\n",
            "   [0.63555556 0.62666667 0.72888889]\n",
            "   ...\n",
            "   [0.60444444 0.51111111 0.56888889]\n",
            "   [0.58666667 0.49777778 0.55555556]\n",
            "   [0.56888889 0.47555556 0.54222222]]\n",
            "\n",
            "  [[0.60444444 0.57777778 0.66666667]\n",
            "   [0.61777778 0.60888889 0.70666667]\n",
            "   [0.63111111 0.62222222 0.72444444]\n",
            "   ...\n",
            "   [0.58666667 0.49333333 0.56      ]\n",
            "   [0.56888889 0.48       0.53777778]\n",
            "   [0.54666667 0.45333333 0.52      ]]\n",
            "\n",
            "  [[0.59555556 0.56444444 0.64888889]\n",
            "   [0.61333333 0.59555556 0.68888889]\n",
            "   [0.62222222 0.61333333 0.70666667]\n",
            "   ...\n",
            "   [0.57333333 0.48       0.54666667]\n",
            "   [0.54666667 0.45777778 0.51555556]\n",
            "   [0.52444444 0.43555556 0.48888889]]]\n",
            "\n",
            "\n",
            " [[[0.94222222 0.96444444 0.97333333]\n",
            "   [0.95111111 0.98666667 0.99555556]\n",
            "   [0.95111111 0.98222222 0.99111111]\n",
            "   ...\n",
            "   [0.92444444 0.94666667 0.96      ]\n",
            "   [0.92       0.93777778 0.94666667]\n",
            "   [0.92       0.93333333 0.93777778]]\n",
            "\n",
            "  [[0.94222222 0.96       0.96      ]\n",
            "   [0.94666667 0.98222222 0.99111111]\n",
            "   [0.95111111 0.99111111 1.        ]\n",
            "   ...\n",
            "   [0.92444444 0.94222222 0.95111111]\n",
            "   [0.91555556 0.93777778 0.95111111]\n",
            "   [0.91555556 0.92888889 0.93333333]]\n",
            "\n",
            "  [[0.93777778 0.95111111 0.93777778]\n",
            "   [0.95111111 0.97777778 0.97333333]\n",
            "   [0.95111111 0.99111111 1.        ]\n",
            "   ...\n",
            "   [0.92       0.93333333 0.93777778]\n",
            "   [0.92       0.93333333 0.94222222]\n",
            "   [0.91555556 0.93333333 0.93777778]]\n",
            "\n",
            "  ...\n",
            "\n",
            "  [[0.93777778 0.92888889 0.94222222]\n",
            "   [0.93777778 0.91555556 0.92444444]\n",
            "   [0.92444444 0.89333333 0.89777778]\n",
            "   ...\n",
            "   [0.88888889 0.88888889 0.88888889]\n",
            "   [0.88       0.87555556 0.86666667]\n",
            "   [0.88444444 0.88444444 0.87111111]]\n",
            "\n",
            "  [[0.94222222 0.93777778 0.96      ]\n",
            "   [0.93777778 0.92444444 0.94222222]\n",
            "   [0.92       0.87111111 0.88444444]\n",
            "   ...\n",
            "   [0.88       0.88       0.86666667]\n",
            "   [0.86222222 0.85333333 0.82666667]\n",
            "   [0.87111111 0.86222222 0.83111111]]\n",
            "\n",
            "  [[0.94666667 0.95555556 0.97333333]\n",
            "   [0.93777778 0.92888889 0.95555556]\n",
            "   [0.92444444 0.88888889 0.91111111]\n",
            "   ...\n",
            "   [0.88888889 0.88444444 0.87555556]\n",
            "   [0.88       0.87555556 0.85777778]\n",
            "   [0.88       0.88444444 0.86222222]]]]\n"
          ]
        }
      ],
      "source": [
        "print(x)"
      ]
    },
    {
      "cell_type": "code",
      "execution_count": null,
      "metadata": {
        "colab": {
          "base_uri": "https://localhost:8080/"
        },
        "id": "ozgaS-ebb6Gp",
        "outputId": "83b71107-d1cb-4df6-e140-ee8cbfa4662c"
      },
      "outputs": [
        {
          "output_type": "stream",
          "name": "stdout",
          "text": [
            "[[0. 0. 0. ... 1. 0. 0.]\n",
            " [0. 0. 0. ... 1. 0. 0.]\n",
            " [0. 0. 0. ... 0. 0. 0.]\n",
            " ...\n",
            " [0. 0. 0. ... 0. 0. 0.]\n",
            " [0. 0. 0. ... 1. 0. 0.]\n",
            " [0. 0. 1. ... 0. 0. 0.]]\n"
          ]
        }
      ],
      "source": [
        "print(y_cat)"
      ]
    },
    {
      "cell_type": "code",
      "execution_count": null,
      "metadata": {
        "id": "FDGHjyNlduCq"
      },
      "outputs": [],
      "source": [
        "random_seed=42\n",
        "x_train,x_test,y_train,y_test=train_test_split(x,y_cat,test_size=0.3,random_state=42)"
      ]
    },
    {
      "cell_type": "code",
      "execution_count": null,
      "metadata": {
        "id": "mDqOsoi7RYKR"
      },
      "outputs": [],
      "source": [
        "from keras.models import Sequential, Model\n",
        "from keras.layers import Dense, Dropout, Flatten, Conv2D, MaxPool2D\n",
        "from keras.optimizers import Adam, RMSprop"
      ]
    },
    {
      "cell_type": "markdown",
      "metadata": {
        "id": "qNKbZLDora6I"
      },
      "source": [
        "BASIC CNN"
      ]
    },
    {
      "cell_type": "code",
      "execution_count": null,
      "metadata": {
        "id": "0jjzGtPJDdcg"
      },
      "outputs": [],
      "source": [
        "def build_cnn_model(input_shape = (75, 75, 3), num_classes=2):\n",
        "    model = Sequential()\n",
        "\n",
        "    model.add(Conv2D(32, kernel_size=(3,3), padding='Same', input_shape = input_shape, activation='relu', kernel_initializer = 'glorot_uniform'))\n",
        "    model.add(MaxPool2D(pool_size = (2,2)))\n",
        "\n",
        "\n",
        "\n",
        "    model.add(Conv2D(32, kernel_size=(4,4), padding='Same', activation='relu', kernel_initializer = 'glorot_uniform'))\n",
        "    model.add(MaxPool2D(pool_size=(2,2)))\n",
        "\n",
        "    model.add(Conv2D(64, kernel_size=(3,3), padding='Same', activation='relu', kernel_initializer = 'glorot_uniform'))\n",
        "    model.add(MaxPool2D(pool_size=(2,2)))\n",
        "    model.add(Flatten())\n",
        "    model.add(Dense(64, activation='relu', kernel_initializer='normal'))\n",
        "    model.add(Dense(8, activation = 'softmax'))\n",
        "    model.summary()\n",
        "    optimizer= Adam(lr=0.001)\n",
        "\n",
        "    model.compile(optimizer = optimizer, loss='categorical_crossentropy', metrics=[\"accuracy\"])\n",
        "\n",
        "    return model"
      ]
    },
    {
      "cell_type": "code",
      "execution_count": null,
      "metadata": {
        "colab": {
          "base_uri": "https://localhost:8080/"
        },
        "id": "04VnzaF0Qv7Z",
        "outputId": "7a1502e3-a784-4f45-e25c-9893e68d227e"
      },
      "outputs": [
        {
          "output_type": "stream",
          "name": "stdout",
          "text": [
            "Model: \"sequential\"\n",
            "_________________________________________________________________\n",
            " Layer (type)                Output Shape              Param #   \n",
            "=================================================================\n",
            " conv2d (Conv2D)             (None, 75, 75, 32)        896       \n",
            "                                                                 \n",
            " max_pooling2d (MaxPooling2D  (None, 37, 37, 32)       0         \n",
            " )                                                               \n",
            "                                                                 \n",
            " conv2d_1 (Conv2D)           (None, 37, 37, 32)        16416     \n",
            "                                                                 \n",
            " max_pooling2d_1 (MaxPooling  (None, 18, 18, 32)       0         \n",
            " 2D)                                                             \n",
            "                                                                 \n",
            " conv2d_2 (Conv2D)           (None, 18, 18, 64)        18496     \n",
            "                                                                 \n",
            " max_pooling2d_2 (MaxPooling  (None, 9, 9, 64)         0         \n",
            " 2D)                                                             \n",
            "                                                                 \n",
            " flatten (Flatten)           (None, 5184)              0         \n",
            "                                                                 \n",
            " dense (Dense)               (None, 64)                331840    \n",
            "                                                                 \n",
            " dense_1 (Dense)             (None, 8)                 520       \n",
            "                                                                 \n",
            "=================================================================\n",
            "Total params: 368,168\n",
            "Trainable params: 368,168\n",
            "Non-trainable params: 0\n",
            "_________________________________________________________________\n"
          ]
        }
      ],
      "source": [
        "model_cnn = build_cnn_model()"
      ]
    },
    {
      "cell_type": "code",
      "execution_count": null,
      "metadata": {
        "colab": {
          "base_uri": "https://localhost:8080/"
        },
        "id": "7FsOG3fFQ7AN",
        "outputId": "5bfcacec-8b72-4c72-f0e0-5c357776d232"
      },
      "outputs": [
        {
          "output_type": "stream",
          "name": "stdout",
          "text": [
            "Epoch 1/50\n",
            "278/278 [==============================] - ETA: 0s - loss: 1.2758 - accuracy: 0.5427"
          ]
        },
        {
          "output_type": "stream",
          "name": "stderr",
          "text": [
            "WARNING:tensorflow:Learning rate reduction is conditioned on metric `val_acc` which is not available. Available metrics are: loss,accuracy,val_loss,val_accuracy,lr\n"
          ]
        },
        {
          "output_type": "stream",
          "name": "stdout",
          "text": [
            "\b\b\b\b\b\b\b\b\b\b\b\b\b\b\b\b\b\b\b\b\b\b\b\b\b\b\b\b\b\b\b\b\b\b\b\b\b\b\b\b\b\b\b\b\b\b\b\b\b\b\b\b\b\b\b\b\b\b\b\b\b\b\b\b\b\b\b\b\b\b\b\b\b\b\b\b\b\b\b\b\b\b\b\b\r278/278 [==============================] - 12s 11ms/step - loss: 1.2758 - accuracy: 0.5427 - val_loss: 1.1927 - val_accuracy: 0.5746 - lr: 0.0010\n",
            "Epoch 2/50\n",
            "271/278 [============================>.] - ETA: 0s - loss: 1.1530 - accuracy: 0.5856"
          ]
        },
        {
          "output_type": "stream",
          "name": "stderr",
          "text": [
            "WARNING:tensorflow:Learning rate reduction is conditioned on metric `val_acc` which is not available. Available metrics are: loss,accuracy,val_loss,val_accuracy,lr\n"
          ]
        },
        {
          "output_type": "stream",
          "name": "stdout",
          "text": [
            "\b\b\b\b\b\b\b\b\b\b\b\b\b\b\b\b\b\b\b\b\b\b\b\b\b\b\b\b\b\b\b\b\b\b\b\b\b\b\b\b\b\b\b\b\b\b\b\b\b\b\b\b\b\b\b\b\b\b\b\b\b\b\b\b\b\b\b\b\b\b\b\b\b\b\b\b\b\b\b\b\b\b\b\b\r278/278 [==============================] - 2s 7ms/step - loss: 1.1537 - accuracy: 0.5852 - val_loss: 1.1119 - val_accuracy: 0.5979 - lr: 0.0010\n",
            "Epoch 3/50\n",
            "271/278 [============================>.] - ETA: 0s - loss: 1.1045 - accuracy: 0.6012"
          ]
        },
        {
          "output_type": "stream",
          "name": "stderr",
          "text": [
            "WARNING:tensorflow:Learning rate reduction is conditioned on metric `val_acc` which is not available. Available metrics are: loss,accuracy,val_loss,val_accuracy,lr\n"
          ]
        },
        {
          "output_type": "stream",
          "name": "stdout",
          "text": [
            "\b\b\b\b\b\b\b\b\b\b\b\b\b\b\b\b\b\b\b\b\b\b\b\b\b\b\b\b\b\b\b\b\b\b\b\b\b\b\b\b\b\b\b\b\b\b\b\b\b\b\b\b\b\b\b\b\b\b\b\b\b\b\b\b\b\b\b\b\b\b\b\b\b\b\b\b\b\b\b\b\b\b\b\b\r278/278 [==============================] - 2s 7ms/step - loss: 1.1041 - accuracy: 0.6018 - val_loss: 1.0853 - val_accuracy: 0.6068 - lr: 0.0010\n",
            "Epoch 4/50\n",
            "272/278 [============================>.] - ETA: 0s - loss: 1.0587 - accuracy: 0.6147"
          ]
        },
        {
          "output_type": "stream",
          "name": "stderr",
          "text": [
            "WARNING:tensorflow:Learning rate reduction is conditioned on metric `val_acc` which is not available. Available metrics are: loss,accuracy,val_loss,val_accuracy,lr\n"
          ]
        },
        {
          "output_type": "stream",
          "name": "stdout",
          "text": [
            "\b\b\b\b\b\b\b\b\b\b\b\b\b\b\b\b\b\b\b\b\b\b\b\b\b\b\b\b\b\b\b\b\b\b\b\b\b\b\b\b\b\b\b\b\b\b\b\b\b\b\b\b\b\b\b\b\b\b\b\b\b\b\b\b\b\b\b\b\b\b\b\b\b\b\b\b\b\b\b\b\b\b\b\b\r278/278 [==============================] - 2s 7ms/step - loss: 1.0586 - accuracy: 0.6151 - val_loss: 1.0721 - val_accuracy: 0.6174 - lr: 0.0010\n",
            "Epoch 5/50\n",
            "271/278 [============================>.] - ETA: 0s - loss: 1.0296 - accuracy: 0.6265"
          ]
        },
        {
          "output_type": "stream",
          "name": "stderr",
          "text": [
            "WARNING:tensorflow:Learning rate reduction is conditioned on metric `val_acc` which is not available. Available metrics are: loss,accuracy,val_loss,val_accuracy,lr\n"
          ]
        },
        {
          "output_type": "stream",
          "name": "stdout",
          "text": [
            "\b\b\b\b\b\b\b\b\b\b\b\b\b\b\b\b\b\b\b\b\b\b\b\b\b\b\b\b\b\b\b\b\b\b\b\b\b\b\b\b\b\b\b\b\b\b\b\b\b\b\b\b\b\b\b\b\b\b\b\b\b\b\b\b\b\b\b\b\b\b\b\b\b\b\b\b\b\b\b\b\b\b\b\b\r278/278 [==============================] - 2s 7ms/step - loss: 1.0312 - accuracy: 0.6257 - val_loss: 1.0448 - val_accuracy: 0.6297 - lr: 0.0010\n",
            "Epoch 6/50\n",
            "274/278 [============================>.] - ETA: 0s - loss: 0.9867 - accuracy: 0.6427"
          ]
        },
        {
          "output_type": "stream",
          "name": "stderr",
          "text": [
            "WARNING:tensorflow:Learning rate reduction is conditioned on metric `val_acc` which is not available. Available metrics are: loss,accuracy,val_loss,val_accuracy,lr\n"
          ]
        },
        {
          "output_type": "stream",
          "name": "stdout",
          "text": [
            "\b\b\b\b\b\b\b\b\b\b\b\b\b\b\b\b\b\b\b\b\b\b\b\b\b\b\b\b\b\b\b\b\b\b\b\b\b\b\b\b\b\b\b\b\b\b\b\b\b\b\b\b\b\b\b\b\b\b\b\b\b\b\b\b\b\b\b\b\b\b\b\b\b\b\b\b\b\b\b\b\b\b\b\b\r278/278 [==============================] - 2s 7ms/step - loss: 0.9869 - accuracy: 0.6426 - val_loss: 1.0084 - val_accuracy: 0.6388 - lr: 0.0010\n",
            "Epoch 7/50\n",
            "277/278 [============================>.] - ETA: 0s - loss: 0.9495 - accuracy: 0.6522"
          ]
        },
        {
          "output_type": "stream",
          "name": "stderr",
          "text": [
            "WARNING:tensorflow:Learning rate reduction is conditioned on metric `val_acc` which is not available. Available metrics are: loss,accuracy,val_loss,val_accuracy,lr\n"
          ]
        },
        {
          "output_type": "stream",
          "name": "stdout",
          "text": [
            "\b\b\b\b\b\b\b\b\b\b\b\b\b\b\b\b\b\b\b\b\b\b\b\b\b\b\b\b\b\b\b\b\b\b\b\b\b\b\b\b\b\b\b\b\b\b\b\b\b\b\b\b\b\b\b\b\b\b\b\b\b\b\b\b\b\b\b\b\b\b\b\b\b\b\b\b\b\b\b\b\b\b\b\b\r278/278 [==============================] - 2s 8ms/step - loss: 0.9495 - accuracy: 0.6523 - val_loss: 1.0416 - val_accuracy: 0.6272 - lr: 0.0010\n",
            "Epoch 8/50\n",
            "271/278 [============================>.] - ETA: 0s - loss: 0.9303 - accuracy: 0.6591"
          ]
        },
        {
          "output_type": "stream",
          "name": "stderr",
          "text": [
            "WARNING:tensorflow:Learning rate reduction is conditioned on metric `val_acc` which is not available. Available metrics are: loss,accuracy,val_loss,val_accuracy,lr\n"
          ]
        },
        {
          "output_type": "stream",
          "name": "stdout",
          "text": [
            "\b\b\b\b\b\b\b\b\b\b\b\b\b\b\b\b\b\b\b\b\b\b\b\b\b\b\b\b\b\b\b\b\b\b\b\b\b\b\b\b\b\b\b\b\b\b\b\b\b\b\b\b\b\b\b\b\b\b\b\b\b\b\b\b\b\b\b\b\b\b\b\b\b\b\b\b\b\b\b\b\b\b\b\b\r278/278 [==============================] - 2s 8ms/step - loss: 0.9287 - accuracy: 0.6600 - val_loss: 1.0137 - val_accuracy: 0.6332 - lr: 0.0010\n",
            "Epoch 9/50\n",
            "278/278 [==============================] - ETA: 0s - loss: 0.8842 - accuracy: 0.6786"
          ]
        },
        {
          "output_type": "stream",
          "name": "stderr",
          "text": [
            "WARNING:tensorflow:Learning rate reduction is conditioned on metric `val_acc` which is not available. Available metrics are: loss,accuracy,val_loss,val_accuracy,lr\n"
          ]
        },
        {
          "output_type": "stream",
          "name": "stdout",
          "text": [
            "\b\b\b\b\b\b\b\b\b\b\b\b\b\b\b\b\b\b\b\b\b\b\b\b\b\b\b\b\b\b\b\b\b\b\b\b\b\b\b\b\b\b\b\b\b\b\b\b\b\b\b\b\b\b\b\b\b\b\b\b\b\b\b\b\b\b\b\b\b\b\b\b\b\b\b\b\b\b\b\b\b\b\b\b\r278/278 [==============================] - 2s 8ms/step - loss: 0.8842 - accuracy: 0.6786 - val_loss: 1.0181 - val_accuracy: 0.6407 - lr: 0.0010\n",
            "Epoch 10/50\n",
            "271/278 [============================>.] - ETA: 0s - loss: 0.8644 - accuracy: 0.6846"
          ]
        },
        {
          "output_type": "stream",
          "name": "stderr",
          "text": [
            "WARNING:tensorflow:Learning rate reduction is conditioned on metric `val_acc` which is not available. Available metrics are: loss,accuracy,val_loss,val_accuracy,lr\n"
          ]
        },
        {
          "output_type": "stream",
          "name": "stdout",
          "text": [
            "\b\b\b\b\b\b\b\b\b\b\b\b\b\b\b\b\b\b\b\b\b\b\b\b\b\b\b\b\b\b\b\b\b\b\b\b\b\b\b\b\b\b\b\b\b\b\b\b\b\b\b\b\b\b\b\b\b\b\b\b\b\b\b\b\b\b\b\b\b\b\b\b\b\b\b\b\b\b\b\b\b\b\b\b\r278/278 [==============================] - 2s 8ms/step - loss: 0.8636 - accuracy: 0.6851 - val_loss: 1.0075 - val_accuracy: 0.6430 - lr: 0.0010\n",
            "Epoch 11/50\n",
            "271/278 [============================>.] - ETA: 0s - loss: 0.8016 - accuracy: 0.7057"
          ]
        },
        {
          "output_type": "stream",
          "name": "stderr",
          "text": [
            "WARNING:tensorflow:Learning rate reduction is conditioned on metric `val_acc` which is not available. Available metrics are: loss,accuracy,val_loss,val_accuracy,lr\n"
          ]
        },
        {
          "output_type": "stream",
          "name": "stdout",
          "text": [
            "\b\b\b\b\b\b\b\b\b\b\b\b\b\b\b\b\b\b\b\b\b\b\b\b\b\b\b\b\b\b\b\b\b\b\b\b\b\b\b\b\b\b\b\b\b\b\b\b\b\b\b\b\b\b\b\b\b\b\b\b\b\b\b\b\b\b\b\b\b\b\b\b\b\b\b\b\b\b\b\b\b\b\b\b\r278/278 [==============================] - 2s 8ms/step - loss: 0.7992 - accuracy: 0.7067 - val_loss: 1.0766 - val_accuracy: 0.6350 - lr: 0.0010\n",
            "Epoch 12/50\n",
            "270/278 [============================>.] - ETA: 0s - loss: 0.7557 - accuracy: 0.7231"
          ]
        },
        {
          "output_type": "stream",
          "name": "stderr",
          "text": [
            "WARNING:tensorflow:Learning rate reduction is conditioned on metric `val_acc` which is not available. Available metrics are: loss,accuracy,val_loss,val_accuracy,lr\n"
          ]
        },
        {
          "output_type": "stream",
          "name": "stdout",
          "text": [
            "\b\b\b\b\b\b\b\b\b\b\b\b\b\b\b\b\b\b\b\b\b\b\b\b\b\b\b\b\b\b\b\b\b\b\b\b\b\b\b\b\b\b\b\b\b\b\b\b\b\b\b\b\b\b\b\b\b\b\b\b\b\b\b\b\b\b\b\b\b\b\b\b\b\b\b\b\b\b\b\b\b\b\b\b\r278/278 [==============================] - 2s 8ms/step - loss: 0.7573 - accuracy: 0.7230 - val_loss: 1.0573 - val_accuracy: 0.6395 - lr: 0.0010\n",
            "Epoch 13/50\n",
            "271/278 [============================>.] - ETA: 0s - loss: 0.7079 - accuracy: 0.7395"
          ]
        },
        {
          "output_type": "stream",
          "name": "stderr",
          "text": [
            "WARNING:tensorflow:Learning rate reduction is conditioned on metric `val_acc` which is not available. Available metrics are: loss,accuracy,val_loss,val_accuracy,lr\n"
          ]
        },
        {
          "output_type": "stream",
          "name": "stdout",
          "text": [
            "\b\b\b\b\b\b\b\b\b\b\b\b\b\b\b\b\b\b\b\b\b\b\b\b\b\b\b\b\b\b\b\b\b\b\b\b\b\b\b\b\b\b\b\b\b\b\b\b\b\b\b\b\b\b\b\b\b\b\b\b\b\b\b\b\b\b\b\b\b\b\b\b\b\b\b\b\b\b\b\b\b\b\b\b\r278/278 [==============================] - 2s 8ms/step - loss: 0.7082 - accuracy: 0.7395 - val_loss: 1.0882 - val_accuracy: 0.6470 - lr: 0.0010\n",
            "Epoch 14/50\n",
            "271/278 [============================>.] - ETA: 0s - loss: 0.6537 - accuracy: 0.7602"
          ]
        },
        {
          "output_type": "stream",
          "name": "stderr",
          "text": [
            "WARNING:tensorflow:Learning rate reduction is conditioned on metric `val_acc` which is not available. Available metrics are: loss,accuracy,val_loss,val_accuracy,lr\n"
          ]
        },
        {
          "output_type": "stream",
          "name": "stdout",
          "text": [
            "\b\b\b\b\b\b\b\b\b\b\b\b\b\b\b\b\b\b\b\b\b\b\b\b\b\b\b\b\b\b\b\b\b\b\b\b\b\b\b\b\b\b\b\b\b\b\b\b\b\b\b\b\b\b\b\b\b\b\b\b\b\b\b\b\b\b\b\b\b\b\b\b\b\b\b\b\b\b\b\b\b\b\b\b\r278/278 [==============================] - 2s 8ms/step - loss: 0.6554 - accuracy: 0.7589 - val_loss: 1.1790 - val_accuracy: 0.6329 - lr: 0.0010\n",
            "Epoch 15/50\n",
            "270/278 [============================>.] - ETA: 0s - loss: 0.6133 - accuracy: 0.7740"
          ]
        },
        {
          "output_type": "stream",
          "name": "stderr",
          "text": [
            "WARNING:tensorflow:Learning rate reduction is conditioned on metric `val_acc` which is not available. Available metrics are: loss,accuracy,val_loss,val_accuracy,lr\n"
          ]
        },
        {
          "output_type": "stream",
          "name": "stdout",
          "text": [
            "\b\b\b\b\b\b\b\b\b\b\b\b\b\b\b\b\b\b\b\b\b\b\b\b\b\b\b\b\b\b\b\b\b\b\b\b\b\b\b\b\b\b\b\b\b\b\b\b\b\b\b\b\b\b\b\b\b\b\b\b\b\b\b\b\b\b\b\b\b\b\b\b\b\b\b\b\b\b\b\b\b\b\b\b\r278/278 [==============================] - 2s 8ms/step - loss: 0.6136 - accuracy: 0.7740 - val_loss: 1.1847 - val_accuracy: 0.6383 - lr: 0.0010\n",
            "Epoch 16/50\n",
            "271/278 [============================>.] - ETA: 0s - loss: 0.5534 - accuracy: 0.8007"
          ]
        },
        {
          "output_type": "stream",
          "name": "stderr",
          "text": [
            "WARNING:tensorflow:Learning rate reduction is conditioned on metric `val_acc` which is not available. Available metrics are: loss,accuracy,val_loss,val_accuracy,lr\n"
          ]
        },
        {
          "output_type": "stream",
          "name": "stdout",
          "text": [
            "\b\b\b\b\b\b\b\b\b\b\b\b\b\b\b\b\b\b\b\b\b\b\b\b\b\b\b\b\b\b\b\b\b\b\b\b\b\b\b\b\b\b\b\b\b\b\b\b\b\b\b\b\b\b\b\b\b\b\b\b\b\b\b\b\b\b\b\b\b\b\b\b\b\b\b\b\b\b\b\b\b\b\b\b\r278/278 [==============================] - 2s 8ms/step - loss: 0.5512 - accuracy: 0.8011 - val_loss: 1.2767 - val_accuracy: 0.6334 - lr: 0.0010\n",
            "Epoch 17/50\n",
            "278/278 [==============================] - ETA: 0s - loss: 0.4883 - accuracy: 0.8210"
          ]
        },
        {
          "output_type": "stream",
          "name": "stderr",
          "text": [
            "WARNING:tensorflow:Learning rate reduction is conditioned on metric `val_acc` which is not available. Available metrics are: loss,accuracy,val_loss,val_accuracy,lr\n"
          ]
        },
        {
          "output_type": "stream",
          "name": "stdout",
          "text": [
            "\b\b\b\b\b\b\b\b\b\b\b\b\b\b\b\b\b\b\b\b\b\b\b\b\b\b\b\b\b\b\b\b\b\b\b\b\b\b\b\b\b\b\b\b\b\b\b\b\b\b\b\b\b\b\b\b\b\b\b\b\b\b\b\b\b\b\b\b\b\b\b\b\b\b\b\b\b\b\b\b\b\b\b\b\r278/278 [==============================] - 2s 8ms/step - loss: 0.4883 - accuracy: 0.8210 - val_loss: 1.2910 - val_accuracy: 0.6286 - lr: 0.0010\n",
            "Epoch 18/50\n",
            "270/278 [============================>.] - ETA: 0s - loss: 0.4250 - accuracy: 0.8517"
          ]
        },
        {
          "output_type": "stream",
          "name": "stderr",
          "text": [
            "WARNING:tensorflow:Learning rate reduction is conditioned on metric `val_acc` which is not available. Available metrics are: loss,accuracy,val_loss,val_accuracy,lr\n"
          ]
        },
        {
          "output_type": "stream",
          "name": "stdout",
          "text": [
            "\b\b\b\b\b\b\b\b\b\b\b\b\b\b\b\b\b\b\b\b\b\b\b\b\b\b\b\b\b\b\b\b\b\b\b\b\b\b\b\b\b\b\b\b\b\b\b\b\b\b\b\b\b\b\b\b\b\b\b\b\b\b\b\b\b\b\b\b\b\b\b\b\b\b\b\b\b\b\b\b\b\b\b\b\r278/278 [==============================] - 2s 8ms/step - loss: 0.4250 - accuracy: 0.8516 - val_loss: 1.4818 - val_accuracy: 0.6346 - lr: 0.0010\n",
            "Epoch 19/50\n",
            "276/278 [============================>.] - ETA: 0s - loss: 0.3740 - accuracy: 0.8666"
          ]
        },
        {
          "output_type": "stream",
          "name": "stderr",
          "text": [
            "WARNING:tensorflow:Learning rate reduction is conditioned on metric `val_acc` which is not available. Available metrics are: loss,accuracy,val_loss,val_accuracy,lr\n"
          ]
        },
        {
          "output_type": "stream",
          "name": "stdout",
          "text": [
            "\b\b\b\b\b\b\b\b\b\b\b\b\b\b\b\b\b\b\b\b\b\b\b\b\b\b\b\b\b\b\b\b\b\b\b\b\b\b\b\b\b\b\b\b\b\b\b\b\b\b\b\b\b\b\b\b\b\b\b\b\b\b\b\b\b\b\b\b\b\b\b\b\b\b\b\b\b\b\b\b\b\b\b\b\r278/278 [==============================] - 2s 8ms/step - loss: 0.3738 - accuracy: 0.8666 - val_loss: 1.4303 - val_accuracy: 0.6366 - lr: 0.0010\n",
            "Epoch 20/50\n",
            "269/278 [============================>.] - ETA: 0s - loss: 0.3263 - accuracy: 0.8861"
          ]
        },
        {
          "output_type": "stream",
          "name": "stderr",
          "text": [
            "WARNING:tensorflow:Learning rate reduction is conditioned on metric `val_acc` which is not available. Available metrics are: loss,accuracy,val_loss,val_accuracy,lr\n"
          ]
        },
        {
          "output_type": "stream",
          "name": "stdout",
          "text": [
            "\b\b\b\b\b\b\b\b\b\b\b\b\b\b\b\b\b\b\b\b\b\b\b\b\b\b\b\b\b\b\b\b\b\b\b\b\b\b\b\b\b\b\b\b\b\b\b\b\b\b\b\b\b\b\b\b\b\b\b\b\b\b\b\b\b\b\b\b\b\b\b\b\b\b\b\b\b\b\b\b\b\b\b\b\r278/278 [==============================] - 2s 8ms/step - loss: 0.3273 - accuracy: 0.8857 - val_loss: 1.6047 - val_accuracy: 0.6205 - lr: 0.0010\n",
            "Epoch 21/50\n",
            "278/278 [==============================] - ETA: 0s - loss: 0.2822 - accuracy: 0.9005"
          ]
        },
        {
          "output_type": "stream",
          "name": "stderr",
          "text": [
            "WARNING:tensorflow:Learning rate reduction is conditioned on metric `val_acc` which is not available. Available metrics are: loss,accuracy,val_loss,val_accuracy,lr\n"
          ]
        },
        {
          "output_type": "stream",
          "name": "stdout",
          "text": [
            "\b\b\b\b\b\b\b\b\b\b\b\b\b\b\b\b\b\b\b\b\b\b\b\b\b\b\b\b\b\b\b\b\b\b\b\b\b\b\b\b\b\b\b\b\b\b\b\b\b\b\b\b\b\b\b\b\b\b\b\b\b\b\b\b\b\b\b\b\b\b\b\b\b\b\b\b\b\b\b\b\b\b\b\b\r278/278 [==============================] - 2s 8ms/step - loss: 0.2822 - accuracy: 0.9005 - val_loss: 1.6587 - val_accuracy: 0.6262 - lr: 0.0010\n",
            "Epoch 22/50\n",
            "270/278 [============================>.] - ETA: 0s - loss: 0.2529 - accuracy: 0.9119"
          ]
        },
        {
          "output_type": "stream",
          "name": "stderr",
          "text": [
            "WARNING:tensorflow:Learning rate reduction is conditioned on metric `val_acc` which is not available. Available metrics are: loss,accuracy,val_loss,val_accuracy,lr\n"
          ]
        },
        {
          "output_type": "stream",
          "name": "stdout",
          "text": [
            "\b\b\b\b\b\b\b\b\b\b\b\b\b\b\b\b\b\b\b\b\b\b\b\b\b\b\b\b\b\b\b\b\b\b\b\b\b\b\b\b\b\b\b\b\b\b\b\b\b\b\b\b\b\b\b\b\b\b\b\b\b\b\b\b\b\b\b\b\b\b\b\b\b\b\b\b\b\b\b\b\b\b\b\b\r278/278 [==============================] - 2s 8ms/step - loss: 0.2550 - accuracy: 0.9107 - val_loss: 1.8205 - val_accuracy: 0.6325 - lr: 0.0010\n",
            "Epoch 23/50\n",
            "274/278 [============================>.] - ETA: 0s - loss: 0.2180 - accuracy: 0.9237"
          ]
        },
        {
          "output_type": "stream",
          "name": "stderr",
          "text": [
            "WARNING:tensorflow:Learning rate reduction is conditioned on metric `val_acc` which is not available. Available metrics are: loss,accuracy,val_loss,val_accuracy,lr\n"
          ]
        },
        {
          "output_type": "stream",
          "name": "stdout",
          "text": [
            "\b\b\b\b\b\b\b\b\b\b\b\b\b\b\b\b\b\b\b\b\b\b\b\b\b\b\b\b\b\b\b\b\b\b\b\b\b\b\b\b\b\b\b\b\b\b\b\b\b\b\b\b\b\b\b\b\b\b\b\b\b\b\b\b\b\b\b\b\b\b\b\b\b\b\b\b\b\b\b\b\b\b\b\b\r278/278 [==============================] - 2s 7ms/step - loss: 0.2176 - accuracy: 0.9238 - val_loss: 1.9938 - val_accuracy: 0.6270 - lr: 0.0010\n",
            "Epoch 24/50\n",
            "272/278 [============================>.] - ETA: 0s - loss: 0.1921 - accuracy: 0.9325"
          ]
        },
        {
          "output_type": "stream",
          "name": "stderr",
          "text": [
            "WARNING:tensorflow:Learning rate reduction is conditioned on metric `val_acc` which is not available. Available metrics are: loss,accuracy,val_loss,val_accuracy,lr\n"
          ]
        },
        {
          "output_type": "stream",
          "name": "stdout",
          "text": [
            "\b\b\b\b\b\b\b\b\b\b\b\b\b\b\b\b\b\b\b\b\b\b\b\b\b\b\b\b\b\b\b\b\b\b\b\b\b\b\b\b\b\b\b\b\b\b\b\b\b\b\b\b\b\b\b\b\b\b\b\b\b\b\b\b\b\b\b\b\b\b\b\b\b\b\b\b\b\b\b\b\b\b\b\b\r278/278 [==============================] - 2s 7ms/step - loss: 0.1927 - accuracy: 0.9324 - val_loss: 2.0255 - val_accuracy: 0.5991 - lr: 0.0010\n",
            "Epoch 25/50\n",
            "274/278 [============================>.] - ETA: 0s - loss: 0.1627 - accuracy: 0.9432"
          ]
        },
        {
          "output_type": "stream",
          "name": "stderr",
          "text": [
            "WARNING:tensorflow:Learning rate reduction is conditioned on metric `val_acc` which is not available. Available metrics are: loss,accuracy,val_loss,val_accuracy,lr\n"
          ]
        },
        {
          "output_type": "stream",
          "name": "stdout",
          "text": [
            "\b\b\b\b\b\b\b\b\b\b\b\b\b\b\b\b\b\b\b\b\b\b\b\b\b\b\b\b\b\b\b\b\b\b\b\b\b\b\b\b\b\b\b\b\b\b\b\b\b\b\b\b\b\b\b\b\b\b\b\b\b\b\b\b\b\b\b\b\b\b\b\b\b\b\b\b\b\b\b\b\b\b\b\b\r278/278 [==============================] - 2s 7ms/step - loss: 0.1626 - accuracy: 0.9433 - val_loss: 2.2614 - val_accuracy: 0.6225 - lr: 0.0010\n",
            "Epoch 26/50\n",
            "272/278 [============================>.] - ETA: 0s - loss: 0.1311 - accuracy: 0.9559"
          ]
        },
        {
          "output_type": "stream",
          "name": "stderr",
          "text": [
            "WARNING:tensorflow:Learning rate reduction is conditioned on metric `val_acc` which is not available. Available metrics are: loss,accuracy,val_loss,val_accuracy,lr\n"
          ]
        },
        {
          "output_type": "stream",
          "name": "stdout",
          "text": [
            "\b\b\b\b\b\b\b\b\b\b\b\b\b\b\b\b\b\b\b\b\b\b\b\b\b\b\b\b\b\b\b\b\b\b\b\b\b\b\b\b\b\b\b\b\b\b\b\b\b\b\b\b\b\b\b\b\b\b\b\b\b\b\b\b\b\b\b\b\b\b\b\b\b\b\b\b\b\b\b\b\b\b\b\b\r278/278 [==============================] - 2s 7ms/step - loss: 0.1313 - accuracy: 0.9559 - val_loss: 2.5314 - val_accuracy: 0.6183 - lr: 0.0010\n",
            "Epoch 27/50\n",
            "275/278 [============================>.] - ETA: 0s - loss: 0.1481 - accuracy: 0.9477"
          ]
        },
        {
          "output_type": "stream",
          "name": "stderr",
          "text": [
            "WARNING:tensorflow:Learning rate reduction is conditioned on metric `val_acc` which is not available. Available metrics are: loss,accuracy,val_loss,val_accuracy,lr\n"
          ]
        },
        {
          "output_type": "stream",
          "name": "stdout",
          "text": [
            "\b\b\b\b\b\b\b\b\b\b\b\b\b\b\b\b\b\b\b\b\b\b\b\b\b\b\b\b\b\b\b\b\b\b\b\b\b\b\b\b\b\b\b\b\b\b\b\b\b\b\b\b\b\b\b\b\b\b\b\b\b\b\b\b\b\b\b\b\b\b\b\b\b\b\b\b\b\b\b\b\b\b\b\b\r278/278 [==============================] - 2s 7ms/step - loss: 0.1479 - accuracy: 0.9479 - val_loss: 2.5465 - val_accuracy: 0.6232 - lr: 0.0010\n",
            "Epoch 28/50\n",
            "278/278 [==============================] - ETA: 0s - loss: 0.1231 - accuracy: 0.9583"
          ]
        },
        {
          "output_type": "stream",
          "name": "stderr",
          "text": [
            "WARNING:tensorflow:Learning rate reduction is conditioned on metric `val_acc` which is not available. Available metrics are: loss,accuracy,val_loss,val_accuracy,lr\n"
          ]
        },
        {
          "output_type": "stream",
          "name": "stdout",
          "text": [
            "\b\b\b\b\b\b\b\b\b\b\b\b\b\b\b\b\b\b\b\b\b\b\b\b\b\b\b\b\b\b\b\b\b\b\b\b\b\b\b\b\b\b\b\b\b\b\b\b\b\b\b\b\b\b\b\b\b\b\b\b\b\b\b\b\b\b\b\b\b\b\b\b\b\b\b\b\b\b\b\b\b\b\b\b\r278/278 [==============================] - 2s 7ms/step - loss: 0.1231 - accuracy: 0.9583 - val_loss: 2.5915 - val_accuracy: 0.6161 - lr: 0.0010\n",
            "Epoch 29/50\n",
            "271/278 [============================>.] - ETA: 0s - loss: 0.0992 - accuracy: 0.9667"
          ]
        },
        {
          "output_type": "stream",
          "name": "stderr",
          "text": [
            "WARNING:tensorflow:Learning rate reduction is conditioned on metric `val_acc` which is not available. Available metrics are: loss,accuracy,val_loss,val_accuracy,lr\n"
          ]
        },
        {
          "output_type": "stream",
          "name": "stdout",
          "text": [
            "\b\b\b\b\b\b\b\b\b\b\b\b\b\b\b\b\b\b\b\b\b\b\b\b\b\b\b\b\b\b\b\b\b\b\b\b\b\b\b\b\b\b\b\b\b\b\b\b\b\b\b\b\b\b\b\b\b\b\b\b\b\b\b\b\b\b\b\b\b\b\b\b\b\b\b\b\b\b\b\b\b\b\b\b\r278/278 [==============================] - 2s 8ms/step - loss: 0.0992 - accuracy: 0.9668 - val_loss: 2.8002 - val_accuracy: 0.6249 - lr: 0.0010\n",
            "Epoch 30/50\n",
            "276/278 [============================>.] - ETA: 0s - loss: 0.0884 - accuracy: 0.9707"
          ]
        },
        {
          "output_type": "stream",
          "name": "stderr",
          "text": [
            "WARNING:tensorflow:Learning rate reduction is conditioned on metric `val_acc` which is not available. Available metrics are: loss,accuracy,val_loss,val_accuracy,lr\n"
          ]
        },
        {
          "output_type": "stream",
          "name": "stdout",
          "text": [
            "\b\b\b\b\b\b\b\b\b\b\b\b\b\b\b\b\b\b\b\b\b\b\b\b\b\b\b\b\b\b\b\b\b\b\b\b\b\b\b\b\b\b\b\b\b\b\b\b\b\b\b\b\b\b\b\b\b\b\b\b\b\b\b\b\b\b\b\b\b\b\b\b\b\b\b\b\b\b\b\b\b\b\b\b\r278/278 [==============================] - 2s 8ms/step - loss: 0.0894 - accuracy: 0.9704 - val_loss: 3.0435 - val_accuracy: 0.6120 - lr: 0.0010\n",
            "Epoch 31/50\n",
            "278/278 [==============================] - ETA: 0s - loss: 0.1798 - accuracy: 0.9407"
          ]
        },
        {
          "output_type": "stream",
          "name": "stderr",
          "text": [
            "WARNING:tensorflow:Learning rate reduction is conditioned on metric `val_acc` which is not available. Available metrics are: loss,accuracy,val_loss,val_accuracy,lr\n"
          ]
        },
        {
          "output_type": "stream",
          "name": "stdout",
          "text": [
            "\b\b\b\b\b\b\b\b\b\b\b\b\b\b\b\b\b\b\b\b\b\b\b\b\b\b\b\b\b\b\b\b\b\b\b\b\b\b\b\b\b\b\b\b\b\b\b\b\b\b\b\b\b\b\b\b\b\b\b\b\b\b\b\b\b\b\b\b\b\b\b\b\b\b\b\b\b\b\b\b\b\b\b\b\r278/278 [==============================] - 2s 8ms/step - loss: 0.1798 - accuracy: 0.9407 - val_loss: 2.8242 - val_accuracy: 0.6212 - lr: 0.0010\n",
            "Epoch 32/50\n",
            "270/278 [============================>.] - ETA: 0s - loss: 0.0656 - accuracy: 0.9783"
          ]
        },
        {
          "output_type": "stream",
          "name": "stderr",
          "text": [
            "WARNING:tensorflow:Learning rate reduction is conditioned on metric `val_acc` which is not available. Available metrics are: loss,accuracy,val_loss,val_accuracy,lr\n"
          ]
        },
        {
          "output_type": "stream",
          "name": "stdout",
          "text": [
            "\b\b\b\b\b\b\b\b\b\b\b\b\b\b\b\b\b\b\b\b\b\b\b\b\b\b\b\b\b\b\b\b\b\b\b\b\b\b\b\b\b\b\b\b\b\b\b\b\b\b\b\b\b\b\b\b\b\b\b\b\b\b\b\b\b\b\b\b\b\b\b\b\b\b\b\b\b\b\b\b\b\b\b\b\r278/278 [==============================] - 2s 8ms/step - loss: 0.0661 - accuracy: 0.9782 - val_loss: 3.0877 - val_accuracy: 0.6189 - lr: 0.0010\n",
            "Epoch 33/50\n",
            "271/278 [============================>.] - ETA: 0s - loss: 0.0529 - accuracy: 0.9828"
          ]
        },
        {
          "output_type": "stream",
          "name": "stderr",
          "text": [
            "WARNING:tensorflow:Learning rate reduction is conditioned on metric `val_acc` which is not available. Available metrics are: loss,accuracy,val_loss,val_accuracy,lr\n"
          ]
        },
        {
          "output_type": "stream",
          "name": "stdout",
          "text": [
            "\b\b\b\b\b\b\b\b\b\b\b\b\b\b\b\b\b\b\b\b\b\b\b\b\b\b\b\b\b\b\b\b\b\b\b\b\b\b\b\b\b\b\b\b\b\b\b\b\b\b\b\b\b\b\b\b\b\b\b\b\b\b\b\b\b\b\b\b\b\b\b\b\b\b\b\b\b\b\b\b\b\b\b\b\r278/278 [==============================] - 2s 8ms/step - loss: 0.0531 - accuracy: 0.9827 - val_loss: 3.1902 - val_accuracy: 0.6238 - lr: 0.0010\n",
            "Epoch 34/50\n",
            "271/278 [============================>.] - ETA: 0s - loss: 0.0801 - accuracy: 0.9715"
          ]
        },
        {
          "output_type": "stream",
          "name": "stderr",
          "text": [
            "WARNING:tensorflow:Learning rate reduction is conditioned on metric `val_acc` which is not available. Available metrics are: loss,accuracy,val_loss,val_accuracy,lr\n"
          ]
        },
        {
          "output_type": "stream",
          "name": "stdout",
          "text": [
            "\b\b\b\b\b\b\b\b\b\b\b\b\b\b\b\b\b\b\b\b\b\b\b\b\b\b\b\b\b\b\b\b\b\b\b\b\b\b\b\b\b\b\b\b\b\b\b\b\b\b\b\b\b\b\b\b\b\b\b\b\b\b\b\b\b\b\b\b\b\b\b\b\b\b\b\b\b\b\b\b\b\b\b\b\r278/278 [==============================] - 2s 8ms/step - loss: 0.0816 - accuracy: 0.9708 - val_loss: 3.0164 - val_accuracy: 0.6075 - lr: 0.0010\n",
            "Epoch 35/50\n",
            "270/278 [============================>.] - ETA: 0s - loss: 0.0950 - accuracy: 0.9681"
          ]
        },
        {
          "output_type": "stream",
          "name": "stderr",
          "text": [
            "WARNING:tensorflow:Learning rate reduction is conditioned on metric `val_acc` which is not available. Available metrics are: loss,accuracy,val_loss,val_accuracy,lr\n"
          ]
        },
        {
          "output_type": "stream",
          "name": "stdout",
          "text": [
            "\b\b\b\b\b\b\b\b\b\b\b\b\b\b\b\b\b\b\b\b\b\b\b\b\b\b\b\b\b\b\b\b\b\b\b\b\b\b\b\b\b\b\b\b\b\b\b\b\b\b\b\b\b\b\b\b\b\b\b\b\b\b\b\b\b\b\b\b\b\b\b\b\b\b\b\b\b\b\b\b\b\b\b\b\r278/278 [==============================] - 2s 8ms/step - loss: 0.0940 - accuracy: 0.9684 - val_loss: 3.1189 - val_accuracy: 0.6184 - lr: 0.0010\n",
            "Epoch 36/50\n",
            "271/278 [============================>.] - ETA: 0s - loss: 0.0527 - accuracy: 0.9821"
          ]
        },
        {
          "output_type": "stream",
          "name": "stderr",
          "text": [
            "WARNING:tensorflow:Learning rate reduction is conditioned on metric `val_acc` which is not available. Available metrics are: loss,accuracy,val_loss,val_accuracy,lr\n"
          ]
        },
        {
          "output_type": "stream",
          "name": "stdout",
          "text": [
            "\b\b\b\b\b\b\b\b\b\b\b\b\b\b\b\b\b\b\b\b\b\b\b\b\b\b\b\b\b\b\b\b\b\b\b\b\b\b\b\b\b\b\b\b\b\b\b\b\b\b\b\b\b\b\b\b\b\b\b\b\b\b\b\b\b\b\b\b\b\b\b\b\b\b\b\b\b\b\b\b\b\b\b\b\r278/278 [==============================] - 2s 8ms/step - loss: 0.0538 - accuracy: 0.9817 - val_loss: 3.5886 - val_accuracy: 0.6166 - lr: 0.0010\n",
            "Epoch 37/50\n",
            "270/278 [============================>.] - ETA: 0s - loss: 0.0894 - accuracy: 0.9701"
          ]
        },
        {
          "output_type": "stream",
          "name": "stderr",
          "text": [
            "WARNING:tensorflow:Learning rate reduction is conditioned on metric `val_acc` which is not available. Available metrics are: loss,accuracy,val_loss,val_accuracy,lr\n"
          ]
        },
        {
          "output_type": "stream",
          "name": "stdout",
          "text": [
            "\b\b\b\b\b\b\b\b\b\b\b\b\b\b\b\b\b\b\b\b\b\b\b\b\b\b\b\b\b\b\b\b\b\b\b\b\b\b\b\b\b\b\b\b\b\b\b\b\b\b\b\b\b\b\b\b\b\b\b\b\b\b\b\b\b\b\b\b\b\b\b\b\b\b\b\b\b\b\b\b\b\b\b\b\r278/278 [==============================] - 2s 8ms/step - loss: 0.0887 - accuracy: 0.9704 - val_loss: 3.5510 - val_accuracy: 0.6195 - lr: 0.0010\n",
            "Epoch 38/50\n",
            "270/278 [============================>.] - ETA: 0s - loss: 0.1056 - accuracy: 0.9662"
          ]
        },
        {
          "output_type": "stream",
          "name": "stderr",
          "text": [
            "WARNING:tensorflow:Learning rate reduction is conditioned on metric `val_acc` which is not available. Available metrics are: loss,accuracy,val_loss,val_accuracy,lr\n"
          ]
        },
        {
          "output_type": "stream",
          "name": "stdout",
          "text": [
            "\b\b\b\b\b\b\b\b\b\b\b\b\b\b\b\b\b\b\b\b\b\b\b\b\b\b\b\b\b\b\b\b\b\b\b\b\b\b\b\b\b\b\b\b\b\b\b\b\b\b\b\b\b\b\b\b\b\b\b\b\b\b\b\b\b\b\b\b\b\b\b\b\b\b\b\b\b\b\b\b\b\b\b\b\r278/278 [==============================] - 2s 8ms/step - loss: 0.1046 - accuracy: 0.9664 - val_loss: 3.3048 - val_accuracy: 0.6257 - lr: 0.0010\n",
            "Epoch 39/50\n",
            "276/278 [============================>.] - ETA: 0s - loss: 0.0259 - accuracy: 0.9924"
          ]
        },
        {
          "output_type": "stream",
          "name": "stderr",
          "text": [
            "WARNING:tensorflow:Learning rate reduction is conditioned on metric `val_acc` which is not available. Available metrics are: loss,accuracy,val_loss,val_accuracy,lr\n"
          ]
        },
        {
          "output_type": "stream",
          "name": "stdout",
          "text": [
            "\b\b\b\b\b\b\b\b\b\b\b\b\b\b\b\b\b\b\b\b\b\b\b\b\b\b\b\b\b\b\b\b\b\b\b\b\b\b\b\b\b\b\b\b\b\b\b\b\b\b\b\b\b\b\b\b\b\b\b\b\b\b\b\b\b\b\b\b\b\b\b\b\b\b\b\b\b\b\b\b\b\b\b\b\r278/278 [==============================] - 2s 8ms/step - loss: 0.0259 - accuracy: 0.9924 - val_loss: 3.6058 - val_accuracy: 0.6222 - lr: 0.0010\n",
            "Epoch 40/50\n",
            "277/278 [============================>.] - ETA: 0s - loss: 0.0525 - accuracy: 0.9831"
          ]
        },
        {
          "output_type": "stream",
          "name": "stderr",
          "text": [
            "WARNING:tensorflow:Learning rate reduction is conditioned on metric `val_acc` which is not available. Available metrics are: loss,accuracy,val_loss,val_accuracy,lr\n"
          ]
        },
        {
          "output_type": "stream",
          "name": "stdout",
          "text": [
            "\b\b\b\b\b\b\b\b\b\b\b\b\b\b\b\b\b\b\b\b\b\b\b\b\b\b\b\b\b\b\b\b\b\b\b\b\b\b\b\b\b\b\b\b\b\b\b\b\b\b\b\b\b\b\b\b\b\b\b\b\b\b\b\b\b\b\b\b\b\b\b\b\b\b\b\b\b\b\b\b\b\b\b\b\r278/278 [==============================] - 2s 8ms/step - loss: 0.0525 - accuracy: 0.9831 - val_loss: 3.4806 - val_accuracy: 0.6214 - lr: 0.0010\n",
            "Epoch 41/50\n",
            "277/278 [============================>.] - ETA: 0s - loss: 0.0768 - accuracy: 0.9752"
          ]
        },
        {
          "output_type": "stream",
          "name": "stderr",
          "text": [
            "WARNING:tensorflow:Learning rate reduction is conditioned on metric `val_acc` which is not available. Available metrics are: loss,accuracy,val_loss,val_accuracy,lr\n"
          ]
        },
        {
          "output_type": "stream",
          "name": "stdout",
          "text": [
            "\b\b\b\b\b\b\b\b\b\b\b\b\b\b\b\b\b\b\b\b\b\b\b\b\b\b\b\b\b\b\b\b\b\b\b\b\b\b\b\b\b\b\b\b\b\b\b\b\b\b\b\b\b\b\b\b\b\b\b\b\b\b\b\b\b\b\b\b\b\b\b\b\b\b\b\b\b\b\b\b\b\b\b\b\r278/278 [==============================] - 2s 8ms/step - loss: 0.0768 - accuracy: 0.9752 - val_loss: 3.5811 - val_accuracy: 0.6182 - lr: 0.0010\n",
            "Epoch 42/50\n",
            "278/278 [==============================] - ETA: 0s - loss: 0.0421 - accuracy: 0.9864"
          ]
        },
        {
          "output_type": "stream",
          "name": "stderr",
          "text": [
            "WARNING:tensorflow:Learning rate reduction is conditioned on metric `val_acc` which is not available. Available metrics are: loss,accuracy,val_loss,val_accuracy,lr\n"
          ]
        },
        {
          "output_type": "stream",
          "name": "stdout",
          "text": [
            "\b\b\b\b\b\b\b\b\b\b\b\b\b\b\b\b\b\b\b\b\b\b\b\b\b\b\b\b\b\b\b\b\b\b\b\b\b\b\b\b\b\b\b\b\b\b\b\b\b\b\b\b\b\b\b\b\b\b\b\b\b\b\b\b\b\b\b\b\b\b\b\b\b\b\b\b\b\b\b\b\b\b\b\b\r278/278 [==============================] - 2s 8ms/step - loss: 0.0421 - accuracy: 0.9864 - val_loss: 3.7768 - val_accuracy: 0.6189 - lr: 0.0010\n",
            "Epoch 43/50\n",
            "270/278 [============================>.] - ETA: 0s - loss: 0.0520 - accuracy: 0.9833"
          ]
        },
        {
          "output_type": "stream",
          "name": "stderr",
          "text": [
            "WARNING:tensorflow:Learning rate reduction is conditioned on metric `val_acc` which is not available. Available metrics are: loss,accuracy,val_loss,val_accuracy,lr\n"
          ]
        },
        {
          "output_type": "stream",
          "name": "stdout",
          "text": [
            "\b\b\b\b\b\b\b\b\b\b\b\b\b\b\b\b\b\b\b\b\b\b\b\b\b\b\b\b\b\b\b\b\b\b\b\b\b\b\b\b\b\b\b\b\b\b\b\b\b\b\b\b\b\b\b\b\b\b\b\b\b\b\b\b\b\b\b\b\b\b\b\b\b\b\b\b\b\b\b\b\b\b\b\b\r278/278 [==============================] - 2s 8ms/step - loss: 0.0533 - accuracy: 0.9827 - val_loss: 3.7275 - val_accuracy: 0.6128 - lr: 0.0010\n",
            "Epoch 44/50\n",
            "271/278 [============================>.] - ETA: 0s - loss: 0.0515 - accuracy: 0.9829"
          ]
        },
        {
          "output_type": "stream",
          "name": "stderr",
          "text": [
            "WARNING:tensorflow:Learning rate reduction is conditioned on metric `val_acc` which is not available. Available metrics are: loss,accuracy,val_loss,val_accuracy,lr\n"
          ]
        },
        {
          "output_type": "stream",
          "name": "stdout",
          "text": [
            "\b\b\b\b\b\b\b\b\b\b\b\b\b\b\b\b\b\b\b\b\b\b\b\b\b\b\b\b\b\b\b\b\b\b\b\b\b\b\b\b\b\b\b\b\b\b\b\b\b\b\b\b\b\b\b\b\b\b\b\b\b\b\b\b\b\b\b\b\b\b\b\b\b\b\b\b\b\b\b\b\b\b\b\b\r278/278 [==============================] - 2s 7ms/step - loss: 0.0517 - accuracy: 0.9828 - val_loss: 4.1044 - val_accuracy: 0.6278 - lr: 0.0010\n",
            "Epoch 45/50\n",
            "277/278 [============================>.] - ETA: 0s - loss: 0.0814 - accuracy: 0.9727"
          ]
        },
        {
          "output_type": "stream",
          "name": "stderr",
          "text": [
            "WARNING:tensorflow:Learning rate reduction is conditioned on metric `val_acc` which is not available. Available metrics are: loss,accuracy,val_loss,val_accuracy,lr\n"
          ]
        },
        {
          "output_type": "stream",
          "name": "stdout",
          "text": [
            "\b\b\b\b\b\b\b\b\b\b\b\b\b\b\b\b\b\b\b\b\b\b\b\b\b\b\b\b\b\b\b\b\b\b\b\b\b\b\b\b\b\b\b\b\b\b\b\b\b\b\b\b\b\b\b\b\b\b\b\b\b\b\b\b\b\b\b\b\b\b\b\b\b\b\b\b\b\b\b\b\b\b\b\b\r278/278 [==============================] - 2s 7ms/step - loss: 0.0813 - accuracy: 0.9727 - val_loss: 3.7858 - val_accuracy: 0.6218 - lr: 0.0010\n",
            "Epoch 46/50\n",
            "272/278 [============================>.] - ETA: 0s - loss: 0.0719 - accuracy: 0.9781"
          ]
        },
        {
          "output_type": "stream",
          "name": "stderr",
          "text": [
            "WARNING:tensorflow:Learning rate reduction is conditioned on metric `val_acc` which is not available. Available metrics are: loss,accuracy,val_loss,val_accuracy,lr\n"
          ]
        },
        {
          "output_type": "stream",
          "name": "stdout",
          "text": [
            "\b\b\b\b\b\b\b\b\b\b\b\b\b\b\b\b\b\b\b\b\b\b\b\b\b\b\b\b\b\b\b\b\b\b\b\b\b\b\b\b\b\b\b\b\b\b\b\b\b\b\b\b\b\b\b\b\b\b\b\b\b\b\b\b\b\b\b\b\b\b\b\b\b\b\b\b\b\b\b\b\b\b\b\b\r278/278 [==============================] - 2s 7ms/step - loss: 0.0726 - accuracy: 0.9779 - val_loss: 4.0116 - val_accuracy: 0.6208 - lr: 0.0010\n",
            "Epoch 47/50\n",
            "273/278 [============================>.] - ETA: 0s - loss: 0.0636 - accuracy: 0.9800"
          ]
        },
        {
          "output_type": "stream",
          "name": "stderr",
          "text": [
            "WARNING:tensorflow:Learning rate reduction is conditioned on metric `val_acc` which is not available. Available metrics are: loss,accuracy,val_loss,val_accuracy,lr\n"
          ]
        },
        {
          "output_type": "stream",
          "name": "stdout",
          "text": [
            "\b\b\b\b\b\b\b\b\b\b\b\b\b\b\b\b\b\b\b\b\b\b\b\b\b\b\b\b\b\b\b\b\b\b\b\b\b\b\b\b\b\b\b\b\b\b\b\b\b\b\b\b\b\b\b\b\b\b\b\b\b\b\b\b\b\b\b\b\b\b\b\b\b\b\b\b\b\b\b\b\b\b\b\b\r278/278 [==============================] - 2s 7ms/step - loss: 0.0642 - accuracy: 0.9798 - val_loss: 4.0503 - val_accuracy: 0.6093 - lr: 0.0010\n",
            "Epoch 48/50\n",
            "275/278 [============================>.] - ETA: 0s - loss: 0.0610 - accuracy: 0.9802"
          ]
        },
        {
          "output_type": "stream",
          "name": "stderr",
          "text": [
            "WARNING:tensorflow:Learning rate reduction is conditioned on metric `val_acc` which is not available. Available metrics are: loss,accuracy,val_loss,val_accuracy,lr\n"
          ]
        },
        {
          "output_type": "stream",
          "name": "stdout",
          "text": [
            "\b\b\b\b\b\b\b\b\b\b\b\b\b\b\b\b\b\b\b\b\b\b\b\b\b\b\b\b\b\b\b\b\b\b\b\b\b\b\b\b\b\b\b\b\b\b\b\b\b\b\b\b\b\b\b\b\b\b\b\b\b\b\b\b\b\b\b\b\b\b\b\b\b\b\b\b\b\b\b\b\b\b\b\b\r278/278 [==============================] - 2s 7ms/step - loss: 0.0611 - accuracy: 0.9801 - val_loss: 4.0879 - val_accuracy: 0.6209 - lr: 0.0010\n",
            "Epoch 49/50\n",
            "273/278 [============================>.] - ETA: 0s - loss: 0.0264 - accuracy: 0.9924"
          ]
        },
        {
          "output_type": "stream",
          "name": "stderr",
          "text": [
            "WARNING:tensorflow:Learning rate reduction is conditioned on metric `val_acc` which is not available. Available metrics are: loss,accuracy,val_loss,val_accuracy,lr\n"
          ]
        },
        {
          "output_type": "stream",
          "name": "stdout",
          "text": [
            "\b\b\b\b\b\b\b\b\b\b\b\b\b\b\b\b\b\b\b\b\b\b\b\b\b\b\b\b\b\b\b\b\b\b\b\b\b\b\b\b\b\b\b\b\b\b\b\b\b\b\b\b\b\b\b\b\b\b\b\b\b\b\b\b\b\b\b\b\b\b\b\b\b\b\b\b\b\b\b\b\b\b\b\b\r278/278 [==============================] - 2s 7ms/step - loss: 0.0267 - accuracy: 0.9923 - val_loss: 4.0622 - val_accuracy: 0.6138 - lr: 0.0010\n",
            "Epoch 50/50\n",
            "272/278 [============================>.] - ETA: 0s - loss: 0.0347 - accuracy: 0.9889"
          ]
        },
        {
          "output_type": "stream",
          "name": "stderr",
          "text": [
            "WARNING:tensorflow:Learning rate reduction is conditioned on metric `val_acc` which is not available. Available metrics are: loss,accuracy,val_loss,val_accuracy,lr\n"
          ]
        },
        {
          "output_type": "stream",
          "name": "stdout",
          "text": [
            "\b\b\b\b\b\b\b\b\b\b\b\b\b\b\b\b\b\b\b\b\b\b\b\b\b\b\b\b\b\b\b\b\b\b\b\b\b\b\b\b\b\b\b\b\b\b\b\b\b\b\b\b\b\b\b\b\b\b\b\b\b\b\b\b\b\b\b\b\b\b\b\b\b\b\b\b\b\b\b\b\b\b\b\b\r278/278 [==============================] - 2s 7ms/step - loss: 0.0347 - accuracy: 0.9889 - val_loss: 4.1967 - val_accuracy: 0.6196 - lr: 0.0010\n"
          ]
        }
      ],
      "source": [
        "from keras.callbacks import ReduceLROnPlateau\n",
        "\n",
        "learning_rate_annealer = ReduceLROnPlateau(monitor='val_acc',mode='max',\n",
        "                                          patience=3,\n",
        "                                          verbose=1,\n",
        "                                         factor=0.5,\n",
        "                                          min_lr = 1e-4)\n",
        "\n",
        "history = model_cnn.fit(x_train,y_train,\n",
        "                    validation_split=0.2,\n",
        "                    epochs=50,\n",
        "                    batch_size = 64,\n",
        "                    verbose=1,\n",
        "                    callbacks=[learning_rate_annealer],validation_data=(x_test,y_test))"
      ]
    },
    {
      "cell_type": "code",
      "execution_count": null,
      "metadata": {
        "colab": {
          "base_uri": "https://localhost:8080/",
          "height": 573
        },
        "id": "6QA_Aokujv6j",
        "outputId": "41fe7165-e103-472c-e9c8-d87dcd13663c"
      },
      "outputs": [
        {
          "output_type": "display_data",
          "data": {
            "text/plain": [
              "<Figure size 432x288 with 1 Axes>"
            ],
            "image/png": "[encoded data removed]"
          },
          "metadata": {
            "needs_background": "light"
          }
        },
        {
          "output_type": "display_data",
          "data": {
            "text/plain": [
              "<Figure size 432x288 with 1 Axes>"
            ],
            "image/png": "[encoded data removed]"
          },
          "metadata": {
            "needs_background": "light"
          }
        }
      ],
      "source": [
        "plt.plot(history.history['accuracy'])\n",
        "plt.plot(history.history['val_accuracy'])\n",
        "\n",
        "plt.title('Model Accuracy')\n",
        "plt.ylabel('Accuracy')\n",
        "plt.xlabel('Epochs')\n",
        "\n",
        "plt.legend(['Train', 'Val'], loc='upper left')\n",
        "plt.show()\n",
        "\n",
        "\n",
        "plt.plot(history.history['loss'])\n",
        "plt.plot(history.history['val_loss'])\n",
        "plt.title('Model Loss')\n",
        "plt.ylabel('Loss')\n",
        "plt.xlabel('Epochs')\n",
        "\n",
        "plt.legend(['Train', 'Val'], loc='upper left')\n",
        "plt.show()"
      ]
    },
    {
      "cell_type": "code",
      "execution_count": null,
      "metadata": {
        "colab": {
          "base_uri": "https://localhost:8080/"
        },
        "id": "3Y7Z5_XhjxRq",
        "outputId": "193ff53e-0991-440e-841a-72229647c34b"
      },
      "outputs": [
        {
          "output_type": "stream",
          "name": "stdout",
          "text": [
            "Model: \"sequential\"\n",
            "_________________________________________________________________\n",
            " Layer (type)                Output Shape              Param #   \n",
            "=================================================================\n",
            " conv2d (Conv2D)             (None, 75, 75, 32)        896       \n",
            "                                                                 \n",
            " max_pooling2d (MaxPooling2D  (None, 37, 37, 32)       0         \n",
            " )                                                               \n",
            "                                                                 \n",
            " conv2d_1 (Conv2D)           (None, 37, 37, 32)        16416     \n",
            "                                                                 \n",
            " max_pooling2d_1 (MaxPooling  (None, 18, 18, 32)       0         \n",
            " 2D)                                                             \n",
            "                                                                 \n",
            " conv2d_2 (Conv2D)           (None, 18, 18, 64)        18496     \n",
            "                                                                 \n",
            " max_pooling2d_2 (MaxPooling  (None, 9, 9, 64)         0         \n",
            " 2D)                                                             \n",
            "                                                                 \n",
            " flatten (Flatten)           (None, 5184)              0         \n",
            "                                                                 \n",
            " dense (Dense)               (None, 64)                331840    \n",
            "                                                                 \n",
            " dense_1 (Dense)             (None, 8)                 520       \n",
            "                                                                 \n",
            "=================================================================\n",
            "Total params: 368,168\n",
            "Trainable params: 368,168\n",
            "Non-trainable params: 0\n",
            "_________________________________________________________________\n"
          ]
        }
      ],
      "source": [
        "model_cnn.summary()"
      ]
    },
    {
      "cell_type": "code",
      "execution_count": null,
      "metadata": {
        "colab": {
          "base_uri": "https://localhost:8080/",
          "height": 953
        },
        "id": "xBedahzkj039",
        "outputId": "ba4f3da4-1524-4d07-8ce6-06f6a7f20b57"
      },
      "outputs": [
        {
          "output_type": "execute_result",
          "data": {
            "image/png": "[encoded data removed]",
            "text/plain": [
              "<IPython.core.display.Image object>"
            ]
          },
          "metadata": {},
          "execution_count": 26
        }
      ],
      "source": [
        "import tensorflow as tf\n",
        "tf.keras.utils.plot_model(model_cnn)"
      ]
    },
    {
      "cell_type": "markdown",
      "source": [
        "GOOGLE NET"
      ],
      "metadata": {
        "id": "Kf99Xk4xHpYy"
      }
    },
    {
      "cell_type": "code",
      "source": [
        "import keras\n",
        "from keras.applications import InceptionV3 #GoogleNet"
      ],
      "metadata": {
        "id": "YhL2HhpJHcIn"
      },
      "execution_count": null,
      "outputs": []
    },
    {
      "cell_type": "code",
      "source": [
        "model1=InceptionV3(input_shape=(75, 75, 3),weights=\"imagenet\",include_top=False)"
      ],
      "metadata": {
        "id": "jd-OeedBHcFC",
        "colab": {
          "base_uri": "https://localhost:8080/"
        },
        "outputId": "7f38a9cb-7b97-4c2f-c777-c7b0976925dc"
      },
      "execution_count": null,
      "outputs": [
        {
          "output_type": "stream",
          "name": "stdout",
          "text": [
            "Downloading data from https://storage.googleapis.com/tensorflow/keras-applications/inception_v3/inception_v3_weights_tf_dim_ordering_tf_kernels_notop.h5\n",
            "87910968/87910968 [==============================] - 5s 0us/step\n"
          ]
        }
      ]
    },
    {
      "cell_type": "code",
      "source": [
        "def build_cnn_model(input_shape = (75, 75, 3), num_classes=2):\n",
        "  model = Sequential() # layer has 1 i/p and 1 o/p\n",
        "  model.add(model1)\n",
        "  model.add(Flatten())\n",
        "  model.add(keras.layers.Dense(128,activation=\"relu\"))\n",
        "  model.add(keras.layers.Dense(8,activation=\"sigmoid\"))\n",
        "  model.summary()\n",
        "  optimizer= Adam(lr=0.001)\n",
        "\n",
        "  model.compile(optimizer = optimizer, loss='binary_crossentropy', metrics=[\"accuracy\"])\n",
        "\n",
        "  return model"
      ],
      "metadata": {
        "id": "7nIUIYisHcCS"
      },
      "execution_count": null,
      "outputs": []
    },
    {
      "cell_type": "code",
      "source": [
        "model_cnn = build_cnn_model()"
      ],
      "metadata": {
        "colab": {
          "base_uri": "https://localhost:8080/"
        },
        "id": "M2qgz1tHHb_n",
        "outputId": "f77b97c6-3ac1-44e2-d28c-733070fbcaa2"
      },
      "execution_count": null,
      "outputs": [
        {
          "output_type": "stream",
          "name": "stdout",
          "text": [
            "Model: \"sequential_1\"\n",
            "_________________________________________________________________\n",
            " Layer (type)                Output Shape              Param #   \n",
            "=================================================================\n",
            " inception_v3 (Functional)   (None, 1, 1, 2048)        21802784  \n",
            "                                                                 \n",
            " flatten_1 (Flatten)         (None, 2048)              0         \n",
            "                                                                 \n",
            " dense_2 (Dense)             (None, 128)               262272    \n",
            "                                                                 \n",
            " dense_3 (Dense)             (None, 8)                 1032      \n",
            "                                                                 \n",
            "=================================================================\n",
            "Total params: 22,066,088\n",
            "Trainable params: 22,031,656\n",
            "Non-trainable params: 34,432\n",
            "_________________________________________________________________\n"
          ]
        }
      ]
    },
    {
      "cell_type": "code",
      "source": [
        "from keras.callbacks import ReduceLROnPlateau\n",
        "\n",
        "learning_rate_annealer = ReduceLROnPlateau(monitor='val_acc',mode='max',\n",
        "                                          patience=3,\n",
        "                                          verbose=1,\n",
        "                                         factor=0.5,\n",
        "                                          min_lr = 1e-4)\n",
        "\n",
        "history = model_cnn.fit(x_train,\n",
        "                    y_train,\n",
        "                    validation_split=0.2,\n",
        "                    epochs=50,\n",
        "                    batch_size = 64,\n",
        "                    verbose=1,\n",
        "                    callbacks=[learning_rate_annealer],validation_data=(x_test,y_test))"
      ],
      "metadata": {
        "colab": {
          "base_uri": "https://localhost:8080/"
        },
        "id": "yg3vEeQfHb86",
        "outputId": "467cc7fb-7ae5-402a-bbce-99a41c8b7bdd"
      },
      "execution_count": null,
      "outputs": [
        {
          "output_type": "stream",
          "name": "stdout",
          "text": [
            "Epoch 1/50\n",
            "278/278 [==============================] - ETA: 0s - loss: 0.2368 - accuracy: 0.5990"
          ]
        },
        {
          "output_type": "stream",
          "name": "stderr",
          "text": [
            "WARNING:tensorflow:Learning rate reduction is conditioned on metric `val_acc` which is not available. Available metrics are: loss,accuracy,val_loss,val_accuracy,lr\n"
          ]
        },
        {
          "output_type": "stream",
          "name": "stdout",
          "text": [
            "\b\b\b\b\b\b\b\b\b\b\b\b\b\b\b\b\b\b\b\b\b\b\b\b\b\b\b\b\b\b\b\b\b\b\b\b\b\b\b\b\b\b\b\b\b\b\b\b\b\b\b\b\b\b\b\b\b\b\b\b\b\b\b\b\b\b\b\b\b\b\b\b\b\b\b\b\b\b\b\b\b\b\b\b\r278/278 [==============================] - 26s 64ms/step - loss: 0.2368 - accuracy: 0.5990 - val_loss: 0.2553 - val_accuracy: 0.6134 - lr: 0.0010\n",
            "Epoch 2/50\n",
            "278/278 [==============================] - ETA: 0s - loss: 0.2092 - accuracy: 0.6433"
          ]
        },
        {
          "output_type": "stream",
          "name": "stderr",
          "text": [
            "WARNING:tensorflow:Learning rate reduction is conditioned on metric `val_acc` which is not available. Available metrics are: loss,accuracy,val_loss,val_accuracy,lr\n"
          ]
        },
        {
          "output_type": "stream",
          "name": "stdout",
          "text": [
            "\b\b\b\b\b\b\b\b\b\b\b\b\b\b\b\b\b\b\b\b\b\b\b\b\b\b\b\b\b\b\b\b\b\b\b\b\b\b\b\b\b\b\b\b\b\b\b\b\b\b\b\b\b\b\b\b\b\b\b\b\b\b\b\b\b\b\b\b\b\b\b\b\b\b\b\b\b\b\b\b\b\b\b\b\r278/278 [==============================] - 15s 54ms/step - loss: 0.2092 - accuracy: 0.6433 - val_loss: 0.3543 - val_accuracy: 0.6624 - lr: 0.0010\n",
            "Epoch 3/50\n",
            "277/278 [============================>.] - ETA: 0s - loss: 0.1981 - accuracy: 0.6659"
          ]
        },
        {
          "output_type": "stream",
          "name": "stderr",
          "text": [
            "WARNING:tensorflow:Learning rate reduction is conditioned on metric `val_acc` which is not available. Available metrics are: loss,accuracy,val_loss,val_accuracy,lr\n"
          ]
        },
        {
          "output_type": "stream",
          "name": "stdout",
          "text": [
            "\b\b\b\b\b\b\b\b\b\b\b\b\b\b\b\b\b\b\b\b\b\b\b\b\b\b\b\b\b\b\b\b\b\b\b\b\b\b\b\b\b\b\b\b\b\b\b\b\b\b\b\b\b\b\b\b\b\b\b\b\b\b\b\b\b\b\b\b\b\b\b\b\b\b\b\b\b\b\b\b\b\b\b\b\r278/278 [==============================] - 15s 54ms/step - loss: 0.1982 - accuracy: 0.6658 - val_loss: 0.3331 - val_accuracy: 0.4680 - lr: 0.0010\n",
            "Epoch 4/50\n",
            "278/278 [==============================] - ETA: 0s - loss: 0.1942 - accuracy: 0.6597"
          ]
        },
        {
          "output_type": "stream",
          "name": "stderr",
          "text": [
            "WARNING:tensorflow:Learning rate reduction is conditioned on metric `val_acc` which is not available. Available metrics are: loss,accuracy,val_loss,val_accuracy,lr\n"
          ]
        },
        {
          "output_type": "stream",
          "name": "stdout",
          "text": [
            "\b\b\b\b\b\b\b\b\b\b\b\b\b\b\b\b\b\b\b\b\b\b\b\b\b\b\b\b\b\b\b\b\b\b\b\b\b\b\b\b\b\b\b\b\b\b\b\b\b\b\b\b\b\b\b\b\b\b\b\b\b\b\b\b\b\b\b\b\b\b\b\b\b\b\b\b\b\b\b\b\b\b\b\b\r278/278 [==============================] - 15s 53ms/step - loss: 0.1942 - accuracy: 0.6597 - val_loss: 0.2391 - val_accuracy: 0.5729 - lr: 0.0010\n",
            "Epoch 5/50\n",
            "278/278 [==============================] - ETA: 0s - loss: 0.1758 - accuracy: 0.6989"
          ]
        },
        {
          "output_type": "stream",
          "name": "stderr",
          "text": [
            "WARNING:tensorflow:Learning rate reduction is conditioned on metric `val_acc` which is not available. Available metrics are: loss,accuracy,val_loss,val_accuracy,lr\n"
          ]
        },
        {
          "output_type": "stream",
          "name": "stdout",
          "text": [
            "\b\b\b\b\b\b\b\b\b\b\b\b\b\b\b\b\b\b\b\b\b\b\b\b\b\b\b\b\b\b\b\b\b\b\b\b\b\b\b\b\b\b\b\b\b\b\b\b\b\b\b\b\b\b\b\b\b\b\b\b\b\b\b\b\b\b\b\b\b\b\b\b\b\b\b\b\b\b\b\b\b\b\b\b\r278/278 [==============================] - 15s 53ms/step - loss: 0.1758 - accuracy: 0.6989 - val_loss: 0.2173 - val_accuracy: 0.6392 - lr: 0.0010\n",
            "Epoch 6/50\n",
            "277/278 [============================>.] - ETA: 0s - loss: 0.1650 - accuracy: 0.7191"
          ]
        },
        {
          "output_type": "stream",
          "name": "stderr",
          "text": [
            "WARNING:tensorflow:Learning rate reduction is conditioned on metric `val_acc` which is not available. Available metrics are: loss,accuracy,val_loss,val_accuracy,lr\n"
          ]
        },
        {
          "output_type": "stream",
          "name": "stdout",
          "text": [
            "\b\b\b\b\b\b\b\b\b\b\b\b\b\b\b\b\b\b\b\b\b\b\b\b\b\b\b\b\b\b\b\b\b\b\b\b\b\b\b\b\b\b\b\b\b\b\b\b\b\b\b\b\b\b\b\b\b\b\b\b\b\b\b\b\b\b\b\b\b\b\b\b\b\b\b\b\b\b\b\b\b\b\b\b\r278/278 [==============================] - 15s 54ms/step - loss: 0.1651 - accuracy: 0.7191 - val_loss: 0.2159 - val_accuracy: 0.6361 - lr: 0.0010\n",
            "Epoch 7/50\n",
            "278/278 [==============================] - ETA: 0s - loss: 0.1505 - accuracy: 0.7454"
          ]
        },
        {
          "output_type": "stream",
          "name": "stderr",
          "text": [
            "WARNING:tensorflow:Learning rate reduction is conditioned on metric `val_acc` which is not available. Available metrics are: loss,accuracy,val_loss,val_accuracy,lr\n"
          ]
        },
        {
          "output_type": "stream",
          "name": "stdout",
          "text": [
            "\b\b\b\b\b\b\b\b\b\b\b\b\b\b\b\b\b\b\b\b\b\b\b\b\b\b\b\b\b\b\b\b\b\b\b\b\b\b\b\b\b\b\b\b\b\b\b\b\b\b\b\b\b\b\b\b\b\b\b\b\b\b\b\b\b\b\b\b\b\b\b\b\b\b\b\b\b\b\b\b\b\b\b\b\r278/278 [==============================] - 15s 53ms/step - loss: 0.1505 - accuracy: 0.7454 - val_loss: 0.1932 - val_accuracy: 0.6749 - lr: 0.0010\n",
            "Epoch 8/50\n",
            "278/278 [==============================] - ETA: 0s - loss: 0.1428 - accuracy: 0.7599"
          ]
        },
        {
          "output_type": "stream",
          "name": "stderr",
          "text": [
            "WARNING:tensorflow:Learning rate reduction is conditioned on metric `val_acc` which is not available. Available metrics are: loss,accuracy,val_loss,val_accuracy,lr\n"
          ]
        },
        {
          "output_type": "stream",
          "name": "stdout",
          "text": [
            "\b\b\b\b\b\b\b\b\b\b\b\b\b\b\b\b\b\b\b\b\b\b\b\b\b\b\b\b\b\b\b\b\b\b\b\b\b\b\b\b\b\b\b\b\b\b\b\b\b\b\b\b\b\b\b\b\b\b\b\b\b\b\b\b\b\b\b\b\b\b\b\b\b\b\b\b\b\b\b\b\b\b\b\b\r278/278 [==============================] - 15s 54ms/step - loss: 0.1428 - accuracy: 0.7599 - val_loss: 0.2393 - val_accuracy: 0.6547 - lr: 0.0010\n",
            "Epoch 9/50\n",
            "277/278 [============================>.] - ETA: 0s - loss: 0.1329 - accuracy: 0.7806"
          ]
        },
        {
          "output_type": "stream",
          "name": "stderr",
          "text": [
            "WARNING:tensorflow:Learning rate reduction is conditioned on metric `val_acc` which is not available. Available metrics are: loss,accuracy,val_loss,val_accuracy,lr\n"
          ]
        },
        {
          "output_type": "stream",
          "name": "stdout",
          "text": [
            "\b\b\b\b\b\b\b\b\b\b\b\b\b\b\b\b\b\b\b\b\b\b\b\b\b\b\b\b\b\b\b\b\b\b\b\b\b\b\b\b\b\b\b\b\b\b\b\b\b\b\b\b\b\b\b\b\b\b\b\b\b\b\b\b\b\b\b\b\b\b\b\b\b\b\b\b\b\b\b\b\b\b\b\b\r278/278 [==============================] - 15s 54ms/step - loss: 0.1329 - accuracy: 0.7807 - val_loss: 0.2312 - val_accuracy: 0.6136 - lr: 0.0010\n",
            "Epoch 10/50\n",
            "277/278 [============================>.] - ETA: 0s - loss: 0.1122 - accuracy: 0.8194"
          ]
        },
        {
          "output_type": "stream",
          "name": "stderr",
          "text": [
            "WARNING:tensorflow:Learning rate reduction is conditioned on metric `val_acc` which is not available. Available metrics are: loss,accuracy,val_loss,val_accuracy,lr\n"
          ]
        },
        {
          "output_type": "stream",
          "name": "stdout",
          "text": [
            "\b\b\b\b\b\b\b\b\b\b\b\b\b\b\b\b\b\b\b\b\b\b\b\b\b\b\b\b\b\b\b\b\b\b\b\b\b\b\b\b\b\b\b\b\b\b\b\b\b\b\b\b\b\b\b\b\b\b\b\b\b\b\b\b\b\b\b\b\b\b\b\b\b\b\b\b\b\b\b\b\b\b\b\b\r278/278 [==============================] - 15s 54ms/step - loss: 0.1123 - accuracy: 0.8194 - val_loss: 0.2093 - val_accuracy: 0.6787 - lr: 0.0010\n",
            "Epoch 11/50\n",
            "277/278 [============================>.] - ETA: 0s - loss: 0.1028 - accuracy: 0.8388"
          ]
        },
        {
          "output_type": "stream",
          "name": "stderr",
          "text": [
            "WARNING:tensorflow:Learning rate reduction is conditioned on metric `val_acc` which is not available. Available metrics are: loss,accuracy,val_loss,val_accuracy,lr\n"
          ]
        },
        {
          "output_type": "stream",
          "name": "stdout",
          "text": [
            "\b\b\b\b\b\b\b\b\b\b\b\b\b\b\b\b\b\b\b\b\b\b\b\b\b\b\b\b\b\b\b\b\b\b\b\b\b\b\b\b\b\b\b\b\b\b\b\b\b\b\b\b\b\b\b\b\b\b\b\b\b\b\b\b\b\b\b\b\b\b\b\b\b\b\b\b\b\b\b\b\b\b\b\b\r278/278 [==============================] - 15s 53ms/step - loss: 0.1028 - accuracy: 0.8388 - val_loss: 0.2852 - val_accuracy: 0.6087 - lr: 0.0010\n",
            "Epoch 12/50\n",
            "277/278 [============================>.] - ETA: 0s - loss: 0.1149 - accuracy: 0.8196"
          ]
        },
        {
          "output_type": "stream",
          "name": "stderr",
          "text": [
            "WARNING:tensorflow:Learning rate reduction is conditioned on metric `val_acc` which is not available. Available metrics are: loss,accuracy,val_loss,val_accuracy,lr\n"
          ]
        },
        {
          "output_type": "stream",
          "name": "stdout",
          "text": [
            "\b\b\b\b\b\b\b\b\b\b\b\b\b\b\b\b\b\b\b\b\b\b\b\b\b\b\b\b\b\b\b\b\b\b\b\b\b\b\b\b\b\b\b\b\b\b\b\b\b\b\b\b\b\b\b\b\b\b\b\b\b\b\b\b\b\b\b\b\b\b\b\b\b\b\b\b\b\b\b\b\b\b\b\b\r278/278 [==============================] - 15s 54ms/step - loss: 0.1149 - accuracy: 0.8196 - val_loss: 22.0963 - val_accuracy: 0.5182 - lr: 0.0010\n",
            "Epoch 13/50\n",
            "277/278 [============================>.] - ETA: 0s - loss: 0.0902 - accuracy: 0.8639"
          ]
        },
        {
          "output_type": "stream",
          "name": "stderr",
          "text": [
            "WARNING:tensorflow:Learning rate reduction is conditioned on metric `val_acc` which is not available. Available metrics are: loss,accuracy,val_loss,val_accuracy,lr\n"
          ]
        },
        {
          "output_type": "stream",
          "name": "stdout",
          "text": [
            "\b\b\b\b\b\b\b\b\b\b\b\b\b\b\b\b\b\b\b\b\b\b\b\b\b\b\b\b\b\b\b\b\b\b\b\b\b\b\b\b\b\b\b\b\b\b\b\b\b\b\b\b\b\b\b\b\b\b\b\b\b\b\b\b\b\b\b\b\b\b\b\b\b\b\b\b\b\b\b\b\b\b\b\b\r278/278 [==============================] - 15s 54ms/step - loss: 0.0903 - accuracy: 0.8638 - val_loss: 0.8036 - val_accuracy: 0.4320 - lr: 0.0010\n",
            "Epoch 14/50\n",
            "277/278 [============================>.] - ETA: 0s - loss: 0.0754 - accuracy: 0.8861"
          ]
        },
        {
          "output_type": "stream",
          "name": "stderr",
          "text": [
            "WARNING:tensorflow:Learning rate reduction is conditioned on metric `val_acc` which is not available. Available metrics are: loss,accuracy,val_loss,val_accuracy,lr\n"
          ]
        },
        {
          "output_type": "stream",
          "name": "stdout",
          "text": [
            "\b\b\b\b\b\b\b\b\b\b\b\b\b\b\b\b\b\b\b\b\b\b\b\b\b\b\b\b\b\b\b\b\b\b\b\b\b\b\b\b\b\b\b\b\b\b\b\b\b\b\b\b\b\b\b\b\b\b\b\b\b\b\b\b\b\b\b\b\b\b\b\b\b\b\b\b\b\b\b\b\b\b\b\b\r278/278 [==============================] - 15s 53ms/step - loss: 0.0754 - accuracy: 0.8860 - val_loss: 0.2649 - val_accuracy: 0.6830 - lr: 0.0010\n",
            "Epoch 15/50\n",
            "278/278 [==============================] - ETA: 0s - loss: 0.0862 - accuracy: 0.8701"
          ]
        },
        {
          "output_type": "stream",
          "name": "stderr",
          "text": [
            "WARNING:tensorflow:Learning rate reduction is conditioned on metric `val_acc` which is not available. Available metrics are: loss,accuracy,val_loss,val_accuracy,lr\n"
          ]
        },
        {
          "output_type": "stream",
          "name": "stdout",
          "text": [
            "\b\b\b\b\b\b\b\b\b\b\b\b\b\b\b\b\b\b\b\b\b\b\b\b\b\b\b\b\b\b\b\b\b\b\b\b\b\b\b\b\b\b\b\b\b\b\b\b\b\b\b\b\b\b\b\b\b\b\b\b\b\b\b\b\b\b\b\b\b\b\b\b\b\b\b\b\b\b\b\b\b\b\b\b\r278/278 [==============================] - 15s 54ms/step - loss: 0.0862 - accuracy: 0.8701 - val_loss: 0.2619 - val_accuracy: 0.6697 - lr: 0.0010\n",
            "Epoch 16/50\n",
            "278/278 [==============================] - ETA: 0s - loss: 0.0569 - accuracy: 0.9182"
          ]
        },
        {
          "output_type": "stream",
          "name": "stderr",
          "text": [
            "WARNING:tensorflow:Learning rate reduction is conditioned on metric `val_acc` which is not available. Available metrics are: loss,accuracy,val_loss,val_accuracy,lr\n"
          ]
        },
        {
          "output_type": "stream",
          "name": "stdout",
          "text": [
            "\b\b\b\b\b\b\b\b\b\b\b\b\b\b\b\b\b\b\b\b\b\b\b\b\b\b\b\b\b\b\b\b\b\b\b\b\b\b\b\b\b\b\b\b\b\b\b\b\b\b\b\b\b\b\b\b\b\b\b\b\b\b\b\b\b\b\b\b\b\b\b\b\b\b\b\b\b\b\b\b\b\b\b\b\r278/278 [==============================] - 15s 53ms/step - loss: 0.0569 - accuracy: 0.9182 - val_loss: 0.2722 - val_accuracy: 0.6780 - lr: 0.0010\n",
            "Epoch 17/50\n",
            "277/278 [============================>.] - ETA: 0s - loss: 0.0458 - accuracy: 0.9358"
          ]
        },
        {
          "output_type": "stream",
          "name": "stderr",
          "text": [
            "WARNING:tensorflow:Learning rate reduction is conditioned on metric `val_acc` which is not available. Available metrics are: loss,accuracy,val_loss,val_accuracy,lr\n"
          ]
        },
        {
          "output_type": "stream",
          "name": "stdout",
          "text": [
            "\b\b\b\b\b\b\b\b\b\b\b\b\b\b\b\b\b\b\b\b\b\b\b\b\b\b\b\b\b\b\b\b\b\b\b\b\b\b\b\b\b\b\b\b\b\b\b\b\b\b\b\b\b\b\b\b\b\b\b\b\b\b\b\b\b\b\b\b\b\b\b\b\b\b\b\b\b\b\b\b\b\b\b\b\r278/278 [==============================] - 15s 53ms/step - loss: 0.0458 - accuracy: 0.9358 - val_loss: 0.3309 - val_accuracy: 0.6742 - lr: 0.0010\n",
            "Epoch 18/50\n",
            "277/278 [============================>.] - ETA: 0s - loss: 0.0408 - accuracy: 0.9405"
          ]
        },
        {
          "output_type": "stream",
          "name": "stderr",
          "text": [
            "WARNING:tensorflow:Learning rate reduction is conditioned on metric `val_acc` which is not available. Available metrics are: loss,accuracy,val_loss,val_accuracy,lr\n"
          ]
        },
        {
          "output_type": "stream",
          "name": "stdout",
          "text": [
            "\b\b\b\b\b\b\b\b\b\b\b\b\b\b\b\b\b\b\b\b\b\b\b\b\b\b\b\b\b\b\b\b\b\b\b\b\b\b\b\b\b\b\b\b\b\b\b\b\b\b\b\b\b\b\b\b\b\b\b\b\b\b\b\b\b\b\b\b\b\b\b\b\b\b\b\b\b\b\b\b\b\b\b\b\r278/278 [==============================] - 15s 54ms/step - loss: 0.0409 - accuracy: 0.9405 - val_loss: 0.8570 - val_accuracy: 0.6554 - lr: 0.0010\n",
            "Epoch 19/50\n",
            "277/278 [============================>.] - ETA: 0s - loss: 0.0426 - accuracy: 0.9400"
          ]
        },
        {
          "output_type": "stream",
          "name": "stderr",
          "text": [
            "WARNING:tensorflow:Learning rate reduction is conditioned on metric `val_acc` which is not available. Available metrics are: loss,accuracy,val_loss,val_accuracy,lr\n"
          ]
        },
        {
          "output_type": "stream",
          "name": "stdout",
          "text": [
            "\b\b\b\b\b\b\b\b\b\b\b\b\b\b\b\b\b\b\b\b\b\b\b\b\b\b\b\b\b\b\b\b\b\b\b\b\b\b\b\b\b\b\b\b\b\b\b\b\b\b\b\b\b\b\b\b\b\b\b\b\b\b\b\b\b\b\b\b\b\b\b\b\b\b\b\b\b\b\b\b\b\b\b\b\r278/278 [==============================] - 15s 54ms/step - loss: 0.0426 - accuracy: 0.9400 - val_loss: 0.2916 - val_accuracy: 0.6689 - lr: 0.0010\n",
            "Epoch 20/50\n",
            "277/278 [============================>.] - ETA: 0s - loss: 0.0420 - accuracy: 0.9407"
          ]
        },
        {
          "output_type": "stream",
          "name": "stderr",
          "text": [
            "WARNING:tensorflow:Learning rate reduction is conditioned on metric `val_acc` which is not available. Available metrics are: loss,accuracy,val_loss,val_accuracy,lr\n"
          ]
        },
        {
          "output_type": "stream",
          "name": "stdout",
          "text": [
            "\b\b\b\b\b\b\b\b\b\b\b\b\b\b\b\b\b\b\b\b\b\b\b\b\b\b\b\b\b\b\b\b\b\b\b\b\b\b\b\b\b\b\b\b\b\b\b\b\b\b\b\b\b\b\b\b\b\b\b\b\b\b\b\b\b\b\b\b\b\b\b\b\b\b\b\b\b\b\b\b\b\b\b\b\r278/278 [==============================] - 15s 53ms/step - loss: 0.0422 - accuracy: 0.9406 - val_loss: 0.2807 - val_accuracy: 0.6922 - lr: 0.0010\n",
            "Epoch 21/50\n",
            "278/278 [==============================] - ETA: 0s - loss: 0.0245 - accuracy: 0.9667"
          ]
        },
        {
          "output_type": "stream",
          "name": "stderr",
          "text": [
            "WARNING:tensorflow:Learning rate reduction is conditioned on metric `val_acc` which is not available. Available metrics are: loss,accuracy,val_loss,val_accuracy,lr\n"
          ]
        },
        {
          "output_type": "stream",
          "name": "stdout",
          "text": [
            "\b\b\b\b\b\b\b\b\b\b\b\b\b\b\b\b\b\b\b\b\b\b\b\b\b\b\b\b\b\b\b\b\b\b\b\b\b\b\b\b\b\b\b\b\b\b\b\b\b\b\b\b\b\b\b\b\b\b\b\b\b\b\b\b\b\b\b\b\b\b\b\b\b\b\b\b\b\b\b\b\b\b\b\b\r278/278 [==============================] - 15s 54ms/step - loss: 0.0245 - accuracy: 0.9667 - val_loss: 0.3514 - val_accuracy: 0.6736 - lr: 0.0010\n",
            "Epoch 22/50\n",
            "277/278 [============================>.] - ETA: 0s - loss: 0.0257 - accuracy: 0.9645"
          ]
        },
        {
          "output_type": "stream",
          "name": "stderr",
          "text": [
            "WARNING:tensorflow:Learning rate reduction is conditioned on metric `val_acc` which is not available. Available metrics are: loss,accuracy,val_loss,val_accuracy,lr\n"
          ]
        },
        {
          "output_type": "stream",
          "name": "stdout",
          "text": [
            "\b\b\b\b\b\b\b\b\b\b\b\b\b\b\b\b\b\b\b\b\b\b\b\b\b\b\b\b\b\b\b\b\b\b\b\b\b\b\b\b\b\b\b\b\b\b\b\b\b\b\b\b\b\b\b\b\b\b\b\b\b\b\b\b\b\b\b\b\b\b\b\b\b\b\b\b\b\b\b\b\b\b\b\b\r278/278 [==============================] - 15s 56ms/step - loss: 0.0258 - accuracy: 0.9644 - val_loss: 0.3142 - val_accuracy: 0.6822 - lr: 0.0010\n",
            "Epoch 23/50\n",
            "277/278 [============================>.] - ETA: 0s - loss: 0.0282 - accuracy: 0.9607"
          ]
        },
        {
          "output_type": "stream",
          "name": "stderr",
          "text": [
            "WARNING:tensorflow:Learning rate reduction is conditioned on metric `val_acc` which is not available. Available metrics are: loss,accuracy,val_loss,val_accuracy,lr\n"
          ]
        },
        {
          "output_type": "stream",
          "name": "stdout",
          "text": [
            "\b\b\b\b\b\b\b\b\b\b\b\b\b\b\b\b\b\b\b\b\b\b\b\b\b\b\b\b\b\b\b\b\b\b\b\b\b\b\b\b\b\b\b\b\b\b\b\b\b\b\b\b\b\b\b\b\b\b\b\b\b\b\b\b\b\b\b\b\b\b\b\b\b\b\b\b\b\b\b\b\b\b\b\b\r278/278 [==============================] - 15s 55ms/step - loss: 0.0282 - accuracy: 0.9607 - val_loss: 0.3435 - val_accuracy: 0.6737 - lr: 0.0010\n",
            "Epoch 24/50\n",
            "278/278 [==============================] - ETA: 0s - loss: 0.0221 - accuracy: 0.9686"
          ]
        },
        {
          "output_type": "stream",
          "name": "stderr",
          "text": [
            "WARNING:tensorflow:Learning rate reduction is conditioned on metric `val_acc` which is not available. Available metrics are: loss,accuracy,val_loss,val_accuracy,lr\n"
          ]
        },
        {
          "output_type": "stream",
          "name": "stdout",
          "text": [
            "\b\b\b\b\b\b\b\b\b\b\b\b\b\b\b\b\b\b\b\b\b\b\b\b\b\b\b\b\b\b\b\b\b\b\b\b\b\b\b\b\b\b\b\b\b\b\b\b\b\b\b\b\b\b\b\b\b\b\b\b\b\b\b\b\b\b\b\b\b\b\b\b\b\b\b\b\b\b\b\b\b\b\b\b\r278/278 [==============================] - 15s 56ms/step - loss: 0.0221 - accuracy: 0.9686 - val_loss: 0.3265 - val_accuracy: 0.6770 - lr: 0.0010\n",
            "Epoch 25/50\n",
            "278/278 [==============================] - ETA: 0s - loss: 0.0194 - accuracy: 0.9732"
          ]
        },
        {
          "output_type": "stream",
          "name": "stderr",
          "text": [
            "WARNING:tensorflow:Learning rate reduction is conditioned on metric `val_acc` which is not available. Available metrics are: loss,accuracy,val_loss,val_accuracy,lr\n"
          ]
        },
        {
          "output_type": "stream",
          "name": "stdout",
          "text": [
            "\b\b\b\b\b\b\b\b\b\b\b\b\b\b\b\b\b\b\b\b\b\b\b\b\b\b\b\b\b\b\b\b\b\b\b\b\b\b\b\b\b\b\b\b\b\b\b\b\b\b\b\b\b\b\b\b\b\b\b\b\b\b\b\b\b\b\b\b\b\b\b\b\b\b\b\b\b\b\b\b\b\b\b\b\r278/278 [==============================] - 15s 55ms/step - loss: 0.0194 - accuracy: 0.9732 - val_loss: 0.3254 - val_accuracy: 0.6737 - lr: 0.0010\n",
            "Epoch 26/50\n",
            "277/278 [============================>.] - ETA: 0s - loss: 0.0614 - accuracy: 0.9092"
          ]
        },
        {
          "output_type": "stream",
          "name": "stderr",
          "text": [
            "WARNING:tensorflow:Learning rate reduction is conditioned on metric `val_acc` which is not available. Available metrics are: loss,accuracy,val_loss,val_accuracy,lr\n"
          ]
        },
        {
          "output_type": "stream",
          "name": "stdout",
          "text": [
            "\b\b\b\b\b\b\b\b\b\b\b\b\b\b\b\b\b\b\b\b\b\b\b\b\b\b\b\b\b\b\b\b\b\b\b\b\b\b\b\b\b\b\b\b\b\b\b\b\b\b\b\b\b\b\b\b\b\b\b\b\b\b\b\b\b\b\b\b\b\b\b\b\b\b\b\b\b\b\b\b\b\b\b\b\r278/278 [==============================] - 15s 55ms/step - loss: 0.0614 - accuracy: 0.9092 - val_loss: 0.3059 - val_accuracy: 0.6786 - lr: 0.0010\n",
            "Epoch 27/50\n",
            "278/278 [==============================] - ETA: 0s - loss: 0.0325 - accuracy: 0.9545"
          ]
        },
        {
          "output_type": "stream",
          "name": "stderr",
          "text": [
            "WARNING:tensorflow:Learning rate reduction is conditioned on metric `val_acc` which is not available. Available metrics are: loss,accuracy,val_loss,val_accuracy,lr\n"
          ]
        },
        {
          "output_type": "stream",
          "name": "stdout",
          "text": [
            "\b\b\b\b\b\b\b\b\b\b\b\b\b\b\b\b\b\b\b\b\b\b\b\b\b\b\b\b\b\b\b\b\b\b\b\b\b\b\b\b\b\b\b\b\b\b\b\b\b\b\b\b\b\b\b\b\b\b\b\b\b\b\b\b\b\b\b\b\b\b\b\b\b\b\b\b\b\b\b\b\b\b\b\b\r278/278 [==============================] - 15s 55ms/step - loss: 0.0325 - accuracy: 0.9545 - val_loss: 0.3128 - val_accuracy: 0.6950 - lr: 0.0010\n",
            "Epoch 28/50\n",
            "277/278 [============================>.] - ETA: 0s - loss: 0.0512 - accuracy: 0.9245"
          ]
        },
        {
          "output_type": "stream",
          "name": "stderr",
          "text": [
            "WARNING:tensorflow:Learning rate reduction is conditioned on metric `val_acc` which is not available. Available metrics are: loss,accuracy,val_loss,val_accuracy,lr\n"
          ]
        },
        {
          "output_type": "stream",
          "name": "stdout",
          "text": [
            "\b\b\b\b\b\b\b\b\b\b\b\b\b\b\b\b\b\b\b\b\b\b\b\b\b\b\b\b\b\b\b\b\b\b\b\b\b\b\b\b\b\b\b\b\b\b\b\b\b\b\b\b\b\b\b\b\b\b\b\b\b\b\b\b\b\b\b\b\b\b\b\b\b\b\b\b\b\b\b\b\b\b\b\b\r278/278 [==============================] - 16s 56ms/step - loss: 0.0513 - accuracy: 0.9244 - val_loss: 0.2982 - val_accuracy: 0.5964 - lr: 0.0010\n",
            "Epoch 29/50\n",
            "278/278 [==============================] - ETA: 0s - loss: 0.0382 - accuracy: 0.9437"
          ]
        },
        {
          "output_type": "stream",
          "name": "stderr",
          "text": [
            "WARNING:tensorflow:Learning rate reduction is conditioned on metric `val_acc` which is not available. Available metrics are: loss,accuracy,val_loss,val_accuracy,lr\n"
          ]
        },
        {
          "output_type": "stream",
          "name": "stdout",
          "text": [
            "\b\b\b\b\b\b\b\b\b\b\b\b\b\b\b\b\b\b\b\b\b\b\b\b\b\b\b\b\b\b\b\b\b\b\b\b\b\b\b\b\b\b\b\b\b\b\b\b\b\b\b\b\b\b\b\b\b\b\b\b\b\b\b\b\b\b\b\b\b\b\b\b\b\b\b\b\b\b\b\b\b\b\b\b\r278/278 [==============================] - 15s 56ms/step - loss: 0.0382 - accuracy: 0.9437 - val_loss: 0.3073 - val_accuracy: 0.6904 - lr: 0.0010\n",
            "Epoch 30/50\n",
            "278/278 [==============================] - ETA: 0s - loss: 0.0902 - accuracy: 0.8632"
          ]
        },
        {
          "output_type": "stream",
          "name": "stderr",
          "text": [
            "WARNING:tensorflow:Learning rate reduction is conditioned on metric `val_acc` which is not available. Available metrics are: loss,accuracy,val_loss,val_accuracy,lr\n"
          ]
        },
        {
          "output_type": "stream",
          "name": "stdout",
          "text": [
            "\b\b\b\b\b\b\b\b\b\b\b\b\b\b\b\b\b\b\b\b\b\b\b\b\b\b\b\b\b\b\b\b\b\b\b\b\b\b\b\b\b\b\b\b\b\b\b\b\b\b\b\b\b\b\b\b\b\b\b\b\b\b\b\b\b\b\b\b\b\b\b\b\b\b\b\b\b\b\b\b\b\b\b\b\r278/278 [==============================] - 16s 56ms/step - loss: 0.0902 - accuracy: 0.8632 - val_loss: 0.2774 - val_accuracy: 0.6803 - lr: 0.0010\n",
            "Epoch 31/50\n",
            "277/278 [============================>.] - ETA: 0s - loss: 0.0448 - accuracy: 0.9354"
          ]
        },
        {
          "output_type": "stream",
          "name": "stderr",
          "text": [
            "WARNING:tensorflow:Learning rate reduction is conditioned on metric `val_acc` which is not available. Available metrics are: loss,accuracy,val_loss,val_accuracy,lr\n"
          ]
        },
        {
          "output_type": "stream",
          "name": "stdout",
          "text": [
            "\b\b\b\b\b\b\b\b\b\b\b\b\b\b\b\b\b\b\b\b\b\b\b\b\b\b\b\b\b\b\b\b\b\b\b\b\b\b\b\b\b\b\b\b\b\b\b\b\b\b\b\b\b\b\b\b\b\b\b\b\b\b\b\b\b\b\b\b\b\b\b\b\b\b\b\b\b\b\b\b\b\b\b\b\r278/278 [==============================] - 15s 56ms/step - loss: 0.0451 - accuracy: 0.9353 - val_loss: 0.2790 - val_accuracy: 0.6928 - lr: 0.0010\n",
            "Epoch 32/50\n",
            "277/278 [============================>.] - ETA: 0s - loss: 0.0240 - accuracy: 0.9672"
          ]
        },
        {
          "output_type": "stream",
          "name": "stderr",
          "text": [
            "WARNING:tensorflow:Learning rate reduction is conditioned on metric `val_acc` which is not available. Available metrics are: loss,accuracy,val_loss,val_accuracy,lr\n"
          ]
        },
        {
          "output_type": "stream",
          "name": "stdout",
          "text": [
            "\b\b\b\b\b\b\b\b\b\b\b\b\b\b\b\b\b\b\b\b\b\b\b\b\b\b\b\b\b\b\b\b\b\b\b\b\b\b\b\b\b\b\b\b\b\b\b\b\b\b\b\b\b\b\b\b\b\b\b\b\b\b\b\b\b\b\b\b\b\b\b\b\b\b\b\b\b\b\b\b\b\b\b\b\r278/278 [==============================] - 15s 56ms/step - loss: 0.0240 - accuracy: 0.9671 - val_loss: 0.3121 - val_accuracy: 0.6967 - lr: 0.0010\n",
            "Epoch 33/50\n",
            "278/278 [==============================] - ETA: 0s - loss: 0.0116 - accuracy: 0.9844"
          ]
        },
        {
          "output_type": "stream",
          "name": "stderr",
          "text": [
            "WARNING:tensorflow:Learning rate reduction is conditioned on metric `val_acc` which is not available. Available metrics are: loss,accuracy,val_loss,val_accuracy,lr\n"
          ]
        },
        {
          "output_type": "stream",
          "name": "stdout",
          "text": [
            "\b\b\b\b\b\b\b\b\b\b\b\b\b\b\b\b\b\b\b\b\b\b\b\b\b\b\b\b\b\b\b\b\b\b\b\b\b\b\b\b\b\b\b\b\b\b\b\b\b\b\b\b\b\b\b\b\b\b\b\b\b\b\b\b\b\b\b\b\b\b\b\b\b\b\b\b\b\b\b\b\b\b\b\b\r278/278 [==============================] - 15s 56ms/step - loss: 0.0116 - accuracy: 0.9844 - val_loss: 0.3301 - val_accuracy: 0.6738 - lr: 0.0010\n",
            "Epoch 34/50\n",
            "278/278 [==============================] - ETA: 0s - loss: 0.0131 - accuracy: 0.9832"
          ]
        },
        {
          "output_type": "stream",
          "name": "stderr",
          "text": [
            "WARNING:tensorflow:Learning rate reduction is conditioned on metric `val_acc` which is not available. Available metrics are: loss,accuracy,val_loss,val_accuracy,lr\n"
          ]
        },
        {
          "output_type": "stream",
          "name": "stdout",
          "text": [
            "\b\b\b\b\b\b\b\b\b\b\b\b\b\b\b\b\b\b\b\b\b\b\b\b\b\b\b\b\b\b\b\b\b\b\b\b\b\b\b\b\b\b\b\b\b\b\b\b\b\b\b\b\b\b\b\b\b\b\b\b\b\b\b\b\b\b\b\b\b\b\b\b\b\b\b\b\b\b\b\b\b\b\b\b\r278/278 [==============================] - 15s 55ms/step - loss: 0.0131 - accuracy: 0.9832 - val_loss: 0.3563 - val_accuracy: 0.6941 - lr: 0.0010\n",
            "Epoch 35/50\n",
            "277/278 [============================>.] - ETA: 0s - loss: 0.0130 - accuracy: 0.9824"
          ]
        },
        {
          "output_type": "stream",
          "name": "stderr",
          "text": [
            "WARNING:tensorflow:Learning rate reduction is conditioned on metric `val_acc` which is not available. Available metrics are: loss,accuracy,val_loss,val_accuracy,lr\n"
          ]
        },
        {
          "output_type": "stream",
          "name": "stdout",
          "text": [
            "\b\b\b\b\b\b\b\b\b\b\b\b\b\b\b\b\b\b\b\b\b\b\b\b\b\b\b\b\b\b\b\b\b\b\b\b\b\b\b\b\b\b\b\b\b\b\b\b\b\b\b\b\b\b\b\b\b\b\b\b\b\b\b\b\b\b\b\b\b\b\b\b\b\b\b\b\b\b\b\b\b\b\b\b\r278/278 [==============================] - 15s 55ms/step - loss: 0.0132 - accuracy: 0.9822 - val_loss: 0.3375 - val_accuracy: 0.6761 - lr: 0.0010\n",
            "Epoch 36/50\n",
            "277/278 [============================>.] - ETA: 0s - loss: 0.0177 - accuracy: 0.9769"
          ]
        },
        {
          "output_type": "stream",
          "name": "stderr",
          "text": [
            "WARNING:tensorflow:Learning rate reduction is conditioned on metric `val_acc` which is not available. Available metrics are: loss,accuracy,val_loss,val_accuracy,lr\n"
          ]
        },
        {
          "output_type": "stream",
          "name": "stdout",
          "text": [
            "\b\b\b\b\b\b\b\b\b\b\b\b\b\b\b\b\b\b\b\b\b\b\b\b\b\b\b\b\b\b\b\b\b\b\b\b\b\b\b\b\b\b\b\b\b\b\b\b\b\b\b\b\b\b\b\b\b\b\b\b\b\b\b\b\b\b\b\b\b\b\b\b\b\b\b\b\b\b\b\b\b\b\b\b\r278/278 [==============================] - 15s 55ms/step - loss: 0.0178 - accuracy: 0.9768 - val_loss: 0.3567 - val_accuracy: 0.6813 - lr: 0.0010\n",
            "Epoch 37/50\n",
            "278/278 [==============================] - ETA: 0s - loss: 0.0294 - accuracy: 0.9600"
          ]
        },
        {
          "output_type": "stream",
          "name": "stderr",
          "text": [
            "WARNING:tensorflow:Learning rate reduction is conditioned on metric `val_acc` which is not available. Available metrics are: loss,accuracy,val_loss,val_accuracy,lr\n"
          ]
        },
        {
          "output_type": "stream",
          "name": "stdout",
          "text": [
            "\b\b\b\b\b\b\b\b\b\b\b\b\b\b\b\b\b\b\b\b\b\b\b\b\b\b\b\b\b\b\b\b\b\b\b\b\b\b\b\b\b\b\b\b\b\b\b\b\b\b\b\b\b\b\b\b\b\b\b\b\b\b\b\b\b\b\b\b\b\b\b\b\b\b\b\b\b\b\b\b\b\b\b\b\r278/278 [==============================] - 15s 54ms/step - loss: 0.0294 - accuracy: 0.9600 - val_loss: 0.3293 - val_accuracy: 0.6771 - lr: 0.0010\n",
            "Epoch 38/50\n",
            "277/278 [============================>.] - ETA: 0s - loss: 0.0110 - accuracy: 0.9856"
          ]
        },
        {
          "output_type": "stream",
          "name": "stderr",
          "text": [
            "WARNING:tensorflow:Learning rate reduction is conditioned on metric `val_acc` which is not available. Available metrics are: loss,accuracy,val_loss,val_accuracy,lr\n"
          ]
        },
        {
          "output_type": "stream",
          "name": "stdout",
          "text": [
            "\b\b\b\b\b\b\b\b\b\b\b\b\b\b\b\b\b\b\b\b\b\b\b\b\b\b\b\b\b\b\b\b\b\b\b\b\b\b\b\b\b\b\b\b\b\b\b\b\b\b\b\b\b\b\b\b\b\b\b\b\b\b\b\b\b\b\b\b\b\b\b\b\b\b\b\b\b\b\b\b\b\b\b\b\r278/278 [==============================] - 15s 53ms/step - loss: 0.0110 - accuracy: 0.9856 - val_loss: 0.3236 - val_accuracy: 0.6918 - lr: 0.0010\n",
            "Epoch 39/50\n",
            "278/278 [==============================] - ETA: 0s - loss: 0.0124 - accuracy: 0.9842"
          ]
        },
        {
          "output_type": "stream",
          "name": "stderr",
          "text": [
            "WARNING:tensorflow:Learning rate reduction is conditioned on metric `val_acc` which is not available. Available metrics are: loss,accuracy,val_loss,val_accuracy,lr\n"
          ]
        },
        {
          "output_type": "stream",
          "name": "stdout",
          "text": [
            "\b\b\b\b\b\b\b\b\b\b\b\b\b\b\b\b\b\b\b\b\b\b\b\b\b\b\b\b\b\b\b\b\b\b\b\b\b\b\b\b\b\b\b\b\b\b\b\b\b\b\b\b\b\b\b\b\b\b\b\b\b\b\b\b\b\b\b\b\b\b\b\b\b\b\b\b\b\b\b\b\b\b\b\b\r278/278 [==============================] - 15s 54ms/step - loss: 0.0124 - accuracy: 0.9842 - val_loss: 0.3328 - val_accuracy: 0.7014 - lr: 0.0010\n",
            "Epoch 40/50\n",
            "277/278 [============================>.] - ETA: 0s - loss: 0.0137 - accuracy: 0.9831"
          ]
        },
        {
          "output_type": "stream",
          "name": "stderr",
          "text": [
            "WARNING:tensorflow:Learning rate reduction is conditioned on metric `val_acc` which is not available. Available metrics are: loss,accuracy,val_loss,val_accuracy,lr\n"
          ]
        },
        {
          "output_type": "stream",
          "name": "stdout",
          "text": [
            "\b\b\b\b\b\b\b\b\b\b\b\b\b\b\b\b\b\b\b\b\b\b\b\b\b\b\b\b\b\b\b\b\b\b\b\b\b\b\b\b\b\b\b\b\b\b\b\b\b\b\b\b\b\b\b\b\b\b\b\b\b\b\b\b\b\b\b\b\b\b\b\b\b\b\b\b\b\b\b\b\b\b\b\b\r278/278 [==============================] - 15s 54ms/step - loss: 0.0137 - accuracy: 0.9830 - val_loss: 0.3444 - val_accuracy: 0.6718 - lr: 0.0010\n",
            "Epoch 41/50\n",
            "278/278 [==============================] - ETA: 0s - loss: 0.0158 - accuracy: 0.9794"
          ]
        },
        {
          "output_type": "stream",
          "name": "stderr",
          "text": [
            "WARNING:tensorflow:Learning rate reduction is conditioned on metric `val_acc` which is not available. Available metrics are: loss,accuracy,val_loss,val_accuracy,lr\n"
          ]
        },
        {
          "output_type": "stream",
          "name": "stdout",
          "text": [
            "\b\b\b\b\b\b\b\b\b\b\b\b\b\b\b\b\b\b\b\b\b\b\b\b\b\b\b\b\b\b\b\b\b\b\b\b\b\b\b\b\b\b\b\b\b\b\b\b\b\b\b\b\b\b\b\b\b\b\b\b\b\b\b\b\b\b\b\b\b\b\b\b\b\b\b\b\b\b\b\b\b\b\b\b\r278/278 [==============================] - 15s 53ms/step - loss: 0.0158 - accuracy: 0.9794 - val_loss: 0.3353 - val_accuracy: 0.6987 - lr: 0.0010\n",
            "Epoch 42/50\n",
            "277/278 [============================>.] - ETA: 0s - loss: 0.0094 - accuracy: 0.9876"
          ]
        },
        {
          "output_type": "stream",
          "name": "stderr",
          "text": [
            "WARNING:tensorflow:Learning rate reduction is conditioned on metric `val_acc` which is not available. Available metrics are: loss,accuracy,val_loss,val_accuracy,lr\n"
          ]
        },
        {
          "output_type": "stream",
          "name": "stdout",
          "text": [
            "\b\b\b\b\b\b\b\b\b\b\b\b\b\b\b\b\b\b\b\b\b\b\b\b\b\b\b\b\b\b\b\b\b\b\b\b\b\b\b\b\b\b\b\b\b\b\b\b\b\b\b\b\b\b\b\b\b\b\b\b\b\b\b\b\b\b\b\b\b\b\b\b\b\b\b\b\b\b\b\b\b\b\b\b\r278/278 [==============================] - 15s 54ms/step - loss: 0.0094 - accuracy: 0.9875 - val_loss: 0.3252 - val_accuracy: 0.6986 - lr: 0.0010\n",
            "Epoch 43/50\n",
            "277/278 [============================>.] - ETA: 0s - loss: 0.0105 - accuracy: 0.9861"
          ]
        },
        {
          "output_type": "stream",
          "name": "stderr",
          "text": [
            "WARNING:tensorflow:Learning rate reduction is conditioned on metric `val_acc` which is not available. Available metrics are: loss,accuracy,val_loss,val_accuracy,lr\n"
          ]
        },
        {
          "output_type": "stream",
          "name": "stdout",
          "text": [
            "\b\b\b\b\b\b\b\b\b\b\b\b\b\b\b\b\b\b\b\b\b\b\b\b\b\b\b\b\b\b\b\b\b\b\b\b\b\b\b\b\b\b\b\b\b\b\b\b\b\b\b\b\b\b\b\b\b\b\b\b\b\b\b\b\b\b\b\b\b\b\b\b\b\b\b\b\b\b\b\b\b\b\b\b\r278/278 [==============================] - 15s 54ms/step - loss: 0.0106 - accuracy: 0.9860 - val_loss: 0.4288 - val_accuracy: 0.6621 - lr: 0.0010\n",
            "Epoch 44/50\n",
            "277/278 [============================>.] - ETA: 0s - loss: 0.0118 - accuracy: 0.9848"
          ]
        },
        {
          "output_type": "stream",
          "name": "stderr",
          "text": [
            "WARNING:tensorflow:Learning rate reduction is conditioned on metric `val_acc` which is not available. Available metrics are: loss,accuracy,val_loss,val_accuracy,lr\n"
          ]
        },
        {
          "output_type": "stream",
          "name": "stdout",
          "text": [
            "\b\b\b\b\b\b\b\b\b\b\b\b\b\b\b\b\b\b\b\b\b\b\b\b\b\b\b\b\b\b\b\b\b\b\b\b\b\b\b\b\b\b\b\b\b\b\b\b\b\b\b\b\b\b\b\b\b\b\b\b\b\b\b\b\b\b\b\b\b\b\b\b\b\b\b\b\b\b\b\b\b\b\b\b\r278/278 [==============================] - 15s 53ms/step - loss: 0.0118 - accuracy: 0.9848 - val_loss: 0.3479 - val_accuracy: 0.6953 - lr: 0.0010\n",
            "Epoch 45/50\n",
            "277/278 [============================>.] - ETA: 0s - loss: 0.0114 - accuracy: 0.9847"
          ]
        },
        {
          "output_type": "stream",
          "name": "stderr",
          "text": [
            "WARNING:tensorflow:Learning rate reduction is conditioned on metric `val_acc` which is not available. Available metrics are: loss,accuracy,val_loss,val_accuracy,lr\n"
          ]
        },
        {
          "output_type": "stream",
          "name": "stdout",
          "text": [
            "\b\b\b\b\b\b\b\b\b\b\b\b\b\b\b\b\b\b\b\b\b\b\b\b\b\b\b\b\b\b\b\b\b\b\b\b\b\b\b\b\b\b\b\b\b\b\b\b\b\b\b\b\b\b\b\b\b\b\b\b\b\b\b\b\b\b\b\b\b\b\b\b\b\b\b\b\b\b\b\b\b\b\b\b\r278/278 [==============================] - 15s 54ms/step - loss: 0.0114 - accuracy: 0.9847 - val_loss: 0.3523 - val_accuracy: 0.6936 - lr: 0.0010\n",
            "Epoch 46/50\n",
            "278/278 [==============================] - ETA: 0s - loss: 0.0080 - accuracy: 0.9889"
          ]
        },
        {
          "output_type": "stream",
          "name": "stderr",
          "text": [
            "WARNING:tensorflow:Learning rate reduction is conditioned on metric `val_acc` which is not available. Available metrics are: loss,accuracy,val_loss,val_accuracy,lr\n"
          ]
        },
        {
          "output_type": "stream",
          "name": "stdout",
          "text": [
            "\b\b\b\b\b\b\b\b\b\b\b\b\b\b\b\b\b\b\b\b\b\b\b\b\b\b\b\b\b\b\b\b\b\b\b\b\b\b\b\b\b\b\b\b\b\b\b\b\b\b\b\b\b\b\b\b\b\b\b\b\b\b\b\b\b\b\b\b\b\b\b\b\b\b\b\b\b\b\b\b\b\b\b\b\r278/278 [==============================] - 15s 54ms/step - loss: 0.0080 - accuracy: 0.9889 - val_loss: 0.3471 - val_accuracy: 0.7041 - lr: 0.0010\n",
            "Epoch 47/50\n",
            "277/278 [============================>.] - ETA: 0s - loss: 0.0188 - accuracy: 0.9744"
          ]
        },
        {
          "output_type": "stream",
          "name": "stderr",
          "text": [
            "WARNING:tensorflow:Learning rate reduction is conditioned on metric `val_acc` which is not available. Available metrics are: loss,accuracy,val_loss,val_accuracy,lr\n"
          ]
        },
        {
          "output_type": "stream",
          "name": "stdout",
          "text": [
            "\b\b\b\b\b\b\b\b\b\b\b\b\b\b\b\b\b\b\b\b\b\b\b\b\b\b\b\b\b\b\b\b\b\b\b\b\b\b\b\b\b\b\b\b\b\b\b\b\b\b\b\b\b\b\b\b\b\b\b\b\b\b\b\b\b\b\b\b\b\b\b\b\b\b\b\b\b\b\b\b\b\b\b\b\r278/278 [==============================] - 15s 53ms/step - loss: 0.0190 - accuracy: 0.9743 - val_loss: 0.3626 - val_accuracy: 0.6961 - lr: 0.0010\n",
            "Epoch 48/50\n",
            "277/278 [============================>.] - ETA: 0s - loss: 0.1234 - accuracy: 0.8028"
          ]
        },
        {
          "output_type": "stream",
          "name": "stderr",
          "text": [
            "WARNING:tensorflow:Learning rate reduction is conditioned on metric `val_acc` which is not available. Available metrics are: loss,accuracy,val_loss,val_accuracy,lr\n"
          ]
        },
        {
          "output_type": "stream",
          "name": "stdout",
          "text": [
            "\b\b\b\b\b\b\b\b\b\b\b\b\b\b\b\b\b\b\b\b\b\b\b\b\b\b\b\b\b\b\b\b\b\b\b\b\b\b\b\b\b\b\b\b\b\b\b\b\b\b\b\b\b\b\b\b\b\b\b\b\b\b\b\b\b\b\b\b\b\b\b\b\b\b\b\b\b\b\b\b\b\b\b\b\r278/278 [==============================] - 15s 54ms/step - loss: 0.1236 - accuracy: 0.8028 - val_loss: 0.2295 - val_accuracy: 0.6761 - lr: 0.0010\n",
            "Epoch 49/50\n",
            "277/278 [============================>.] - ETA: 0s - loss: 0.0398 - accuracy: 0.9421"
          ]
        },
        {
          "output_type": "stream",
          "name": "stderr",
          "text": [
            "WARNING:tensorflow:Learning rate reduction is conditioned on metric `val_acc` which is not available. Available metrics are: loss,accuracy,val_loss,val_accuracy,lr\n"
          ]
        },
        {
          "output_type": "stream",
          "name": "stdout",
          "text": [
            "\b\b\b\b\b\b\b\b\b\b\b\b\b\b\b\b\b\b\b\b\b\b\b\b\b\b\b\b\b\b\b\b\b\b\b\b\b\b\b\b\b\b\b\b\b\b\b\b\b\b\b\b\b\b\b\b\b\b\b\b\b\b\b\b\b\b\b\b\b\b\b\b\b\b\b\b\b\b\b\b\b\b\b\b\r278/278 [==============================] - 15s 54ms/step - loss: 0.0398 - accuracy: 0.9421 - val_loss: 0.2767 - val_accuracy: 0.6970 - lr: 0.0010\n",
            "Epoch 50/50\n",
            "277/278 [============================>.] - ETA: 0s - loss: 0.0181 - accuracy: 0.9750"
          ]
        },
        {
          "output_type": "stream",
          "name": "stderr",
          "text": [
            "WARNING:tensorflow:Learning rate reduction is conditioned on metric `val_acc` which is not available. Available metrics are: loss,accuracy,val_loss,val_accuracy,lr\n"
          ]
        },
        {
          "output_type": "stream",
          "name": "stdout",
          "text": [
            "\b\b\b\b\b\b\b\b\b\b\b\b\b\b\b\b\b\b\b\b\b\b\b\b\b\b\b\b\b\b\b\b\b\b\b\b\b\b\b\b\b\b\b\b\b\b\b\b\b\b\b\b\b\b\b\b\b\b\b\b\b\b\b\b\b\b\b\b\b\b\b\b\b\b\b\b\b\b\b\b\b\b\b\b\r278/278 [==============================] - 15s 53ms/step - loss: 0.0183 - accuracy: 0.9748 - val_loss: 0.3288 - val_accuracy: 0.7020 - lr: 0.0010\n"
          ]
        }
      ]
    },
    {
      "cell_type": "code",
      "source": [
        "plt.plot(history.history['accuracy'])\n",
        "plt.plot(history.history['val_accuracy'])\n",
        "\n",
        "plt.title('Model Accuracy')\n",
        "plt.ylabel('Accuracy')\n",
        "plt.xlabel('Epochs')\n",
        "\n",
        "plt.legend(['Train', 'Val'], loc='upper left')\n",
        "plt.show()\n",
        "\n",
        "\n",
        "plt.plot(history.history['loss'])\n",
        "plt.plot(history.history['val_loss'])\n",
        "plt.title('Model Loss')\n",
        "plt.ylabel('Loss')\n",
        "plt.xlabel('Epochs')\n",
        "\n",
        "plt.legend(['Train', 'Val'], loc='upper left')\n",
        "plt.show()\n"
      ],
      "metadata": {
        "colab": {
          "base_uri": "https://localhost:8080/",
          "height": 573
        },
        "id": "GHnOpZwaHb5-",
        "outputId": "1e64e7f9-2bb9-4efb-97c2-4813acdaccb3"
      },
      "execution_count": null,
      "outputs": [
        {
          "output_type": "display_data",
          "data": {
            "text/plain": [
              "<Figure size 432x288 with 1 Axes>"
            ],
            "image/png": "[encoded data removed]"
          },
          "metadata": {
            "needs_background": "light"
          }
        },
        {
          "output_type": "display_data",
          "data": {
            "text/plain": [
              "<Figure size 432x288 with 1 Axes>"
            ],
            "image/png": "[encoded data removed]"
          },
          "metadata": {
            "needs_background": "light"
          }
        }
      ]
    },
    {
      "cell_type": "code",
      "source": [
        "model_cnn.summary()"
      ],
      "metadata": {
        "colab": {
          "base_uri": "https://localhost:8080/"
        },
        "id": "P4kiySJ3Hb3N",
        "outputId": "7740b6e0-0cd4-42bd-d289-a717f02292b6"
      },
      "execution_count": null,
      "outputs": [
        {
          "output_type": "stream",
          "name": "stdout",
          "text": [
            "Model: \"sequential_1\"\n",
            "_________________________________________________________________\n",
            " Layer (type)                Output Shape              Param #   \n",
            "=================================================================\n",
            " inception_v3 (Functional)   (None, 1, 1, 2048)        21802784  \n",
            "                                                                 \n",
            " flatten_1 (Flatten)         (None, 2048)              0         \n",
            "                                                                 \n",
            " dense_2 (Dense)             (None, 128)               262272    \n",
            "                                                                 \n",
            " dense_3 (Dense)             (None, 8)                 1032      \n",
            "                                                                 \n",
            "=================================================================\n",
            "Total params: 22,066,088\n",
            "Trainable params: 22,031,656\n",
            "Non-trainable params: 34,432\n",
            "_________________________________________________________________\n"
          ]
        }
      ]
    },
    {
      "cell_type": "code",
      "source": [
        "import tensorflow as tf\n",
        "tf.keras.utils.plot_model(model_cnn)"
      ],
      "metadata": {
        "colab": {
          "base_uri": "https://localhost:8080/",
          "height": 466
        },
        "id": "_3C-5KYkHbyx",
        "outputId": "f0afa051-19a0-4a35-a59f-f81266f43d5a"
      },
      "execution_count": null,
      "outputs": [
        {
          "output_type": "execute_result",
          "data": {
            "image/png": "[encoded data removed]",
            "text/plain": [
              "<IPython.core.display.Image object>"
            ]
          },
          "metadata": {},
          "execution_count": 34
        }
      ]
    },
    {
      "cell_type": "markdown",
      "source": [
        "VGG NET 16"
      ],
      "metadata": {
        "id": "cjwLjCsCH9HQ"
      }
    },
    {
      "cell_type": "code",
      "source": [
        "from tensorflow.keras.applications import VGG16"
      ],
      "metadata": {
        "id": "Rj9_xHBoH835"
      },
      "execution_count": null,
      "outputs": []
    },
    {
      "cell_type": "code",
      "source": [
        "model3=VGG16(input_shape=(75, 75, 3),weights=\"imagenet\",include_top=False)"
      ],
      "metadata": {
        "id": "CQ5oVGfcH8u9",
        "colab": {
          "base_uri": "https://localhost:8080/"
        },
        "outputId": "5f8fab36-0b49-4423-c81a-c2cc93a3c790"
      },
      "execution_count": null,
      "outputs": [
        {
          "output_type": "stream",
          "name": "stdout",
          "text": [
            "Downloading data from https://storage.googleapis.com/tensorflow/keras-applications/vgg16/vgg16_weights_tf_dim_ordering_tf_kernels_notop.h5\n",
            "58889256/58889256 [==============================] - 4s 0us/step\n"
          ]
        }
      ]
    },
    {
      "cell_type": "code",
      "source": [
        "def build_cnn_model(input_shape = (75, 75, 3), num_classes=2):\n",
        "  model = Sequential() # layer has 1 i/p and 1 o/p\n",
        "  model.add(model1)\n",
        "  model.add(Flatten())\n",
        "  model.add(keras.layers.Dense(128,activation=\"relu\"))\n",
        "  model.add(keras.layers.Dense(8,activation=\"sigmoid\"))\n",
        "  model.summary()\n",
        "  optimizer= Adam(lr=0.001)\n",
        "\n",
        "  model.compile(optimizer = optimizer, loss='binary_crossentropy', metrics=[\"accuracy\"])\n",
        "\n",
        "  return model"
      ],
      "metadata": {
        "id": "wdlUaSZoH8q7"
      },
      "execution_count": null,
      "outputs": []
    },
    {
      "cell_type": "code",
      "source": [
        "model_cnn = build_cnn_model()"
      ],
      "metadata": {
        "colab": {
          "base_uri": "https://localhost:8080/"
        },
        "id": "r6gZAL9PH8oB",
        "outputId": "ea675ba3-5183-40cd-d5d2-9fc8bf58c3e0"
      },
      "execution_count": null,
      "outputs": [
        {
          "output_type": "stream",
          "name": "stdout",
          "text": [
            "Model: \"sequential_2\"\n",
            "_________________________________________________________________\n",
            " Layer (type)                Output Shape              Param #   \n",
            "=================================================================\n",
            " inception_v3 (Functional)   (None, 1, 1, 2048)        21802784  \n",
            "                                                                 \n",
            " flatten_2 (Flatten)         (None, 2048)              0         \n",
            "                                                                 \n",
            " dense_4 (Dense)             (None, 128)               262272    \n",
            "                                                                 \n",
            " dense_5 (Dense)             (None, 8)                 1032      \n",
            "                                                                 \n",
            "=================================================================\n",
            "Total params: 22,066,088\n",
            "Trainable params: 22,031,656\n",
            "Non-trainable params: 34,432\n",
            "_________________________________________________________________\n"
          ]
        }
      ]
    },
    {
      "cell_type": "code",
      "source": [
        "from keras.callbacks import ReduceLROnPlateau\n",
        "\n",
        "learning_rate_annealer = ReduceLROnPlateau(monitor='val_acc',mode='max',\n",
        "                                          patience=3,\n",
        "                                          verbose=1,\n",
        "                                         factor=0.5,\n",
        "                                          min_lr = 1e-4)\n",
        "\n",
        "history = model_cnn.fit(x_train,\n",
        "                    y_train,\n",
        "                    validation_split=0.2,\n",
        "                    epochs=50,\n",
        "                    batch_size = 64,\n",
        "                    verbose=1,\n",
        "                    callbacks=[learning_rate_annealer],validation_data=(x_test,y_test))"
      ],
      "metadata": {
        "colab": {
          "base_uri": "https://localhost:8080/"
        },
        "id": "qifQ2DBfH8jQ",
        "outputId": "c33f0912-e33e-4d2a-a920-4237598aa152"
      },
      "execution_count": null,
      "outputs": [
        {
          "output_type": "stream",
          "name": "stdout",
          "text": [
            "Epoch 1/50\n",
            "277/278 [============================>.] - ETA: 0s - loss: 0.0054 - accuracy: 0.9932"
          ]
        },
        {
          "output_type": "stream",
          "name": "stderr",
          "text": [
            "WARNING:tensorflow:Learning rate reduction is conditioned on metric `val_acc` which is not available. Available metrics are: loss,accuracy,val_loss,val_accuracy,lr\n"
          ]
        },
        {
          "output_type": "stream",
          "name": "stdout",
          "text": [
            "\b\b\b\b\b\b\b\b\b\b\b\b\b\b\b\b\b\b\b\b\b\b\b\b\b\b\b\b\b\b\b\b\b\b\b\b\b\b\b\b\b\b\b\b\b\b\b\b\b\b\b\b\b\b\b\b\b\b\b\b\b\b\b\b\b\b\b\b\b\b\b\b\b\b\b\b\b\b\b\b\b\b\b\b\r278/278 [==============================] - 15s 56ms/step - loss: 0.0055 - accuracy: 0.9931 - val_loss: 0.3806 - val_accuracy: 0.6946 - lr: 0.0010\n",
            "Epoch 2/50\n",
            "277/278 [============================>.] - ETA: 0s - loss: 0.0190 - accuracy: 0.9759"
          ]
        },
        {
          "output_type": "stream",
          "name": "stderr",
          "text": [
            "WARNING:tensorflow:Learning rate reduction is conditioned on metric `val_acc` which is not available. Available metrics are: loss,accuracy,val_loss,val_accuracy,lr\n"
          ]
        },
        {
          "output_type": "stream",
          "name": "stdout",
          "text": [
            "\b\b\b\b\b\b\b\b\b\b\b\b\b\b\b\b\b\b\b\b\b\b\b\b\b\b\b\b\b\b\b\b\b\b\b\b\b\b\b\b\b\b\b\b\b\b\b\b\b\b\b\b\b\b\b\b\b\b\b\b\b\b\b\b\b\b\b\b\b\b\b\b\b\b\b\b\b\b\b\b\b\b\b\b\r278/278 [==============================] - 16s 56ms/step - loss: 0.0190 - accuracy: 0.9759 - val_loss: 0.3292 - val_accuracy: 0.6959 - lr: 0.0010\n",
            "Epoch 3/50\n",
            "278/278 [==============================] - ETA: 0s - loss: 0.0052 - accuracy: 0.9938"
          ]
        },
        {
          "output_type": "stream",
          "name": "stderr",
          "text": [
            "WARNING:tensorflow:Learning rate reduction is conditioned on metric `val_acc` which is not available. Available metrics are: loss,accuracy,val_loss,val_accuracy,lr\n"
          ]
        },
        {
          "output_type": "stream",
          "name": "stdout",
          "text": [
            "\b\b\b\b\b\b\b\b\b\b\b\b\b\b\b\b\b\b\b\b\b\b\b\b\b\b\b\b\b\b\b\b\b\b\b\b\b\b\b\b\b\b\b\b\b\b\b\b\b\b\b\b\b\b\b\b\b\b\b\b\b\b\b\b\b\b\b\b\b\b\b\b\b\b\b\b\b\b\b\b\b\b\b\b\r278/278 [==============================] - 16s 56ms/step - loss: 0.0052 - accuracy: 0.9938 - val_loss: 0.3702 - val_accuracy: 0.6947 - lr: 0.0010\n",
            "Epoch 4/50\n",
            "278/278 [==============================] - ETA: 0s - loss: 0.0107 - accuracy: 0.9870"
          ]
        },
        {
          "output_type": "stream",
          "name": "stderr",
          "text": [
            "WARNING:tensorflow:Learning rate reduction is conditioned on metric `val_acc` which is not available. Available metrics are: loss,accuracy,val_loss,val_accuracy,lr\n"
          ]
        },
        {
          "output_type": "stream",
          "name": "stdout",
          "text": [
            "\b\b\b\b\b\b\b\b\b\b\b\b\b\b\b\b\b\b\b\b\b\b\b\b\b\b\b\b\b\b\b\b\b\b\b\b\b\b\b\b\b\b\b\b\b\b\b\b\b\b\b\b\b\b\b\b\b\b\b\b\b\b\b\b\b\b\b\b\b\b\b\b\b\b\b\b\b\b\b\b\b\b\b\b\r278/278 [==============================] - 15s 56ms/step - loss: 0.0107 - accuracy: 0.9870 - val_loss: 0.3913 - val_accuracy: 0.6938 - lr: 0.0010\n",
            "Epoch 5/50\n",
            "277/278 [============================>.] - ETA: 0s - loss: 0.0074 - accuracy: 0.9911"
          ]
        },
        {
          "output_type": "stream",
          "name": "stderr",
          "text": [
            "WARNING:tensorflow:Learning rate reduction is conditioned on metric `val_acc` which is not available. Available metrics are: loss,accuracy,val_loss,val_accuracy,lr\n"
          ]
        },
        {
          "output_type": "stream",
          "name": "stdout",
          "text": [
            "\b\b\b\b\b\b\b\b\b\b\b\b\b\b\b\b\b\b\b\b\b\b\b\b\b\b\b\b\b\b\b\b\b\b\b\b\b\b\b\b\b\b\b\b\b\b\b\b\b\b\b\b\b\b\b\b\b\b\b\b\b\b\b\b\b\b\b\b\b\b\b\b\b\b\b\b\b\b\b\b\b\b\b\b\r278/278 [==============================] - 15s 53ms/step - loss: 0.0075 - accuracy: 0.9910 - val_loss: 0.3767 - val_accuracy: 0.6957 - lr: 0.0010\n",
            "Epoch 6/50\n",
            "278/278 [==============================] - ETA: 0s - loss: 0.0105 - accuracy: 0.9866"
          ]
        },
        {
          "output_type": "stream",
          "name": "stderr",
          "text": [
            "WARNING:tensorflow:Learning rate reduction is conditioned on metric `val_acc` which is not available. Available metrics are: loss,accuracy,val_loss,val_accuracy,lr\n"
          ]
        },
        {
          "output_type": "stream",
          "name": "stdout",
          "text": [
            "\b\b\b\b\b\b\b\b\b\b\b\b\b\b\b\b\b\b\b\b\b\b\b\b\b\b\b\b\b\b\b\b\b\b\b\b\b\b\b\b\b\b\b\b\b\b\b\b\b\b\b\b\b\b\b\b\b\b\b\b\b\b\b\b\b\b\b\b\b\b\b\b\b\b\b\b\b\b\b\b\b\b\b\b\r278/278 [==============================] - 15s 54ms/step - loss: 0.0105 - accuracy: 0.9866 - val_loss: 0.3537 - val_accuracy: 0.7074 - lr: 0.0010\n",
            "Epoch 7/50\n",
            "277/278 [============================>.] - ETA: 0s - loss: 0.0076 - accuracy: 0.9901"
          ]
        },
        {
          "output_type": "stream",
          "name": "stderr",
          "text": [
            "WARNING:tensorflow:Learning rate reduction is conditioned on metric `val_acc` which is not available. Available metrics are: loss,accuracy,val_loss,val_accuracy,lr\n"
          ]
        },
        {
          "output_type": "stream",
          "name": "stdout",
          "text": [
            "\b\b\b\b\b\b\b\b\b\b\b\b\b\b\b\b\b\b\b\b\b\b\b\b\b\b\b\b\b\b\b\b\b\b\b\b\b\b\b\b\b\b\b\b\b\b\b\b\b\b\b\b\b\b\b\b\b\b\b\b\b\b\b\b\b\b\b\b\b\b\b\b\b\b\b\b\b\b\b\b\b\b\b\b\r278/278 [==============================] - 15s 54ms/step - loss: 0.0076 - accuracy: 0.9900 - val_loss: 0.3542 - val_accuracy: 0.6951 - lr: 0.0010\n",
            "Epoch 8/50\n",
            "278/278 [==============================] - ETA: 0s - loss: 0.0103 - accuracy: 0.9859"
          ]
        },
        {
          "output_type": "stream",
          "name": "stderr",
          "text": [
            "WARNING:tensorflow:Learning rate reduction is conditioned on metric `val_acc` which is not available. Available metrics are: loss,accuracy,val_loss,val_accuracy,lr\n"
          ]
        },
        {
          "output_type": "stream",
          "name": "stdout",
          "text": [
            "\b\b\b\b\b\b\b\b\b\b\b\b\b\b\b\b\b\b\b\b\b\b\b\b\b\b\b\b\b\b\b\b\b\b\b\b\b\b\b\b\b\b\b\b\b\b\b\b\b\b\b\b\b\b\b\b\b\b\b\b\b\b\b\b\b\b\b\b\b\b\b\b\b\b\b\b\b\b\b\b\b\b\b\b\r278/278 [==============================] - 15s 54ms/step - loss: 0.0103 - accuracy: 0.9859 - val_loss: 0.3357 - val_accuracy: 0.6993 - lr: 0.0010\n",
            "Epoch 9/50\n",
            "278/278 [==============================] - ETA: 0s - loss: 0.0054 - accuracy: 0.9935"
          ]
        },
        {
          "output_type": "stream",
          "name": "stderr",
          "text": [
            "WARNING:tensorflow:Learning rate reduction is conditioned on metric `val_acc` which is not available. Available metrics are: loss,accuracy,val_loss,val_accuracy,lr\n"
          ]
        },
        {
          "output_type": "stream",
          "name": "stdout",
          "text": [
            "\b\b\b\b\b\b\b\b\b\b\b\b\b\b\b\b\b\b\b\b\b\b\b\b\b\b\b\b\b\b\b\b\b\b\b\b\b\b\b\b\b\b\b\b\b\b\b\b\b\b\b\b\b\b\b\b\b\b\b\b\b\b\b\b\b\b\b\b\b\b\b\b\b\b\b\b\b\b\b\b\b\b\b\b\r278/278 [==============================] - 16s 57ms/step - loss: 0.0054 - accuracy: 0.9935 - val_loss: 0.3850 - val_accuracy: 0.7059 - lr: 0.0010\n",
            "Epoch 10/50\n",
            "277/278 [============================>.] - ETA: 0s - loss: 0.0069 - accuracy: 0.9913"
          ]
        },
        {
          "output_type": "stream",
          "name": "stderr",
          "text": [
            "WARNING:tensorflow:Learning rate reduction is conditioned on metric `val_acc` which is not available. Available metrics are: loss,accuracy,val_loss,val_accuracy,lr\n"
          ]
        },
        {
          "output_type": "stream",
          "name": "stdout",
          "text": [
            "\b\b\b\b\b\b\b\b\b\b\b\b\b\b\b\b\b\b\b\b\b\b\b\b\b\b\b\b\b\b\b\b\b\b\b\b\b\b\b\b\b\b\b\b\b\b\b\b\b\b\b\b\b\b\b\b\b\b\b\b\b\b\b\b\b\b\b\b\b\b\b\b\b\b\b\b\b\b\b\b\b\b\b\b\r278/278 [==============================] - 15s 56ms/step - loss: 0.0074 - accuracy: 0.9912 - val_loss: 0.3622 - val_accuracy: 0.6951 - lr: 0.0010\n",
            "Epoch 11/50\n",
            "278/278 [==============================] - ETA: 0s - loss: 0.0088 - accuracy: 0.9889"
          ]
        },
        {
          "output_type": "stream",
          "name": "stderr",
          "text": [
            "WARNING:tensorflow:Learning rate reduction is conditioned on metric `val_acc` which is not available. Available metrics are: loss,accuracy,val_loss,val_accuracy,lr\n"
          ]
        },
        {
          "output_type": "stream",
          "name": "stdout",
          "text": [
            "\b\b\b\b\b\b\b\b\b\b\b\b\b\b\b\b\b\b\b\b\b\b\b\b\b\b\b\b\b\b\b\b\b\b\b\b\b\b\b\b\b\b\b\b\b\b\b\b\b\b\b\b\b\b\b\b\b\b\b\b\b\b\b\b\b\b\b\b\b\b\b\b\b\b\b\b\b\b\b\b\b\b\b\b\r278/278 [==============================] - 15s 55ms/step - loss: 0.0088 - accuracy: 0.9889 - val_loss: 0.3919 - val_accuracy: 0.7061 - lr: 0.0010\n",
            "Epoch 12/50\n",
            "277/278 [============================>.] - ETA: 0s - loss: 0.0212 - accuracy: 0.9715"
          ]
        },
        {
          "output_type": "stream",
          "name": "stderr",
          "text": [
            "WARNING:tensorflow:Learning rate reduction is conditioned on metric `val_acc` which is not available. Available metrics are: loss,accuracy,val_loss,val_accuracy,lr\n"
          ]
        },
        {
          "output_type": "stream",
          "name": "stdout",
          "text": [
            "\b\b\b\b\b\b\b\b\b\b\b\b\b\b\b\b\b\b\b\b\b\b\b\b\b\b\b\b\b\b\b\b\b\b\b\b\b\b\b\b\b\b\b\b\b\b\b\b\b\b\b\b\b\b\b\b\b\b\b\b\b\b\b\b\b\b\b\b\b\b\b\b\b\b\b\b\b\b\b\b\b\b\b\b\r278/278 [==============================] - 16s 57ms/step - loss: 0.0212 - accuracy: 0.9714 - val_loss: 0.3592 - val_accuracy: 0.6966 - lr: 0.0010\n",
            "Epoch 13/50\n",
            "278/278 [==============================] - ETA: 0s - loss: 0.0126 - accuracy: 0.9842"
          ]
        },
        {
          "output_type": "stream",
          "name": "stderr",
          "text": [
            "WARNING:tensorflow:Learning rate reduction is conditioned on metric `val_acc` which is not available. Available metrics are: loss,accuracy,val_loss,val_accuracy,lr\n"
          ]
        },
        {
          "output_type": "stream",
          "name": "stdout",
          "text": [
            "\b\b\b\b\b\b\b\b\b\b\b\b\b\b\b\b\b\b\b\b\b\b\b\b\b\b\b\b\b\b\b\b\b\b\b\b\b\b\b\b\b\b\b\b\b\b\b\b\b\b\b\b\b\b\b\b\b\b\b\b\b\b\b\b\b\b\b\b\b\b\b\b\b\b\b\b\b\b\b\b\b\b\b\b\r278/278 [==============================] - 15s 55ms/step - loss: 0.0126 - accuracy: 0.9842 - val_loss: 0.3486 - val_accuracy: 0.6838 - lr: 0.0010\n",
            "Epoch 14/50\n",
            "277/278 [============================>.] - ETA: 0s - loss: 0.0055 - accuracy: 0.9938"
          ]
        },
        {
          "output_type": "stream",
          "name": "stderr",
          "text": [
            "WARNING:tensorflow:Learning rate reduction is conditioned on metric `val_acc` which is not available. Available metrics are: loss,accuracy,val_loss,val_accuracy,lr\n"
          ]
        },
        {
          "output_type": "stream",
          "name": "stdout",
          "text": [
            "\b\b\b\b\b\b\b\b\b\b\b\b\b\b\b\b\b\b\b\b\b\b\b\b\b\b\b\b\b\b\b\b\b\b\b\b\b\b\b\b\b\b\b\b\b\b\b\b\b\b\b\b\b\b\b\b\b\b\b\b\b\b\b\b\b\b\b\b\b\b\b\b\b\b\b\b\b\b\b\b\b\b\b\b\r278/278 [==============================] - 16s 56ms/step - loss: 0.0055 - accuracy: 0.9937 - val_loss: 0.4021 - val_accuracy: 0.6930 - lr: 0.0010\n",
            "Epoch 15/50\n",
            "278/278 [==============================] - ETA: 0s - loss: 0.0071 - accuracy: 0.9915"
          ]
        },
        {
          "output_type": "stream",
          "name": "stderr",
          "text": [
            "WARNING:tensorflow:Learning rate reduction is conditioned on metric `val_acc` which is not available. Available metrics are: loss,accuracy,val_loss,val_accuracy,lr\n"
          ]
        },
        {
          "output_type": "stream",
          "name": "stdout",
          "text": [
            "\b\b\b\b\b\b\b\b\b\b\b\b\b\b\b\b\b\b\b\b\b\b\b\b\b\b\b\b\b\b\b\b\b\b\b\b\b\b\b\b\b\b\b\b\b\b\b\b\b\b\b\b\b\b\b\b\b\b\b\b\b\b\b\b\b\b\b\b\b\b\b\b\b\b\b\b\b\b\b\b\b\b\b\b\r278/278 [==============================] - 16s 56ms/step - loss: 0.0071 - accuracy: 0.9915 - val_loss: 0.3495 - val_accuracy: 0.7101 - lr: 0.0010\n",
            "Epoch 16/50\n",
            "277/278 [============================>.] - ETA: 0s - loss: 0.0103 - accuracy: 0.9872"
          ]
        },
        {
          "output_type": "stream",
          "name": "stderr",
          "text": [
            "WARNING:tensorflow:Learning rate reduction is conditioned on metric `val_acc` which is not available. Available metrics are: loss,accuracy,val_loss,val_accuracy,lr\n"
          ]
        },
        {
          "output_type": "stream",
          "name": "stdout",
          "text": [
            "\b\b\b\b\b\b\b\b\b\b\b\b\b\b\b\b\b\b\b\b\b\b\b\b\b\b\b\b\b\b\b\b\b\b\b\b\b\b\b\b\b\b\b\b\b\b\b\b\b\b\b\b\b\b\b\b\b\b\b\b\b\b\b\b\b\b\b\b\b\b\b\b\b\b\b\b\b\b\b\b\b\b\b\b\r278/278 [==============================] - 15s 55ms/step - loss: 0.0103 - accuracy: 0.9871 - val_loss: 0.3372 - val_accuracy: 0.6999 - lr: 0.0010\n",
            "Epoch 17/50\n",
            "278/278 [==============================] - ETA: 0s - loss: 0.0078 - accuracy: 0.9897"
          ]
        },
        {
          "output_type": "stream",
          "name": "stderr",
          "text": [
            "WARNING:tensorflow:Learning rate reduction is conditioned on metric `val_acc` which is not available. Available metrics are: loss,accuracy,val_loss,val_accuracy,lr\n"
          ]
        },
        {
          "output_type": "stream",
          "name": "stdout",
          "text": [
            "\b\b\b\b\b\b\b\b\b\b\b\b\b\b\b\b\b\b\b\b\b\b\b\b\b\b\b\b\b\b\b\b\b\b\b\b\b\b\b\b\b\b\b\b\b\b\b\b\b\b\b\b\b\b\b\b\b\b\b\b\b\b\b\b\b\b\b\b\b\b\b\b\b\b\b\b\b\b\b\b\b\b\b\b\r278/278 [==============================] - 15s 55ms/step - loss: 0.0078 - accuracy: 0.9897 - val_loss: 0.3898 - val_accuracy: 0.6984 - lr: 0.0010\n",
            "Epoch 18/50\n",
            "277/278 [============================>.] - ETA: 0s - loss: 0.0112 - accuracy: 0.9858"
          ]
        },
        {
          "output_type": "stream",
          "name": "stderr",
          "text": [
            "WARNING:tensorflow:Learning rate reduction is conditioned on metric `val_acc` which is not available. Available metrics are: loss,accuracy,val_loss,val_accuracy,lr\n"
          ]
        },
        {
          "output_type": "stream",
          "name": "stdout",
          "text": [
            "\b\b\b\b\b\b\b\b\b\b\b\b\b\b\b\b\b\b\b\b\b\b\b\b\b\b\b\b\b\b\b\b\b\b\b\b\b\b\b\b\b\b\b\b\b\b\b\b\b\b\b\b\b\b\b\b\b\b\b\b\b\b\b\b\b\b\b\b\b\b\b\b\b\b\b\b\b\b\b\b\b\b\b\b\r278/278 [==============================] - 15s 56ms/step - loss: 0.0112 - accuracy: 0.9858 - val_loss: 0.3740 - val_accuracy: 0.7075 - lr: 0.0010\n",
            "Epoch 19/50\n",
            "278/278 [==============================] - ETA: 0s - loss: 0.0140 - accuracy: 0.9811"
          ]
        },
        {
          "output_type": "stream",
          "name": "stderr",
          "text": [
            "WARNING:tensorflow:Learning rate reduction is conditioned on metric `val_acc` which is not available. Available metrics are: loss,accuracy,val_loss,val_accuracy,lr\n"
          ]
        },
        {
          "output_type": "stream",
          "name": "stdout",
          "text": [
            "\b\b\b\b\b\b\b\b\b\b\b\b\b\b\b\b\b\b\b\b\b\b\b\b\b\b\b\b\b\b\b\b\b\b\b\b\b\b\b\b\b\b\b\b\b\b\b\b\b\b\b\b\b\b\b\b\b\b\b\b\b\b\b\b\b\b\b\b\b\b\b\b\b\b\b\b\b\b\b\b\b\b\b\b\r278/278 [==============================] - 16s 57ms/step - loss: 0.0140 - accuracy: 0.9811 - val_loss: 0.3374 - val_accuracy: 0.6909 - lr: 0.0010\n",
            "Epoch 20/50\n",
            "277/278 [============================>.] - ETA: 0s - loss: 0.0056 - accuracy: 0.9929"
          ]
        },
        {
          "output_type": "stream",
          "name": "stderr",
          "text": [
            "WARNING:tensorflow:Learning rate reduction is conditioned on metric `val_acc` which is not available. Available metrics are: loss,accuracy,val_loss,val_accuracy,lr\n"
          ]
        },
        {
          "output_type": "stream",
          "name": "stdout",
          "text": [
            "\b\b\b\b\b\b\b\b\b\b\b\b\b\b\b\b\b\b\b\b\b\b\b\b\b\b\b\b\b\b\b\b\b\b\b\b\b\b\b\b\b\b\b\b\b\b\b\b\b\b\b\b\b\b\b\b\b\b\b\b\b\b\b\b\b\b\b\b\b\b\b\b\b\b\b\b\b\b\b\b\b\b\b\b\r278/278 [==============================] - 16s 58ms/step - loss: 0.0058 - accuracy: 0.9928 - val_loss: 0.3470 - val_accuracy: 0.6853 - lr: 0.0010\n",
            "Epoch 21/50\n",
            "277/278 [============================>.] - ETA: 0s - loss: 0.0119 - accuracy: 0.9851"
          ]
        },
        {
          "output_type": "stream",
          "name": "stderr",
          "text": [
            "WARNING:tensorflow:Learning rate reduction is conditioned on metric `val_acc` which is not available. Available metrics are: loss,accuracy,val_loss,val_accuracy,lr\n"
          ]
        },
        {
          "output_type": "stream",
          "name": "stdout",
          "text": [
            "\b\b\b\b\b\b\b\b\b\b\b\b\b\b\b\b\b\b\b\b\b\b\b\b\b\b\b\b\b\b\b\b\b\b\b\b\b\b\b\b\b\b\b\b\b\b\b\b\b\b\b\b\b\b\b\b\b\b\b\b\b\b\b\b\b\b\b\b\b\b\b\b\b\b\b\b\b\b\b\b\b\b\b\b\r278/278 [==============================] - 16s 58ms/step - loss: 0.0119 - accuracy: 0.9850 - val_loss: 0.3291 - val_accuracy: 0.7089 - lr: 0.0010\n",
            "Epoch 22/50\n",
            "277/278 [============================>.] - ETA: 0s - loss: 0.0048 - accuracy: 0.9945"
          ]
        },
        {
          "output_type": "stream",
          "name": "stderr",
          "text": [
            "WARNING:tensorflow:Learning rate reduction is conditioned on metric `val_acc` which is not available. Available metrics are: loss,accuracy,val_loss,val_accuracy,lr\n"
          ]
        },
        {
          "output_type": "stream",
          "name": "stdout",
          "text": [
            "\b\b\b\b\b\b\b\b\b\b\b\b\b\b\b\b\b\b\b\b\b\b\b\b\b\b\b\b\b\b\b\b\b\b\b\b\b\b\b\b\b\b\b\b\b\b\b\b\b\b\b\b\b\b\b\b\b\b\b\b\b\b\b\b\b\b\b\b\b\b\b\b\b\b\b\b\b\b\b\b\b\b\b\b\r278/278 [==============================] - 16s 58ms/step - loss: 0.0048 - accuracy: 0.9944 - val_loss: 0.3682 - val_accuracy: 0.6916 - lr: 0.0010\n",
            "Epoch 23/50\n",
            "277/278 [============================>.] - ETA: 0s - loss: 0.0058 - accuracy: 0.9925"
          ]
        },
        {
          "output_type": "stream",
          "name": "stderr",
          "text": [
            "WARNING:tensorflow:Learning rate reduction is conditioned on metric `val_acc` which is not available. Available metrics are: loss,accuracy,val_loss,val_accuracy,lr\n"
          ]
        },
        {
          "output_type": "stream",
          "name": "stdout",
          "text": [
            "\b\b\b\b\b\b\b\b\b\b\b\b\b\b\b\b\b\b\b\b\b\b\b\b\b\b\b\b\b\b\b\b\b\b\b\b\b\b\b\b\b\b\b\b\b\b\b\b\b\b\b\b\b\b\b\b\b\b\b\b\b\b\b\b\b\b\b\b\b\b\b\b\b\b\b\b\b\b\b\b\b\b\b\b\r278/278 [==============================] - 16s 57ms/step - loss: 0.0059 - accuracy: 0.9924 - val_loss: 0.3849 - val_accuracy: 0.6759 - lr: 0.0010\n",
            "Epoch 24/50\n",
            "277/278 [============================>.] - ETA: 0s - loss: 0.0057 - accuracy: 0.9919"
          ]
        },
        {
          "output_type": "stream",
          "name": "stderr",
          "text": [
            "WARNING:tensorflow:Learning rate reduction is conditioned on metric `val_acc` which is not available. Available metrics are: loss,accuracy,val_loss,val_accuracy,lr\n"
          ]
        },
        {
          "output_type": "stream",
          "name": "stdout",
          "text": [
            "\b\b\b\b\b\b\b\b\b\b\b\b\b\b\b\b\b\b\b\b\b\b\b\b\b\b\b\b\b\b\b\b\b\b\b\b\b\b\b\b\b\b\b\b\b\b\b\b\b\b\b\b\b\b\b\b\b\b\b\b\b\b\b\b\b\b\b\b\b\b\b\b\b\b\b\b\b\b\b\b\b\b\b\b\r278/278 [==============================] - 16s 57ms/step - loss: 0.0057 - accuracy: 0.9919 - val_loss: 0.4261 - val_accuracy: 0.6938 - lr: 0.0010\n",
            "Epoch 25/50\n",
            "277/278 [============================>.] - ETA: 0s - loss: 0.0067 - accuracy: 0.9909"
          ]
        },
        {
          "output_type": "stream",
          "name": "stderr",
          "text": [
            "WARNING:tensorflow:Learning rate reduction is conditioned on metric `val_acc` which is not available. Available metrics are: loss,accuracy,val_loss,val_accuracy,lr\n"
          ]
        },
        {
          "output_type": "stream",
          "name": "stdout",
          "text": [
            "\b\b\b\b\b\b\b\b\b\b\b\b\b\b\b\b\b\b\b\b\b\b\b\b\b\b\b\b\b\b\b\b\b\b\b\b\b\b\b\b\b\b\b\b\b\b\b\b\b\b\b\b\b\b\b\b\b\b\b\b\b\b\b\b\b\b\b\b\b\b\b\b\b\b\b\b\b\b\b\b\b\b\b\b\r278/278 [==============================] - 16s 57ms/step - loss: 0.0069 - accuracy: 0.9908 - val_loss: 0.4074 - val_accuracy: 0.6947 - lr: 0.0010\n",
            "Epoch 26/50\n",
            "278/278 [==============================] - ETA: 0s - loss: 0.0068 - accuracy: 0.9918"
          ]
        },
        {
          "output_type": "stream",
          "name": "stderr",
          "text": [
            "WARNING:tensorflow:Learning rate reduction is conditioned on metric `val_acc` which is not available. Available metrics are: loss,accuracy,val_loss,val_accuracy,lr\n"
          ]
        },
        {
          "output_type": "stream",
          "name": "stdout",
          "text": [
            "\b\b\b\b\b\b\b\b\b\b\b\b\b\b\b\b\b\b\b\b\b\b\b\b\b\b\b\b\b\b\b\b\b\b\b\b\b\b\b\b\b\b\b\b\b\b\b\b\b\b\b\b\b\b\b\b\b\b\b\b\b\b\b\b\b\b\b\b\b\b\b\b\b\b\b\b\b\b\b\b\b\b\b\b\r278/278 [==============================] - 16s 57ms/step - loss: 0.0068 - accuracy: 0.9918 - val_loss: 0.3545 - val_accuracy: 0.7050 - lr: 0.0010\n",
            "Epoch 27/50\n",
            "277/278 [============================>.] - ETA: 0s - loss: 0.0064 - accuracy: 0.9929"
          ]
        },
        {
          "output_type": "stream",
          "name": "stderr",
          "text": [
            "WARNING:tensorflow:Learning rate reduction is conditioned on metric `val_acc` which is not available. Available metrics are: loss,accuracy,val_loss,val_accuracy,lr\n"
          ]
        },
        {
          "output_type": "stream",
          "name": "stdout",
          "text": [
            "\b\b\b\b\b\b\b\b\b\b\b\b\b\b\b\b\b\b\b\b\b\b\b\b\b\b\b\b\b\b\b\b\b\b\b\b\b\b\b\b\b\b\b\b\b\b\b\b\b\b\b\b\b\b\b\b\b\b\b\b\b\b\b\b\b\b\b\b\b\b\b\b\b\b\b\b\b\b\b\b\b\b\b\b\r278/278 [==============================] - 16s 57ms/step - loss: 0.0064 - accuracy: 0.9930 - val_loss: 0.3763 - val_accuracy: 0.6880 - lr: 0.0010\n",
            "Epoch 28/50\n",
            "277/278 [============================>.] - ETA: 0s - loss: 0.0076 - accuracy: 0.9905"
          ]
        },
        {
          "output_type": "stream",
          "name": "stderr",
          "text": [
            "WARNING:tensorflow:Learning rate reduction is conditioned on metric `val_acc` which is not available. Available metrics are: loss,accuracy,val_loss,val_accuracy,lr\n"
          ]
        },
        {
          "output_type": "stream",
          "name": "stdout",
          "text": [
            "\b\b\b\b\b\b\b\b\b\b\b\b\b\b\b\b\b\b\b\b\b\b\b\b\b\b\b\b\b\b\b\b\b\b\b\b\b\b\b\b\b\b\b\b\b\b\b\b\b\b\b\b\b\b\b\b\b\b\b\b\b\b\b\b\b\b\b\b\b\b\b\b\b\b\b\b\b\b\b\b\b\b\b\b\r278/278 [==============================] - 16s 58ms/step - loss: 0.0078 - accuracy: 0.9904 - val_loss: 0.3506 - val_accuracy: 0.7054 - lr: 0.0010\n",
            "Epoch 29/50\n",
            "277/278 [============================>.] - ETA: 0s - loss: 0.0075 - accuracy: 0.9901"
          ]
        },
        {
          "output_type": "stream",
          "name": "stderr",
          "text": [
            "WARNING:tensorflow:Learning rate reduction is conditioned on metric `val_acc` which is not available. Available metrics are: loss,accuracy,val_loss,val_accuracy,lr\n"
          ]
        },
        {
          "output_type": "stream",
          "name": "stdout",
          "text": [
            "\b\b\b\b\b\b\b\b\b\b\b\b\b\b\b\b\b\b\b\b\b\b\b\b\b\b\b\b\b\b\b\b\b\b\b\b\b\b\b\b\b\b\b\b\b\b\b\b\b\b\b\b\b\b\b\b\b\b\b\b\b\b\b\b\b\b\b\b\b\b\b\b\b\b\b\b\b\b\b\b\b\b\b\b\r278/278 [==============================] - 16s 57ms/step - loss: 0.0076 - accuracy: 0.9901 - val_loss: 0.4339 - val_accuracy: 0.6878 - lr: 0.0010\n",
            "Epoch 30/50\n",
            "278/278 [==============================] - ETA: 0s - loss: 0.0064 - accuracy: 0.9913"
          ]
        },
        {
          "output_type": "stream",
          "name": "stderr",
          "text": [
            "WARNING:tensorflow:Learning rate reduction is conditioned on metric `val_acc` which is not available. Available metrics are: loss,accuracy,val_loss,val_accuracy,lr\n"
          ]
        },
        {
          "output_type": "stream",
          "name": "stdout",
          "text": [
            "\b\b\b\b\b\b\b\b\b\b\b\b\b\b\b\b\b\b\b\b\b\b\b\b\b\b\b\b\b\b\b\b\b\b\b\b\b\b\b\b\b\b\b\b\b\b\b\b\b\b\b\b\b\b\b\b\b\b\b\b\b\b\b\b\b\b\b\b\b\b\b\b\b\b\b\b\b\b\b\b\b\b\b\b\r278/278 [==============================] - 15s 53ms/step - loss: 0.0064 - accuracy: 0.9913 - val_loss: 0.4014 - val_accuracy: 0.6862 - lr: 0.0010\n",
            "Epoch 31/50\n",
            "278/278 [==============================] - ETA: 0s - loss: 0.0055 - accuracy: 0.9930"
          ]
        },
        {
          "output_type": "stream",
          "name": "stderr",
          "text": [
            "WARNING:tensorflow:Learning rate reduction is conditioned on metric `val_acc` which is not available. Available metrics are: loss,accuracy,val_loss,val_accuracy,lr\n"
          ]
        },
        {
          "output_type": "stream",
          "name": "stdout",
          "text": [
            "\b\b\b\b\b\b\b\b\b\b\b\b\b\b\b\b\b\b\b\b\b\b\b\b\b\b\b\b\b\b\b\b\b\b\b\b\b\b\b\b\b\b\b\b\b\b\b\b\b\b\b\b\b\b\b\b\b\b\b\b\b\b\b\b\b\b\b\b\b\b\b\b\b\b\b\b\b\b\b\b\b\b\b\b\r278/278 [==============================] - 15s 54ms/step - loss: 0.0055 - accuracy: 0.9930 - val_loss: 0.3816 - val_accuracy: 0.7072 - lr: 0.0010\n",
            "Epoch 32/50\n",
            "277/278 [============================>.] - ETA: 0s - loss: 0.0063 - accuracy: 0.9917"
          ]
        },
        {
          "output_type": "stream",
          "name": "stderr",
          "text": [
            "WARNING:tensorflow:Learning rate reduction is conditioned on metric `val_acc` which is not available. Available metrics are: loss,accuracy,val_loss,val_accuracy,lr\n"
          ]
        },
        {
          "output_type": "stream",
          "name": "stdout",
          "text": [
            "\b\b\b\b\b\b\b\b\b\b\b\b\b\b\b\b\b\b\b\b\b\b\b\b\b\b\b\b\b\b\b\b\b\b\b\b\b\b\b\b\b\b\b\b\b\b\b\b\b\b\b\b\b\b\b\b\b\b\b\b\b\b\b\b\b\b\b\b\b\b\b\b\b\b\b\b\b\b\b\b\b\b\b\b\r278/278 [==============================] - 15s 55ms/step - loss: 0.0063 - accuracy: 0.9917 - val_loss: 0.3822 - val_accuracy: 0.6816 - lr: 0.0010\n",
            "Epoch 33/50\n",
            "278/278 [==============================] - ETA: 0s - loss: 0.0064 - accuracy: 0.9918"
          ]
        },
        {
          "output_type": "stream",
          "name": "stderr",
          "text": [
            "WARNING:tensorflow:Learning rate reduction is conditioned on metric `val_acc` which is not available. Available metrics are: loss,accuracy,val_loss,val_accuracy,lr\n"
          ]
        },
        {
          "output_type": "stream",
          "name": "stdout",
          "text": [
            "\b\b\b\b\b\b\b\b\b\b\b\b\b\b\b\b\b\b\b\b\b\b\b\b\b\b\b\b\b\b\b\b\b\b\b\b\b\b\b\b\b\b\b\b\b\b\b\b\b\b\b\b\b\b\b\b\b\b\b\b\b\b\b\b\b\b\b\b\b\b\b\b\b\b\b\b\b\b\b\b\b\b\b\b\r278/278 [==============================] - 15s 54ms/step - loss: 0.0064 - accuracy: 0.9918 - val_loss: 0.3513 - val_accuracy: 0.7054 - lr: 0.0010\n",
            "Epoch 34/50\n",
            "278/278 [==============================] - ETA: 0s - loss: 0.0051 - accuracy: 0.9939"
          ]
        },
        {
          "output_type": "stream",
          "name": "stderr",
          "text": [
            "WARNING:tensorflow:Learning rate reduction is conditioned on metric `val_acc` which is not available. Available metrics are: loss,accuracy,val_loss,val_accuracy,lr\n"
          ]
        },
        {
          "output_type": "stream",
          "name": "stdout",
          "text": [
            "\b\b\b\b\b\b\b\b\b\b\b\b\b\b\b\b\b\b\b\b\b\b\b\b\b\b\b\b\b\b\b\b\b\b\b\b\b\b\b\b\b\b\b\b\b\b\b\b\b\b\b\b\b\b\b\b\b\b\b\b\b\b\b\b\b\b\b\b\b\b\b\b\b\b\b\b\b\b\b\b\b\b\b\b\r278/278 [==============================] - 15s 55ms/step - loss: 0.0051 - accuracy: 0.9939 - val_loss: 0.3605 - val_accuracy: 0.7009 - lr: 0.0010\n",
            "Epoch 35/50\n",
            "277/278 [============================>.] - ETA: 0s - loss: 0.0055 - accuracy: 0.9930"
          ]
        },
        {
          "output_type": "stream",
          "name": "stderr",
          "text": [
            "WARNING:tensorflow:Learning rate reduction is conditioned on metric `val_acc` which is not available. Available metrics are: loss,accuracy,val_loss,val_accuracy,lr\n"
          ]
        },
        {
          "output_type": "stream",
          "name": "stdout",
          "text": [
            "\b\b\b\b\b\b\b\b\b\b\b\b\b\b\b\b\b\b\b\b\b\b\b\b\b\b\b\b\b\b\b\b\b\b\b\b\b\b\b\b\b\b\b\b\b\b\b\b\b\b\b\b\b\b\b\b\b\b\b\b\b\b\b\b\b\b\b\b\b\b\b\b\b\b\b\b\b\b\b\b\b\b\b\b\r278/278 [==============================] - 15s 55ms/step - loss: 0.0055 - accuracy: 0.9930 - val_loss: 0.4395 - val_accuracy: 0.6699 - lr: 0.0010\n",
            "Epoch 36/50\n",
            "277/278 [============================>.] - ETA: 0s - loss: 0.0063 - accuracy: 0.9916"
          ]
        },
        {
          "output_type": "stream",
          "name": "stderr",
          "text": [
            "WARNING:tensorflow:Learning rate reduction is conditioned on metric `val_acc` which is not available. Available metrics are: loss,accuracy,val_loss,val_accuracy,lr\n"
          ]
        },
        {
          "output_type": "stream",
          "name": "stdout",
          "text": [
            "\b\b\b\b\b\b\b\b\b\b\b\b\b\b\b\b\b\b\b\b\b\b\b\b\b\b\b\b\b\b\b\b\b\b\b\b\b\b\b\b\b\b\b\b\b\b\b\b\b\b\b\b\b\b\b\b\b\b\b\b\b\b\b\b\b\b\b\b\b\b\b\b\b\b\b\b\b\b\b\b\b\b\b\b\r278/278 [==============================] - 15s 54ms/step - loss: 0.0064 - accuracy: 0.9915 - val_loss: 0.3963 - val_accuracy: 0.7072 - lr: 0.0010\n",
            "Epoch 37/50\n",
            "277/278 [============================>.] - ETA: 0s - loss: 0.0062 - accuracy: 0.9911"
          ]
        },
        {
          "output_type": "stream",
          "name": "stderr",
          "text": [
            "WARNING:tensorflow:Learning rate reduction is conditioned on metric `val_acc` which is not available. Available metrics are: loss,accuracy,val_loss,val_accuracy,lr\n"
          ]
        },
        {
          "output_type": "stream",
          "name": "stdout",
          "text": [
            "\b\b\b\b\b\b\b\b\b\b\b\b\b\b\b\b\b\b\b\b\b\b\b\b\b\b\b\b\b\b\b\b\b\b\b\b\b\b\b\b\b\b\b\b\b\b\b\b\b\b\b\b\b\b\b\b\b\b\b\b\b\b\b\b\b\b\b\b\b\b\b\b\b\b\b\b\b\b\b\b\b\b\b\b\r278/278 [==============================] - 15s 54ms/step - loss: 0.0063 - accuracy: 0.9910 - val_loss: 0.3972 - val_accuracy: 0.6997 - lr: 0.0010\n",
            "Epoch 38/50\n",
            "278/278 [==============================] - ETA: 0s - loss: 0.0134 - accuracy: 0.9834"
          ]
        },
        {
          "output_type": "stream",
          "name": "stderr",
          "text": [
            "WARNING:tensorflow:Learning rate reduction is conditioned on metric `val_acc` which is not available. Available metrics are: loss,accuracy,val_loss,val_accuracy,lr\n"
          ]
        },
        {
          "output_type": "stream",
          "name": "stdout",
          "text": [
            "\b\b\b\b\b\b\b\b\b\b\b\b\b\b\b\b\b\b\b\b\b\b\b\b\b\b\b\b\b\b\b\b\b\b\b\b\b\b\b\b\b\b\b\b\b\b\b\b\b\b\b\b\b\b\b\b\b\b\b\b\b\b\b\b\b\b\b\b\b\b\b\b\b\b\b\b\b\b\b\b\b\b\b\b\r278/278 [==============================] - 15s 54ms/step - loss: 0.0134 - accuracy: 0.9834 - val_loss: 0.3764 - val_accuracy: 0.7014 - lr: 0.0010\n",
            "Epoch 39/50\n",
            "277/278 [============================>.] - ETA: 0s - loss: 0.0083 - accuracy: 0.9891"
          ]
        },
        {
          "output_type": "stream",
          "name": "stderr",
          "text": [
            "WARNING:tensorflow:Learning rate reduction is conditioned on metric `val_acc` which is not available. Available metrics are: loss,accuracy,val_loss,val_accuracy,lr\n"
          ]
        },
        {
          "output_type": "stream",
          "name": "stdout",
          "text": [
            "\b\b\b\b\b\b\b\b\b\b\b\b\b\b\b\b\b\b\b\b\b\b\b\b\b\b\b\b\b\b\b\b\b\b\b\b\b\b\b\b\b\b\b\b\b\b\b\b\b\b\b\b\b\b\b\b\b\b\b\b\b\b\b\b\b\b\b\b\b\b\b\b\b\b\b\b\b\b\b\b\b\b\b\b\r278/278 [==============================] - 15s 53ms/step - loss: 0.0083 - accuracy: 0.9891 - val_loss: 0.3824 - val_accuracy: 0.7182 - lr: 0.0010\n",
            "Epoch 40/50\n",
            "278/278 [==============================] - ETA: 0s - loss: 0.0036 - accuracy: 0.9954"
          ]
        },
        {
          "output_type": "stream",
          "name": "stderr",
          "text": [
            "WARNING:tensorflow:Learning rate reduction is conditioned on metric `val_acc` which is not available. Available metrics are: loss,accuracy,val_loss,val_accuracy,lr\n"
          ]
        },
        {
          "output_type": "stream",
          "name": "stdout",
          "text": [
            "\b\b\b\b\b\b\b\b\b\b\b\b\b\b\b\b\b\b\b\b\b\b\b\b\b\b\b\b\b\b\b\b\b\b\b\b\b\b\b\b\b\b\b\b\b\b\b\b\b\b\b\b\b\b\b\b\b\b\b\b\b\b\b\b\b\b\b\b\b\b\b\b\b\b\b\b\b\b\b\b\b\b\b\b\r278/278 [==============================] - 15s 55ms/step - loss: 0.0036 - accuracy: 0.9954 - val_loss: 0.3751 - val_accuracy: 0.7145 - lr: 0.0010\n",
            "Epoch 41/50\n",
            "277/278 [============================>.] - ETA: 0s - loss: 0.0050 - accuracy: 0.9929"
          ]
        },
        {
          "output_type": "stream",
          "name": "stderr",
          "text": [
            "WARNING:tensorflow:Learning rate reduction is conditioned on metric `val_acc` which is not available. Available metrics are: loss,accuracy,val_loss,val_accuracy,lr\n"
          ]
        },
        {
          "output_type": "stream",
          "name": "stdout",
          "text": [
            "\b\b\b\b\b\b\b\b\b\b\b\b\b\b\b\b\b\b\b\b\b\b\b\b\b\b\b\b\b\b\b\b\b\b\b\b\b\b\b\b\b\b\b\b\b\b\b\b\b\b\b\b\b\b\b\b\b\b\b\b\b\b\b\b\b\b\b\b\b\b\b\b\b\b\b\b\b\b\b\b\b\b\b\b\r278/278 [==============================] - 15s 55ms/step - loss: 0.0053 - accuracy: 0.9927 - val_loss: 0.4407 - val_accuracy: 0.6880 - lr: 0.0010\n",
            "Epoch 42/50\n",
            "278/278 [==============================] - ETA: 0s - loss: 0.0064 - accuracy: 0.9915"
          ]
        },
        {
          "output_type": "stream",
          "name": "stderr",
          "text": [
            "WARNING:tensorflow:Learning rate reduction is conditioned on metric `val_acc` which is not available. Available metrics are: loss,accuracy,val_loss,val_accuracy,lr\n"
          ]
        },
        {
          "output_type": "stream",
          "name": "stdout",
          "text": [
            "\b\b\b\b\b\b\b\b\b\b\b\b\b\b\b\b\b\b\b\b\b\b\b\b\b\b\b\b\b\b\b\b\b\b\b\b\b\b\b\b\b\b\b\b\b\b\b\b\b\b\b\b\b\b\b\b\b\b\b\b\b\b\b\b\b\b\b\b\b\b\b\b\b\b\b\b\b\b\b\b\b\b\b\b\r278/278 [==============================] - 15s 54ms/step - loss: 0.0064 - accuracy: 0.9915 - val_loss: 0.3705 - val_accuracy: 0.7086 - lr: 0.0010\n",
            "Epoch 43/50\n",
            "277/278 [============================>.] - ETA: 0s - loss: 0.0060 - accuracy: 0.9932"
          ]
        },
        {
          "output_type": "stream",
          "name": "stderr",
          "text": [
            "WARNING:tensorflow:Learning rate reduction is conditioned on metric `val_acc` which is not available. Available metrics are: loss,accuracy,val_loss,val_accuracy,lr\n"
          ]
        },
        {
          "output_type": "stream",
          "name": "stdout",
          "text": [
            "\b\b\b\b\b\b\b\b\b\b\b\b\b\b\b\b\b\b\b\b\b\b\b\b\b\b\b\b\b\b\b\b\b\b\b\b\b\b\b\b\b\b\b\b\b\b\b\b\b\b\b\b\b\b\b\b\b\b\b\b\b\b\b\b\b\b\b\b\b\b\b\b\b\b\b\b\b\b\b\b\b\b\b\b\r278/278 [==============================] - 15s 55ms/step - loss: 0.0060 - accuracy: 0.9932 - val_loss: 0.4104 - val_accuracy: 0.7000 - lr: 0.0010\n",
            "Epoch 44/50\n",
            "278/278 [==============================] - ETA: 0s - loss: 0.0039 - accuracy: 0.9950"
          ]
        },
        {
          "output_type": "stream",
          "name": "stderr",
          "text": [
            "WARNING:tensorflow:Learning rate reduction is conditioned on metric `val_acc` which is not available. Available metrics are: loss,accuracy,val_loss,val_accuracy,lr\n"
          ]
        },
        {
          "output_type": "stream",
          "name": "stdout",
          "text": [
            "\b\b\b\b\b\b\b\b\b\b\b\b\b\b\b\b\b\b\b\b\b\b\b\b\b\b\b\b\b\b\b\b\b\b\b\b\b\b\b\b\b\b\b\b\b\b\b\b\b\b\b\b\b\b\b\b\b\b\b\b\b\b\b\b\b\b\b\b\b\b\b\b\b\b\b\b\b\b\b\b\b\b\b\b\r278/278 [==============================] - 15s 55ms/step - loss: 0.0039 - accuracy: 0.9950 - val_loss: 0.4270 - val_accuracy: 0.6929 - lr: 0.0010\n",
            "Epoch 45/50\n",
            "278/278 [==============================] - ETA: 0s - loss: 0.0042 - accuracy: 0.9950"
          ]
        },
        {
          "output_type": "stream",
          "name": "stderr",
          "text": [
            "WARNING:tensorflow:Learning rate reduction is conditioned on metric `val_acc` which is not available. Available metrics are: loss,accuracy,val_loss,val_accuracy,lr\n"
          ]
        },
        {
          "output_type": "stream",
          "name": "stdout",
          "text": [
            "\b\b\b\b\b\b\b\b\b\b\b\b\b\b\b\b\b\b\b\b\b\b\b\b\b\b\b\b\b\b\b\b\b\b\b\b\b\b\b\b\b\b\b\b\b\b\b\b\b\b\b\b\b\b\b\b\b\b\b\b\b\b\b\b\b\b\b\b\b\b\b\b\b\b\b\b\b\b\b\b\b\b\b\b\r278/278 [==============================] - 15s 54ms/step - loss: 0.0042 - accuracy: 0.9950 - val_loss: 0.4356 - val_accuracy: 0.6982 - lr: 0.0010\n",
            "Epoch 46/50\n",
            "278/278 [==============================] - ETA: 0s - loss: 0.0793 - accuracy: 0.8826"
          ]
        },
        {
          "output_type": "stream",
          "name": "stderr",
          "text": [
            "WARNING:tensorflow:Learning rate reduction is conditioned on metric `val_acc` which is not available. Available metrics are: loss,accuracy,val_loss,val_accuracy,lr\n"
          ]
        },
        {
          "output_type": "stream",
          "name": "stdout",
          "text": [
            "\b\b\b\b\b\b\b\b\b\b\b\b\b\b\b\b\b\b\b\b\b\b\b\b\b\b\b\b\b\b\b\b\b\b\b\b\b\b\b\b\b\b\b\b\b\b\b\b\b\b\b\b\b\b\b\b\b\b\b\b\b\b\b\b\b\b\b\b\b\b\b\b\b\b\b\b\b\b\b\b\b\b\b\b\r278/278 [==============================] - 15s 55ms/step - loss: 0.0793 - accuracy: 0.8826 - val_loss: 0.2570 - val_accuracy: 0.6770 - lr: 0.0010\n",
            "Epoch 47/50\n",
            "277/278 [============================>.] - ETA: 0s - loss: 0.0166 - accuracy: 0.9775"
          ]
        },
        {
          "output_type": "stream",
          "name": "stderr",
          "text": [
            "WARNING:tensorflow:Learning rate reduction is conditioned on metric `val_acc` which is not available. Available metrics are: loss,accuracy,val_loss,val_accuracy,lr\n"
          ]
        },
        {
          "output_type": "stream",
          "name": "stdout",
          "text": [
            "\b\b\b\b\b\b\b\b\b\b\b\b\b\b\b\b\b\b\b\b\b\b\b\b\b\b\b\b\b\b\b\b\b\b\b\b\b\b\b\b\b\b\b\b\b\b\b\b\b\b\b\b\b\b\b\b\b\b\b\b\b\b\b\b\b\b\b\b\b\b\b\b\b\b\b\b\b\b\b\b\b\b\b\b\r278/278 [==============================] - 15s 55ms/step - loss: 0.0167 - accuracy: 0.9775 - val_loss: 0.3143 - val_accuracy: 0.7029 - lr: 0.0010\n",
            "Epoch 48/50\n",
            "278/278 [==============================] - ETA: 0s - loss: 0.0056 - accuracy: 0.9930"
          ]
        },
        {
          "output_type": "stream",
          "name": "stderr",
          "text": [
            "WARNING:tensorflow:Learning rate reduction is conditioned on metric `val_acc` which is not available. Available metrics are: loss,accuracy,val_loss,val_accuracy,lr\n"
          ]
        },
        {
          "output_type": "stream",
          "name": "stdout",
          "text": [
            "\b\b\b\b\b\b\b\b\b\b\b\b\b\b\b\b\b\b\b\b\b\b\b\b\b\b\b\b\b\b\b\b\b\b\b\b\b\b\b\b\b\b\b\b\b\b\b\b\b\b\b\b\b\b\b\b\b\b\b\b\b\b\b\b\b\b\b\b\b\b\b\b\b\b\b\b\b\b\b\b\b\b\b\b\r278/278 [==============================] - 15s 55ms/step - loss: 0.0056 - accuracy: 0.9930 - val_loss: 0.3881 - val_accuracy: 0.7087 - lr: 0.0010\n",
            "Epoch 49/50\n",
            "277/278 [============================>.] - ETA: 0s - loss: 0.0052 - accuracy: 0.9937"
          ]
        },
        {
          "output_type": "stream",
          "name": "stderr",
          "text": [
            "WARNING:tensorflow:Learning rate reduction is conditioned on metric `val_acc` which is not available. Available metrics are: loss,accuracy,val_loss,val_accuracy,lr\n"
          ]
        },
        {
          "output_type": "stream",
          "name": "stdout",
          "text": [
            "\b\b\b\b\b\b\b\b\b\b\b\b\b\b\b\b\b\b\b\b\b\b\b\b\b\b\b\b\b\b\b\b\b\b\b\b\b\b\b\b\b\b\b\b\b\b\b\b\b\b\b\b\b\b\b\b\b\b\b\b\b\b\b\b\b\b\b\b\b\b\b\b\b\b\b\b\b\b\b\b\b\b\b\b\r278/278 [==============================] - 15s 55ms/step - loss: 0.0052 - accuracy: 0.9937 - val_loss: 0.4024 - val_accuracy: 0.7108 - lr: 0.0010\n",
            "Epoch 50/50\n",
            "278/278 [==============================] - ETA: 0s - loss: 0.0030 - accuracy: 0.9963"
          ]
        },
        {
          "output_type": "stream",
          "name": "stderr",
          "text": [
            "WARNING:tensorflow:Learning rate reduction is conditioned on metric `val_acc` which is not available. Available metrics are: loss,accuracy,val_loss,val_accuracy,lr\n"
          ]
        },
        {
          "output_type": "stream",
          "name": "stdout",
          "text": [
            "\b\b\b\b\b\b\b\b\b\b\b\b\b\b\b\b\b\b\b\b\b\b\b\b\b\b\b\b\b\b\b\b\b\b\b\b\b\b\b\b\b\b\b\b\b\b\b\b\b\b\b\b\b\b\b\b\b\b\b\b\b\b\b\b\b\b\b\b\b\b\b\b\b\b\b\b\b\b\b\b\b\b\b\b\r278/278 [==============================] - 15s 55ms/step - loss: 0.0030 - accuracy: 0.9963 - val_loss: 0.4240 - val_accuracy: 0.7118 - lr: 0.0010\n"
          ]
        }
      ]
    },
    {
      "cell_type": "code",
      "source": [
        "plt.plot(history.history['accuracy'],color='blue')\n",
        "plt.plot(history.history['val_accuracy'],color='red')\n",
        "\n",
        "plt.title('Model Accuracy')\n",
        "plt.ylabel('Accuracy')\n",
        "plt.xlabel('Epochs')\n",
        "\n",
        "plt.legend(['Train', 'Val'], loc='upper left')\n",
        "plt.show()\n",
        "\n",
        "\n",
        "plt.plot(history.history['loss'],color='blue')\n",
        "plt.plot(history.history['val_loss'],color='red')\n",
        "plt.title('Model Loss')\n",
        "plt.ylabel('Loss')\n",
        "plt.xlabel('Epochs')\n",
        "\n",
        "plt.legend(['Train', 'Val'], loc='upper left')\n",
        "plt.show()\n"
      ],
      "metadata": {
        "id": "0YZcxWi3H8fZ",
        "colab": {
          "base_uri": "https://localhost:8080/",
          "height": 573
        },
        "outputId": "f9f47668-d8ce-4bdf-af93-104b10be5617"
      },
      "execution_count": null,
      "outputs": [
        {
          "output_type": "display_data",
          "data": {
            "text/plain": [
              "<Figure size 432x288 with 1 Axes>"
            ],
            "image/png": "[encoded data removed]"
          },
          "metadata": {
            "needs_background": "light"
          }
        },
        {
          "output_type": "display_data",
          "data": {
            "text/plain": [
              "<Figure size 432x288 with 1 Axes>"
            ],
            "image/png": "[encoded data removed]"
          },
          "metadata": {
            "needs_background": "light"
          }
        }
      ]
    },
    {
      "cell_type": "code",
      "source": [
        "model_cnn.summary()\n"
      ],
      "metadata": {
        "id": "0Jt7GFw_H8da",
        "colab": {
          "base_uri": "https://localhost:8080/"
        },
        "outputId": "c22b154e-bd5b-4e5e-f135-ada16362a073"
      },
      "execution_count": null,
      "outputs": [
        {
          "output_type": "stream",
          "name": "stdout",
          "text": [
            "Model: \"sequential_2\"\n",
            "_________________________________________________________________\n",
            " Layer (type)                Output Shape              Param #   \n",
            "=================================================================\n",
            " inception_v3 (Functional)   (None, 1, 1, 2048)        21802784  \n",
            "                                                                 \n",
            " flatten_2 (Flatten)         (None, 2048)              0         \n",
            "                                                                 \n",
            " dense_4 (Dense)             (None, 128)               262272    \n",
            "                                                                 \n",
            " dense_5 (Dense)             (None, 8)                 1032      \n",
            "                                                                 \n",
            "=================================================================\n",
            "Total params: 22,066,088\n",
            "Trainable params: 22,031,656\n",
            "Non-trainable params: 34,432\n",
            "_________________________________________________________________\n"
          ]
        }
      ]
    },
    {
      "cell_type": "code",
      "source": [
        "import tensorflow as tf\n",
        "tf.keras.utils.plot_model(model_cnn)"
      ],
      "metadata": {
        "id": "ExK3nqLsH8Zs",
        "colab": {
          "base_uri": "https://localhost:8080/",
          "height": 466
        },
        "outputId": "61c06d66-d166-4aa8-ff61-0d5bb0aa158a"
      },
      "execution_count": null,
      "outputs": [
        {
          "output_type": "execute_result",
          "data": {
            "image/png": "[encoded data removed]",
            "text/plain": [
              "<IPython.core.display.Image object>"
            ]
          },
          "metadata": {},
          "execution_count": 43
        }
      ]
    },
    {
      "cell_type": "markdown",
      "source": [
        "RESNET"
      ],
      "metadata": {
        "id": "Sc4NJFK5IW7M"
      }
    },
    {
      "cell_type": "code",
      "source": [
        "from tensorflow.keras.applications.resnet50 import ResNet50"
      ],
      "metadata": {
        "id": "FB-9hoV0IWnA"
      },
      "execution_count": null,
      "outputs": []
    },
    {
      "cell_type": "code",
      "source": [
        "model2=ResNet50(input_shape=(75, 75, 3),weights=\"imagenet\",include_top=False)"
      ],
      "metadata": {
        "id": "MfgDaPh3IWfU",
        "colab": {
          "base_uri": "https://localhost:8080/"
        },
        "outputId": "b60cdf8e-0066-497b-f196-e4d9d646baf4"
      },
      "execution_count": null,
      "outputs": [
        {
          "output_type": "stream",
          "name": "stdout",
          "text": [
            "Downloading data from https://storage.googleapis.com/tensorflow/keras-applications/resnet/resnet50_weights_tf_dim_ordering_tf_kernels_notop.h5\n",
            "94765736/94765736 [==============================] - 5s 0us/step\n"
          ]
        }
      ]
    },
    {
      "cell_type": "code",
      "source": [
        "def build_cnn_model(input_shape = (75, 75, 3), num_classes=2):\n",
        "  model = Sequential() # layer has 1 i/p and 1 o/p\n",
        "  model.add(model2)\n",
        "  model.add(Flatten())\n",
        "  model.add(keras.layers.Dense(128,activation=\"relu\"))\n",
        "  model.add(keras.layers.Dense(8,activation=\"sigmoid\"))\n",
        "  model.summary()\n",
        "  optimizer= Adam(lr=0.001)\n",
        "\n",
        "  model.compile(optimizer = optimizer, loss='binary_crossentropy', metrics=[\"accuracy\"])\n",
        "\n",
        "  return model"
      ],
      "metadata": {
        "id": "AQfiZo5_IWae"
      },
      "execution_count": null,
      "outputs": []
    },
    {
      "cell_type": "code",
      "source": [
        "model_cnn = build_cnn_model()"
      ],
      "metadata": {
        "id": "M7jV3LPoIWY6",
        "colab": {
          "base_uri": "https://localhost:8080/"
        },
        "outputId": "1c80d8fb-3ea9-4994-b510-d931eadad841"
      },
      "execution_count": null,
      "outputs": [
        {
          "output_type": "stream",
          "name": "stdout",
          "text": [
            "Model: \"sequential_3\"\n",
            "_________________________________________________________________\n",
            " Layer (type)                Output Shape              Param #   \n",
            "=================================================================\n",
            " resnet50 (Functional)       (None, 3, 3, 2048)        23587712  \n",
            "                                                                 \n",
            " flatten_3 (Flatten)         (None, 18432)             0         \n",
            "                                                                 \n",
            " dense_6 (Dense)             (None, 128)               2359424   \n",
            "                                                                 \n",
            " dense_7 (Dense)             (None, 8)                 1032      \n",
            "                                                                 \n",
            "=================================================================\n",
            "Total params: 25,948,168\n",
            "Trainable params: 25,895,048\n",
            "Non-trainable params: 53,120\n",
            "_________________________________________________________________\n"
          ]
        }
      ]
    },
    {
      "cell_type": "code",
      "source": [
        "from keras.callbacks import ReduceLROnPlateau\n",
        "\n",
        "learning_rate_annealer = ReduceLROnPlateau(monitor='val_acc',mode='max',\n",
        "                                          patience=3,\n",
        "                                          verbose=1,\n",
        "                                         factor=0.5,\n",
        "                                          min_lr = 1e-4)\n",
        "\n",
        "history = model_cnn.fit(x_train,\n",
        "                    y_train,\n",
        "                    validation_split=0.2,\n",
        "                    epochs=50,\n",
        "                    batch_size = 64,\n",
        "                    verbose=1,\n",
        "                    callbacks=[learning_rate_annealer],validation_data=(x_test,y_test))"
      ],
      "metadata": {
        "id": "mdljnN5KIWVX",
        "colab": {
          "base_uri": "https://localhost:8080/"
        },
        "outputId": "81c4b066-5ec2-49b5-ef12-d6b0ef7aaf05"
      },
      "execution_count": null,
      "outputs": [
        {
          "output_type": "stream",
          "name": "stdout",
          "text": [
            "Epoch 1/50\n",
            "278/278 [==============================] - ETA: 0s - loss: 0.2352 - accuracy: 0.6245"
          ]
        },
        {
          "output_type": "stream",
          "name": "stderr",
          "text": [
            "WARNING:tensorflow:Learning rate reduction is conditioned on metric `val_acc` which is not available. Available metrics are: loss,accuracy,val_loss,val_accuracy,lr\n"
          ]
        },
        {
          "output_type": "stream",
          "name": "stdout",
          "text": [
            "\b\b\b\b\b\b\b\b\b\b\b\b\b\b\b\b\b\b\b\b\b\b\b\b\b\b\b\b\b\b\b\b\b\b\b\b\b\b\b\b\b\b\b\b\b\b\b\b\b\b\b\b\b\b\b\b\b\b\b\b\b\b\b\b\b\b\b\b\b\b\b\b\b\b\b\b\b\b\b\b\b\b\b\b\r278/278 [==============================] - 20s 48ms/step - loss: 0.2352 - accuracy: 0.6245 - val_loss: 0.3995 - val_accuracy: 0.5089 - lr: 0.0010\n",
            "Epoch 2/50\n",
            "277/278 [============================>.] - ETA: 0s - loss: 0.2111 - accuracy: 0.6323"
          ]
        },
        {
          "output_type": "stream",
          "name": "stderr",
          "text": [
            "WARNING:tensorflow:Learning rate reduction is conditioned on metric `val_acc` which is not available. Available metrics are: loss,accuracy,val_loss,val_accuracy,lr\n"
          ]
        },
        {
          "output_type": "stream",
          "name": "stdout",
          "text": [
            "\b\b\b\b\b\b\b\b\b\b\b\b\b\b\b\b\b\b\b\b\b\b\b\b\b\b\b\b\b\b\b\b\b\b\b\b\b\b\b\b\b\b\b\b\b\b\b\b\b\b\b\b\b\b\b\b\b\b\b\b\b\b\b\b\b\b\b\b\b\b\b\b\b\b\b\b\b\b\b\b\b\b\b\b\r278/278 [==============================] - 11s 41ms/step - loss: 0.2111 - accuracy: 0.6323 - val_loss: 0.3182 - val_accuracy: 0.5084 - lr: 0.0010\n",
            "Epoch 3/50\n",
            "277/278 [============================>.] - ETA: 0s - loss: 0.1908 - accuracy: 0.6640"
          ]
        },
        {
          "output_type": "stream",
          "name": "stderr",
          "text": [
            "WARNING:tensorflow:Learning rate reduction is conditioned on metric `val_acc` which is not available. Available metrics are: loss,accuracy,val_loss,val_accuracy,lr\n"
          ]
        },
        {
          "output_type": "stream",
          "name": "stdout",
          "text": [
            "\b\b\b\b\b\b\b\b\b\b\b\b\b\b\b\b\b\b\b\b\b\b\b\b\b\b\b\b\b\b\b\b\b\b\b\b\b\b\b\b\b\b\b\b\b\b\b\b\b\b\b\b\b\b\b\b\b\b\b\b\b\b\b\b\b\b\b\b\b\b\b\b\b\b\b\b\b\b\b\b\b\b\b\b\r278/278 [==============================] - 11s 40ms/step - loss: 0.1908 - accuracy: 0.6640 - val_loss: 0.2617 - val_accuracy: 0.5388 - lr: 0.0010\n",
            "Epoch 4/50\n",
            "277/278 [============================>.] - ETA: 0s - loss: 0.1764 - accuracy: 0.6934"
          ]
        },
        {
          "output_type": "stream",
          "name": "stderr",
          "text": [
            "WARNING:tensorflow:Learning rate reduction is conditioned on metric `val_acc` which is not available. Available metrics are: loss,accuracy,val_loss,val_accuracy,lr\n"
          ]
        },
        {
          "output_type": "stream",
          "name": "stdout",
          "text": [
            "\b\b\b\b\b\b\b\b\b\b\b\b\b\b\b\b\b\b\b\b\b\b\b\b\b\b\b\b\b\b\b\b\b\b\b\b\b\b\b\b\b\b\b\b\b\b\b\b\b\b\b\b\b\b\b\b\b\b\b\b\b\b\b\b\b\b\b\b\b\b\b\b\b\b\b\b\b\b\b\b\b\b\b\b\r278/278 [==============================] - 11s 40ms/step - loss: 0.1764 - accuracy: 0.6934 - val_loss: 0.2240 - val_accuracy: 0.5909 - lr: 0.0010\n",
            "Epoch 5/50\n",
            "277/278 [============================>.] - ETA: 0s - loss: 0.1608 - accuracy: 0.7231"
          ]
        },
        {
          "output_type": "stream",
          "name": "stderr",
          "text": [
            "WARNING:tensorflow:Learning rate reduction is conditioned on metric `val_acc` which is not available. Available metrics are: loss,accuracy,val_loss,val_accuracy,lr\n"
          ]
        },
        {
          "output_type": "stream",
          "name": "stdout",
          "text": [
            "\b\b\b\b\b\b\b\b\b\b\b\b\b\b\b\b\b\b\b\b\b\b\b\b\b\b\b\b\b\b\b\b\b\b\b\b\b\b\b\b\b\b\b\b\b\b\b\b\b\b\b\b\b\b\b\b\b\b\b\b\b\b\b\b\b\b\b\b\b\b\b\b\b\b\b\b\b\b\b\b\b\b\b\b\r278/278 [==============================] - 11s 41ms/step - loss: 0.1608 - accuracy: 0.7231 - val_loss: 0.2018 - val_accuracy: 0.6620 - lr: 0.0010\n",
            "Epoch 6/50\n",
            "277/278 [============================>.] - ETA: 0s - loss: 0.1490 - accuracy: 0.7475"
          ]
        },
        {
          "output_type": "stream",
          "name": "stderr",
          "text": [
            "WARNING:tensorflow:Learning rate reduction is conditioned on metric `val_acc` which is not available. Available metrics are: loss,accuracy,val_loss,val_accuracy,lr\n"
          ]
        },
        {
          "output_type": "stream",
          "name": "stdout",
          "text": [
            "\b\b\b\b\b\b\b\b\b\b\b\b\b\b\b\b\b\b\b\b\b\b\b\b\b\b\b\b\b\b\b\b\b\b\b\b\b\b\b\b\b\b\b\b\b\b\b\b\b\b\b\b\b\b\b\b\b\b\b\b\b\b\b\b\b\b\b\b\b\b\b\b\b\b\b\b\b\b\b\b\b\b\b\b\r278/278 [==============================] - 11s 41ms/step - loss: 0.1491 - accuracy: 0.7474 - val_loss: 0.5172 - val_accuracy: 0.6162 - lr: 0.0010\n",
            "Epoch 7/50\n",
            "277/278 [============================>.] - ETA: 0s - loss: 0.1422 - accuracy: 0.7612"
          ]
        },
        {
          "output_type": "stream",
          "name": "stderr",
          "text": [
            "WARNING:tensorflow:Learning rate reduction is conditioned on metric `val_acc` which is not available. Available metrics are: loss,accuracy,val_loss,val_accuracy,lr\n"
          ]
        },
        {
          "output_type": "stream",
          "name": "stdout",
          "text": [
            "\b\b\b\b\b\b\b\b\b\b\b\b\b\b\b\b\b\b\b\b\b\b\b\b\b\b\b\b\b\b\b\b\b\b\b\b\b\b\b\b\b\b\b\b\b\b\b\b\b\b\b\b\b\b\b\b\b\b\b\b\b\b\b\b\b\b\b\b\b\b\b\b\b\b\b\b\b\b\b\b\b\b\b\b\r278/278 [==============================] - 11s 41ms/step - loss: 0.1422 - accuracy: 0.7612 - val_loss: 0.2554 - val_accuracy: 0.6239 - lr: 0.0010\n",
            "Epoch 8/50\n",
            "277/278 [============================>.] - ETA: 0s - loss: 0.1225 - accuracy: 0.7981"
          ]
        },
        {
          "output_type": "stream",
          "name": "stderr",
          "text": [
            "WARNING:tensorflow:Learning rate reduction is conditioned on metric `val_acc` which is not available. Available metrics are: loss,accuracy,val_loss,val_accuracy,lr\n"
          ]
        },
        {
          "output_type": "stream",
          "name": "stdout",
          "text": [
            "\b\b\b\b\b\b\b\b\b\b\b\b\b\b\b\b\b\b\b\b\b\b\b\b\b\b\b\b\b\b\b\b\b\b\b\b\b\b\b\b\b\b\b\b\b\b\b\b\b\b\b\b\b\b\b\b\b\b\b\b\b\b\b\b\b\b\b\b\b\b\b\b\b\b\b\b\b\b\b\b\b\b\b\b\r278/278 [==============================] - 11s 40ms/step - loss: 0.1225 - accuracy: 0.7982 - val_loss: 0.4162 - val_accuracy: 0.5705 - lr: 0.0010\n",
            "Epoch 9/50\n",
            "277/278 [============================>.] - ETA: 0s - loss: 0.1131 - accuracy: 0.8162"
          ]
        },
        {
          "output_type": "stream",
          "name": "stderr",
          "text": [
            "WARNING:tensorflow:Learning rate reduction is conditioned on metric `val_acc` which is not available. Available metrics are: loss,accuracy,val_loss,val_accuracy,lr\n"
          ]
        },
        {
          "output_type": "stream",
          "name": "stdout",
          "text": [
            "\b\b\b\b\b\b\b\b\b\b\b\b\b\b\b\b\b\b\b\b\b\b\b\b\b\b\b\b\b\b\b\b\b\b\b\b\b\b\b\b\b\b\b\b\b\b\b\b\b\b\b\b\b\b\b\b\b\b\b\b\b\b\b\b\b\b\b\b\b\b\b\b\b\b\b\b\b\b\b\b\b\b\b\b\r278/278 [==============================] - 11s 41ms/step - loss: 0.1131 - accuracy: 0.8162 - val_loss: 2.3394 - val_accuracy: 0.5757 - lr: 0.0010\n",
            "Epoch 10/50\n",
            "277/278 [============================>.] - ETA: 0s - loss: 0.1191 - accuracy: 0.8188"
          ]
        },
        {
          "output_type": "stream",
          "name": "stderr",
          "text": [
            "WARNING:tensorflow:Learning rate reduction is conditioned on metric `val_acc` which is not available. Available metrics are: loss,accuracy,val_loss,val_accuracy,lr\n"
          ]
        },
        {
          "output_type": "stream",
          "name": "stdout",
          "text": [
            "\b\b\b\b\b\b\b\b\b\b\b\b\b\b\b\b\b\b\b\b\b\b\b\b\b\b\b\b\b\b\b\b\b\b\b\b\b\b\b\b\b\b\b\b\b\b\b\b\b\b\b\b\b\b\b\b\b\b\b\b\b\b\b\b\b\b\b\b\b\b\b\b\b\b\b\b\b\b\b\b\b\b\b\b\r278/278 [==============================] - 11s 41ms/step - loss: 0.1191 - accuracy: 0.8187 - val_loss: 0.2104 - val_accuracy: 0.6758 - lr: 0.0010\n",
            "Epoch 11/50\n",
            "277/278 [============================>.] - ETA: 0s - loss: 0.0914 - accuracy: 0.8581"
          ]
        },
        {
          "output_type": "stream",
          "name": "stderr",
          "text": [
            "WARNING:tensorflow:Learning rate reduction is conditioned on metric `val_acc` which is not available. Available metrics are: loss,accuracy,val_loss,val_accuracy,lr\n"
          ]
        },
        {
          "output_type": "stream",
          "name": "stdout",
          "text": [
            "\b\b\b\b\b\b\b\b\b\b\b\b\b\b\b\b\b\b\b\b\b\b\b\b\b\b\b\b\b\b\b\b\b\b\b\b\b\b\b\b\b\b\b\b\b\b\b\b\b\b\b\b\b\b\b\b\b\b\b\b\b\b\b\b\b\b\b\b\b\b\b\b\b\b\b\b\b\b\b\b\b\b\b\b\r278/278 [==============================] - 11s 41ms/step - loss: 0.0914 - accuracy: 0.8580 - val_loss: 0.2524 - val_accuracy: 0.6476 - lr: 0.0010\n",
            "Epoch 12/50\n",
            "277/278 [============================>.] - ETA: 0s - loss: 0.0712 - accuracy: 0.8901"
          ]
        },
        {
          "output_type": "stream",
          "name": "stderr",
          "text": [
            "WARNING:tensorflow:Learning rate reduction is conditioned on metric `val_acc` which is not available. Available metrics are: loss,accuracy,val_loss,val_accuracy,lr\n"
          ]
        },
        {
          "output_type": "stream",
          "name": "stdout",
          "text": [
            "\b\b\b\b\b\b\b\b\b\b\b\b\b\b\b\b\b\b\b\b\b\b\b\b\b\b\b\b\b\b\b\b\b\b\b\b\b\b\b\b\b\b\b\b\b\b\b\b\b\b\b\b\b\b\b\b\b\b\b\b\b\b\b\b\b\b\b\b\b\b\b\b\b\b\b\b\b\b\b\b\b\b\b\b\r278/278 [==============================] - 11s 40ms/step - loss: 0.0713 - accuracy: 0.8900 - val_loss: 1.5604 - val_accuracy: 0.5825 - lr: 0.0010\n",
            "Epoch 13/50\n",
            "277/278 [============================>.] - ETA: 0s - loss: 0.0811 - accuracy: 0.8815"
          ]
        },
        {
          "output_type": "stream",
          "name": "stderr",
          "text": [
            "WARNING:tensorflow:Learning rate reduction is conditioned on metric `val_acc` which is not available. Available metrics are: loss,accuracy,val_loss,val_accuracy,lr\n"
          ]
        },
        {
          "output_type": "stream",
          "name": "stdout",
          "text": [
            "\b\b\b\b\b\b\b\b\b\b\b\b\b\b\b\b\b\b\b\b\b\b\b\b\b\b\b\b\b\b\b\b\b\b\b\b\b\b\b\b\b\b\b\b\b\b\b\b\b\b\b\b\b\b\b\b\b\b\b\b\b\b\b\b\b\b\b\b\b\b\b\b\b\b\b\b\b\b\b\b\b\b\b\b\r278/278 [==============================] - 11s 41ms/step - loss: 0.0811 - accuracy: 0.8815 - val_loss: 0.2927 - val_accuracy: 0.6309 - lr: 0.0010\n",
            "Epoch 14/50\n",
            "277/278 [============================>.] - ETA: 0s - loss: 0.0456 - accuracy: 0.9342"
          ]
        },
        {
          "output_type": "stream",
          "name": "stderr",
          "text": [
            "WARNING:tensorflow:Learning rate reduction is conditioned on metric `val_acc` which is not available. Available metrics are: loss,accuracy,val_loss,val_accuracy,lr\n"
          ]
        },
        {
          "output_type": "stream",
          "name": "stdout",
          "text": [
            "\b\b\b\b\b\b\b\b\b\b\b\b\b\b\b\b\b\b\b\b\b\b\b\b\b\b\b\b\b\b\b\b\b\b\b\b\b\b\b\b\b\b\b\b\b\b\b\b\b\b\b\b\b\b\b\b\b\b\b\b\b\b\b\b\b\b\b\b\b\b\b\b\b\b\b\b\b\b\b\b\b\b\b\b\r278/278 [==============================] - 11s 41ms/step - loss: 0.0456 - accuracy: 0.9342 - val_loss: 0.3150 - val_accuracy: 0.6134 - lr: 0.0010\n",
            "Epoch 15/50\n",
            "277/278 [============================>.] - ETA: 0s - loss: 0.0414 - accuracy: 0.9390"
          ]
        },
        {
          "output_type": "stream",
          "name": "stderr",
          "text": [
            "WARNING:tensorflow:Learning rate reduction is conditioned on metric `val_acc` which is not available. Available metrics are: loss,accuracy,val_loss,val_accuracy,lr\n"
          ]
        },
        {
          "output_type": "stream",
          "name": "stdout",
          "text": [
            "\b\b\b\b\b\b\b\b\b\b\b\b\b\b\b\b\b\b\b\b\b\b\b\b\b\b\b\b\b\b\b\b\b\b\b\b\b\b\b\b\b\b\b\b\b\b\b\b\b\b\b\b\b\b\b\b\b\b\b\b\b\b\b\b\b\b\b\b\b\b\b\b\b\b\b\b\b\b\b\b\b\b\b\b\r278/278 [==============================] - 11s 41ms/step - loss: 0.0414 - accuracy: 0.9389 - val_loss: 0.4408 - val_accuracy: 0.6121 - lr: 0.0010\n",
            "Epoch 16/50\n",
            "277/278 [============================>.] - ETA: 0s - loss: 0.0575 - accuracy: 0.9161"
          ]
        },
        {
          "output_type": "stream",
          "name": "stderr",
          "text": [
            "WARNING:tensorflow:Learning rate reduction is conditioned on metric `val_acc` which is not available. Available metrics are: loss,accuracy,val_loss,val_accuracy,lr\n"
          ]
        },
        {
          "output_type": "stream",
          "name": "stdout",
          "text": [
            "\b\b\b\b\b\b\b\b\b\b\b\b\b\b\b\b\b\b\b\b\b\b\b\b\b\b\b\b\b\b\b\b\b\b\b\b\b\b\b\b\b\b\b\b\b\b\b\b\b\b\b\b\b\b\b\b\b\b\b\b\b\b\b\b\b\b\b\b\b\b\b\b\b\b\b\b\b\b\b\b\b\b\b\b\r278/278 [==============================] - 11s 40ms/step - loss: 0.0575 - accuracy: 0.9161 - val_loss: 0.2902 - val_accuracy: 0.6708 - lr: 0.0010\n",
            "Epoch 17/50\n",
            "277/278 [============================>.] - ETA: 0s - loss: 0.0281 - accuracy: 0.9601"
          ]
        },
        {
          "output_type": "stream",
          "name": "stderr",
          "text": [
            "WARNING:tensorflow:Learning rate reduction is conditioned on metric `val_acc` which is not available. Available metrics are: loss,accuracy,val_loss,val_accuracy,lr\n"
          ]
        },
        {
          "output_type": "stream",
          "name": "stdout",
          "text": [
            "\b\b\b\b\b\b\b\b\b\b\b\b\b\b\b\b\b\b\b\b\b\b\b\b\b\b\b\b\b\b\b\b\b\b\b\b\b\b\b\b\b\b\b\b\b\b\b\b\b\b\b\b\b\b\b\b\b\b\b\b\b\b\b\b\b\b\b\b\b\b\b\b\b\b\b\b\b\b\b\b\b\b\b\b\r278/278 [==============================] - 11s 41ms/step - loss: 0.0282 - accuracy: 0.9601 - val_loss: 0.4548 - val_accuracy: 0.6247 - lr: 0.0010\n",
            "Epoch 18/50\n",
            "277/278 [============================>.] - ETA: 0s - loss: 0.0742 - accuracy: 0.8862"
          ]
        },
        {
          "output_type": "stream",
          "name": "stderr",
          "text": [
            "WARNING:tensorflow:Learning rate reduction is conditioned on metric `val_acc` which is not available. Available metrics are: loss,accuracy,val_loss,val_accuracy,lr\n"
          ]
        },
        {
          "output_type": "stream",
          "name": "stdout",
          "text": [
            "\b\b\b\b\b\b\b\b\b\b\b\b\b\b\b\b\b\b\b\b\b\b\b\b\b\b\b\b\b\b\b\b\b\b\b\b\b\b\b\b\b\b\b\b\b\b\b\b\b\b\b\b\b\b\b\b\b\b\b\b\b\b\b\b\b\b\b\b\b\b\b\b\b\b\b\b\b\b\b\b\b\b\b\b\r278/278 [==============================] - 11s 41ms/step - loss: 0.0742 - accuracy: 0.8861 - val_loss: 0.4398 - val_accuracy: 0.6170 - lr: 0.0010\n",
            "Epoch 19/50\n",
            "277/278 [============================>.] - ETA: 0s - loss: 0.0260 - accuracy: 0.9638"
          ]
        },
        {
          "output_type": "stream",
          "name": "stderr",
          "text": [
            "WARNING:tensorflow:Learning rate reduction is conditioned on metric `val_acc` which is not available. Available metrics are: loss,accuracy,val_loss,val_accuracy,lr\n"
          ]
        },
        {
          "output_type": "stream",
          "name": "stdout",
          "text": [
            "\b\b\b\b\b\b\b\b\b\b\b\b\b\b\b\b\b\b\b\b\b\b\b\b\b\b\b\b\b\b\b\b\b\b\b\b\b\b\b\b\b\b\b\b\b\b\b\b\b\b\b\b\b\b\b\b\b\b\b\b\b\b\b\b\b\b\b\b\b\b\b\b\b\b\b\b\b\b\b\b\b\b\b\b\r278/278 [==============================] - 11s 41ms/step - loss: 0.0260 - accuracy: 0.9638 - val_loss: 0.3656 - val_accuracy: 0.6503 - lr: 0.0010\n",
            "Epoch 20/50\n",
            "277/278 [============================>.] - ETA: 0s - loss: 0.0231 - accuracy: 0.9684"
          ]
        },
        {
          "output_type": "stream",
          "name": "stderr",
          "text": [
            "WARNING:tensorflow:Learning rate reduction is conditioned on metric `val_acc` which is not available. Available metrics are: loss,accuracy,val_loss,val_accuracy,lr\n"
          ]
        },
        {
          "output_type": "stream",
          "name": "stdout",
          "text": [
            "\b\b\b\b\b\b\b\b\b\b\b\b\b\b\b\b\b\b\b\b\b\b\b\b\b\b\b\b\b\b\b\b\b\b\b\b\b\b\b\b\b\b\b\b\b\b\b\b\b\b\b\b\b\b\b\b\b\b\b\b\b\b\b\b\b\b\b\b\b\b\b\b\b\b\b\b\b\b\b\b\b\b\b\b\r278/278 [==============================] - 11s 41ms/step - loss: 0.0231 - accuracy: 0.9684 - val_loss: 0.3966 - val_accuracy: 0.6428 - lr: 0.0010\n",
            "Epoch 21/50\n",
            "277/278 [============================>.] - ETA: 0s - loss: 0.0193 - accuracy: 0.9722"
          ]
        },
        {
          "output_type": "stream",
          "name": "stderr",
          "text": [
            "WARNING:tensorflow:Learning rate reduction is conditioned on metric `val_acc` which is not available. Available metrics are: loss,accuracy,val_loss,val_accuracy,lr\n"
          ]
        },
        {
          "output_type": "stream",
          "name": "stdout",
          "text": [
            "\b\b\b\b\b\b\b\b\b\b\b\b\b\b\b\b\b\b\b\b\b\b\b\b\b\b\b\b\b\b\b\b\b\b\b\b\b\b\b\b\b\b\b\b\b\b\b\b\b\b\b\b\b\b\b\b\b\b\b\b\b\b\b\b\b\b\b\b\b\b\b\b\b\b\b\b\b\b\b\b\b\b\b\b\r278/278 [==============================] - 12s 42ms/step - loss: 0.0194 - accuracy: 0.9722 - val_loss: 0.3910 - val_accuracy: 0.6445 - lr: 0.0010\n",
            "Epoch 22/50\n",
            "277/278 [============================>.] - ETA: 0s - loss: 0.0295 - accuracy: 0.9595"
          ]
        },
        {
          "output_type": "stream",
          "name": "stderr",
          "text": [
            "WARNING:tensorflow:Learning rate reduction is conditioned on metric `val_acc` which is not available. Available metrics are: loss,accuracy,val_loss,val_accuracy,lr\n"
          ]
        },
        {
          "output_type": "stream",
          "name": "stdout",
          "text": [
            "\b\b\b\b\b\b\b\b\b\b\b\b\b\b\b\b\b\b\b\b\b\b\b\b\b\b\b\b\b\b\b\b\b\b\b\b\b\b\b\b\b\b\b\b\b\b\b\b\b\b\b\b\b\b\b\b\b\b\b\b\b\b\b\b\b\b\b\b\b\b\b\b\b\b\b\b\b\b\b\b\b\b\b\b\r278/278 [==============================] - 12s 42ms/step - loss: 0.0295 - accuracy: 0.9594 - val_loss: 0.3568 - val_accuracy: 0.6209 - lr: 0.0010\n",
            "Epoch 23/50\n",
            "277/278 [============================>.] - ETA: 0s - loss: 0.0236 - accuracy: 0.9657"
          ]
        },
        {
          "output_type": "stream",
          "name": "stderr",
          "text": [
            "WARNING:tensorflow:Learning rate reduction is conditioned on metric `val_acc` which is not available. Available metrics are: loss,accuracy,val_loss,val_accuracy,lr\n"
          ]
        },
        {
          "output_type": "stream",
          "name": "stdout",
          "text": [
            "\b\b\b\b\b\b\b\b\b\b\b\b\b\b\b\b\b\b\b\b\b\b\b\b\b\b\b\b\b\b\b\b\b\b\b\b\b\b\b\b\b\b\b\b\b\b\b\b\b\b\b\b\b\b\b\b\b\b\b\b\b\b\b\b\b\b\b\b\b\b\b\b\b\b\b\b\b\b\b\b\b\b\b\b\r278/278 [==============================] - 12s 42ms/step - loss: 0.0237 - accuracy: 0.9657 - val_loss: 0.9680 - val_accuracy: 0.5487 - lr: 0.0010\n",
            "Epoch 24/50\n",
            "277/278 [============================>.] - ETA: 0s - loss: 0.0319 - accuracy: 0.9554"
          ]
        },
        {
          "output_type": "stream",
          "name": "stderr",
          "text": [
            "WARNING:tensorflow:Learning rate reduction is conditioned on metric `val_acc` which is not available. Available metrics are: loss,accuracy,val_loss,val_accuracy,lr\n"
          ]
        },
        {
          "output_type": "stream",
          "name": "stdout",
          "text": [
            "\b\b\b\b\b\b\b\b\b\b\b\b\b\b\b\b\b\b\b\b\b\b\b\b\b\b\b\b\b\b\b\b\b\b\b\b\b\b\b\b\b\b\b\b\b\b\b\b\b\b\b\b\b\b\b\b\b\b\b\b\b\b\b\b\b\b\b\b\b\b\b\b\b\b\b\b\b\b\b\b\b\b\b\b\r278/278 [==============================] - 12s 42ms/step - loss: 0.0319 - accuracy: 0.9554 - val_loss: 0.4177 - val_accuracy: 0.6239 - lr: 0.0010\n",
            "Epoch 25/50\n",
            "277/278 [============================>.] - ETA: 0s - loss: 0.0270 - accuracy: 0.9683"
          ]
        },
        {
          "output_type": "stream",
          "name": "stderr",
          "text": [
            "WARNING:tensorflow:Learning rate reduction is conditioned on metric `val_acc` which is not available. Available metrics are: loss,accuracy,val_loss,val_accuracy,lr\n"
          ]
        },
        {
          "output_type": "stream",
          "name": "stdout",
          "text": [
            "\b\b\b\b\b\b\b\b\b\b\b\b\b\b\b\b\b\b\b\b\b\b\b\b\b\b\b\b\b\b\b\b\b\b\b\b\b\b\b\b\b\b\b\b\b\b\b\b\b\b\b\b\b\b\b\b\b\b\b\b\b\b\b\b\b\b\b\b\b\b\b\b\b\b\b\b\b\b\b\b\b\b\b\b\r278/278 [==============================] - 12s 42ms/step - loss: 0.0270 - accuracy: 0.9682 - val_loss: 0.3663 - val_accuracy: 0.5479 - lr: 0.0010\n",
            "Epoch 26/50\n",
            "277/278 [============================>.] - ETA: 0s - loss: 0.0398 - accuracy: 0.9474"
          ]
        },
        {
          "output_type": "stream",
          "name": "stderr",
          "text": [
            "WARNING:tensorflow:Learning rate reduction is conditioned on metric `val_acc` which is not available. Available metrics are: loss,accuracy,val_loss,val_accuracy,lr\n"
          ]
        },
        {
          "output_type": "stream",
          "name": "stdout",
          "text": [
            "\b\b\b\b\b\b\b\b\b\b\b\b\b\b\b\b\b\b\b\b\b\b\b\b\b\b\b\b\b\b\b\b\b\b\b\b\b\b\b\b\b\b\b\b\b\b\b\b\b\b\b\b\b\b\b\b\b\b\b\b\b\b\b\b\b\b\b\b\b\b\b\b\b\b\b\b\b\b\b\b\b\b\b\b\r278/278 [==============================] - 12s 43ms/step - loss: 0.0399 - accuracy: 0.9473 - val_loss: 0.3788 - val_accuracy: 0.6618 - lr: 0.0010\n",
            "Epoch 27/50\n",
            "277/278 [============================>.] - ETA: 0s - loss: 0.0376 - accuracy: 0.9490"
          ]
        },
        {
          "output_type": "stream",
          "name": "stderr",
          "text": [
            "WARNING:tensorflow:Learning rate reduction is conditioned on metric `val_acc` which is not available. Available metrics are: loss,accuracy,val_loss,val_accuracy,lr\n"
          ]
        },
        {
          "output_type": "stream",
          "name": "stdout",
          "text": [
            "\b\b\b\b\b\b\b\b\b\b\b\b\b\b\b\b\b\b\b\b\b\b\b\b\b\b\b\b\b\b\b\b\b\b\b\b\b\b\b\b\b\b\b\b\b\b\b\b\b\b\b\b\b\b\b\b\b\b\b\b\b\b\b\b\b\b\b\b\b\b\b\b\b\b\b\b\b\b\b\b\b\b\b\b\r278/278 [==============================] - 12s 42ms/step - loss: 0.0377 - accuracy: 0.9490 - val_loss: 0.3367 - val_accuracy: 0.5657 - lr: 0.0010\n",
            "Epoch 28/50\n",
            "277/278 [============================>.] - ETA: 0s - loss: 0.0188 - accuracy: 0.9763"
          ]
        },
        {
          "output_type": "stream",
          "name": "stderr",
          "text": [
            "WARNING:tensorflow:Learning rate reduction is conditioned on metric `val_acc` which is not available. Available metrics are: loss,accuracy,val_loss,val_accuracy,lr\n"
          ]
        },
        {
          "output_type": "stream",
          "name": "stdout",
          "text": [
            "\b\b\b\b\b\b\b\b\b\b\b\b\b\b\b\b\b\b\b\b\b\b\b\b\b\b\b\b\b\b\b\b\b\b\b\b\b\b\b\b\b\b\b\b\b\b\b\b\b\b\b\b\b\b\b\b\b\b\b\b\b\b\b\b\b\b\b\b\b\b\b\b\b\b\b\b\b\b\b\b\b\b\b\b\r278/278 [==============================] - 12s 42ms/step - loss: 0.0189 - accuracy: 0.9762 - val_loss: 0.3832 - val_accuracy: 0.6375 - lr: 0.0010\n",
            "Epoch 29/50\n",
            "277/278 [============================>.] - ETA: 0s - loss: 0.0206 - accuracy: 0.9730"
          ]
        },
        {
          "output_type": "stream",
          "name": "stderr",
          "text": [
            "WARNING:tensorflow:Learning rate reduction is conditioned on metric `val_acc` which is not available. Available metrics are: loss,accuracy,val_loss,val_accuracy,lr\n"
          ]
        },
        {
          "output_type": "stream",
          "name": "stdout",
          "text": [
            "\b\b\b\b\b\b\b\b\b\b\b\b\b\b\b\b\b\b\b\b\b\b\b\b\b\b\b\b\b\b\b\b\b\b\b\b\b\b\b\b\b\b\b\b\b\b\b\b\b\b\b\b\b\b\b\b\b\b\b\b\b\b\b\b\b\b\b\b\b\b\b\b\b\b\b\b\b\b\b\b\b\b\b\b\r278/278 [==============================] - 12s 42ms/step - loss: 0.0206 - accuracy: 0.9730 - val_loss: 0.3657 - val_accuracy: 0.6412 - lr: 0.0010\n",
            "Epoch 30/50\n",
            "277/278 [============================>.] - ETA: 0s - loss: 0.0353 - accuracy: 0.9525"
          ]
        },
        {
          "output_type": "stream",
          "name": "stderr",
          "text": [
            "WARNING:tensorflow:Learning rate reduction is conditioned on metric `val_acc` which is not available. Available metrics are: loss,accuracy,val_loss,val_accuracy,lr\n"
          ]
        },
        {
          "output_type": "stream",
          "name": "stdout",
          "text": [
            "\b\b\b\b\b\b\b\b\b\b\b\b\b\b\b\b\b\b\b\b\b\b\b\b\b\b\b\b\b\b\b\b\b\b\b\b\b\b\b\b\b\b\b\b\b\b\b\b\b\b\b\b\b\b\b\b\b\b\b\b\b\b\b\b\b\b\b\b\b\b\b\b\b\b\b\b\b\b\b\b\b\b\b\b\r278/278 [==============================] - 12s 42ms/step - loss: 0.0355 - accuracy: 0.9525 - val_loss: 0.5617 - val_accuracy: 0.6321 - lr: 0.0010\n",
            "Epoch 31/50\n",
            "277/278 [============================>.] - ETA: 0s - loss: 0.0557 - accuracy: 0.9200"
          ]
        },
        {
          "output_type": "stream",
          "name": "stderr",
          "text": [
            "WARNING:tensorflow:Learning rate reduction is conditioned on metric `val_acc` which is not available. Available metrics are: loss,accuracy,val_loss,val_accuracy,lr\n"
          ]
        },
        {
          "output_type": "stream",
          "name": "stdout",
          "text": [
            "\b\b\b\b\b\b\b\b\b\b\b\b\b\b\b\b\b\b\b\b\b\b\b\b\b\b\b\b\b\b\b\b\b\b\b\b\b\b\b\b\b\b\b\b\b\b\b\b\b\b\b\b\b\b\b\b\b\b\b\b\b\b\b\b\b\b\b\b\b\b\b\b\b\b\b\b\b\b\b\b\b\b\b\b\r278/278 [==============================] - 12s 42ms/step - loss: 0.0557 - accuracy: 0.9200 - val_loss: 0.3155 - val_accuracy: 0.6566 - lr: 0.0010\n",
            "Epoch 32/50\n",
            "277/278 [============================>.] - ETA: 0s - loss: 0.0107 - accuracy: 0.9871"
          ]
        },
        {
          "output_type": "stream",
          "name": "stderr",
          "text": [
            "WARNING:tensorflow:Learning rate reduction is conditioned on metric `val_acc` which is not available. Available metrics are: loss,accuracy,val_loss,val_accuracy,lr\n"
          ]
        },
        {
          "output_type": "stream",
          "name": "stdout",
          "text": [
            "\b\b\b\b\b\b\b\b\b\b\b\b\b\b\b\b\b\b\b\b\b\b\b\b\b\b\b\b\b\b\b\b\b\b\b\b\b\b\b\b\b\b\b\b\b\b\b\b\b\b\b\b\b\b\b\b\b\b\b\b\b\b\b\b\b\b\b\b\b\b\b\b\b\b\b\b\b\b\b\b\b\b\b\b\r278/278 [==============================] - 12s 42ms/step - loss: 0.0107 - accuracy: 0.9871 - val_loss: 0.4604 - val_accuracy: 0.6562 - lr: 0.0010\n",
            "Epoch 33/50\n",
            "277/278 [============================>.] - ETA: 0s - loss: 0.0112 - accuracy: 0.9854"
          ]
        },
        {
          "output_type": "stream",
          "name": "stderr",
          "text": [
            "WARNING:tensorflow:Learning rate reduction is conditioned on metric `val_acc` which is not available. Available metrics are: loss,accuracy,val_loss,val_accuracy,lr\n"
          ]
        },
        {
          "output_type": "stream",
          "name": "stdout",
          "text": [
            "\b\b\b\b\b\b\b\b\b\b\b\b\b\b\b\b\b\b\b\b\b\b\b\b\b\b\b\b\b\b\b\b\b\b\b\b\b\b\b\b\b\b\b\b\b\b\b\b\b\b\b\b\b\b\b\b\b\b\b\b\b\b\b\b\b\b\b\b\b\b\b\b\b\b\b\b\b\b\b\b\b\b\b\b\r278/278 [==============================] - 12s 42ms/step - loss: 0.0112 - accuracy: 0.9854 - val_loss: 0.4234 - val_accuracy: 0.6671 - lr: 0.0010\n",
            "Epoch 34/50\n",
            "277/278 [============================>.] - ETA: 0s - loss: 0.0063 - accuracy: 0.9922"
          ]
        },
        {
          "output_type": "stream",
          "name": "stderr",
          "text": [
            "WARNING:tensorflow:Learning rate reduction is conditioned on metric `val_acc` which is not available. Available metrics are: loss,accuracy,val_loss,val_accuracy,lr\n"
          ]
        },
        {
          "output_type": "stream",
          "name": "stdout",
          "text": [
            "\b\b\b\b\b\b\b\b\b\b\b\b\b\b\b\b\b\b\b\b\b\b\b\b\b\b\b\b\b\b\b\b\b\b\b\b\b\b\b\b\b\b\b\b\b\b\b\b\b\b\b\b\b\b\b\b\b\b\b\b\b\b\b\b\b\b\b\b\b\b\b\b\b\b\b\b\b\b\b\b\b\b\b\b\r278/278 [==============================] - 12s 42ms/step - loss: 0.0063 - accuracy: 0.9921 - val_loss: 0.4693 - val_accuracy: 0.6596 - lr: 0.0010\n",
            "Epoch 35/50\n",
            "277/278 [============================>.] - ETA: 0s - loss: 0.0129 - accuracy: 0.9845"
          ]
        },
        {
          "output_type": "stream",
          "name": "stderr",
          "text": [
            "WARNING:tensorflow:Learning rate reduction is conditioned on metric `val_acc` which is not available. Available metrics are: loss,accuracy,val_loss,val_accuracy,lr\n"
          ]
        },
        {
          "output_type": "stream",
          "name": "stdout",
          "text": [
            "\b\b\b\b\b\b\b\b\b\b\b\b\b\b\b\b\b\b\b\b\b\b\b\b\b\b\b\b\b\b\b\b\b\b\b\b\b\b\b\b\b\b\b\b\b\b\b\b\b\b\b\b\b\b\b\b\b\b\b\b\b\b\b\b\b\b\b\b\b\b\b\b\b\b\b\b\b\b\b\b\b\b\b\b\r278/278 [==============================] - 12s 42ms/step - loss: 0.0129 - accuracy: 0.9845 - val_loss: 0.4905 - val_accuracy: 0.6507 - lr: 0.0010\n",
            "Epoch 36/50\n",
            "277/278 [============================>.] - ETA: 0s - loss: 0.0101 - accuracy: 0.9883"
          ]
        },
        {
          "output_type": "stream",
          "name": "stderr",
          "text": [
            "WARNING:tensorflow:Learning rate reduction is conditioned on metric `val_acc` which is not available. Available metrics are: loss,accuracy,val_loss,val_accuracy,lr\n"
          ]
        },
        {
          "output_type": "stream",
          "name": "stdout",
          "text": [
            "\b\b\b\b\b\b\b\b\b\b\b\b\b\b\b\b\b\b\b\b\b\b\b\b\b\b\b\b\b\b\b\b\b\b\b\b\b\b\b\b\b\b\b\b\b\b\b\b\b\b\b\b\b\b\b\b\b\b\b\b\b\b\b\b\b\b\b\b\b\b\b\b\b\b\b\b\b\b\b\b\b\b\b\b\r278/278 [==============================] - 12s 42ms/step - loss: 0.0102 - accuracy: 0.9883 - val_loss: 0.4894 - val_accuracy: 0.6371 - lr: 0.0010\n",
            "Epoch 37/50\n",
            "277/278 [============================>.] - ETA: 0s - loss: 0.0088 - accuracy: 0.9892"
          ]
        },
        {
          "output_type": "stream",
          "name": "stderr",
          "text": [
            "WARNING:tensorflow:Learning rate reduction is conditioned on metric `val_acc` which is not available. Available metrics are: loss,accuracy,val_loss,val_accuracy,lr\n"
          ]
        },
        {
          "output_type": "stream",
          "name": "stdout",
          "text": [
            "\b\b\b\b\b\b\b\b\b\b\b\b\b\b\b\b\b\b\b\b\b\b\b\b\b\b\b\b\b\b\b\b\b\b\b\b\b\b\b\b\b\b\b\b\b\b\b\b\b\b\b\b\b\b\b\b\b\b\b\b\b\b\b\b\b\b\b\b\b\b\b\b\b\b\b\b\b\b\b\b\b\b\b\b\r278/278 [==============================] - 12s 42ms/step - loss: 0.0088 - accuracy: 0.9892 - val_loss: 0.4467 - val_accuracy: 0.6459 - lr: 0.0010\n",
            "Epoch 38/50\n",
            "277/278 [============================>.] - ETA: 0s - loss: 0.0074 - accuracy: 0.9897"
          ]
        },
        {
          "output_type": "stream",
          "name": "stderr",
          "text": [
            "WARNING:tensorflow:Learning rate reduction is conditioned on metric `val_acc` which is not available. Available metrics are: loss,accuracy,val_loss,val_accuracy,lr\n"
          ]
        },
        {
          "output_type": "stream",
          "name": "stdout",
          "text": [
            "\b\b\b\b\b\b\b\b\b\b\b\b\b\b\b\b\b\b\b\b\b\b\b\b\b\b\b\b\b\b\b\b\b\b\b\b\b\b\b\b\b\b\b\b\b\b\b\b\b\b\b\b\b\b\b\b\b\b\b\b\b\b\b\b\b\b\b\b\b\b\b\b\b\b\b\b\b\b\b\b\b\b\b\b\r278/278 [==============================] - 12s 42ms/step - loss: 0.0074 - accuracy: 0.9896 - val_loss: 0.4845 - val_accuracy: 0.6521 - lr: 0.0010\n",
            "Epoch 39/50\n",
            "277/278 [============================>.] - ETA: 0s - loss: 0.0229 - accuracy: 0.9677"
          ]
        },
        {
          "output_type": "stream",
          "name": "stderr",
          "text": [
            "WARNING:tensorflow:Learning rate reduction is conditioned on metric `val_acc` which is not available. Available metrics are: loss,accuracy,val_loss,val_accuracy,lr\n"
          ]
        },
        {
          "output_type": "stream",
          "name": "stdout",
          "text": [
            "\b\b\b\b\b\b\b\b\b\b\b\b\b\b\b\b\b\b\b\b\b\b\b\b\b\b\b\b\b\b\b\b\b\b\b\b\b\b\b\b\b\b\b\b\b\b\b\b\b\b\b\b\b\b\b\b\b\b\b\b\b\b\b\b\b\b\b\b\b\b\b\b\b\b\b\b\b\b\b\b\b\b\b\b\r278/278 [==============================] - 12s 42ms/step - loss: 0.0229 - accuracy: 0.9677 - val_loss: 0.4338 - val_accuracy: 0.6422 - lr: 0.0010\n",
            "Epoch 40/50\n",
            "277/278 [============================>.] - ETA: 0s - loss: 0.0084 - accuracy: 0.9895"
          ]
        },
        {
          "output_type": "stream",
          "name": "stderr",
          "text": [
            "WARNING:tensorflow:Learning rate reduction is conditioned on metric `val_acc` which is not available. Available metrics are: loss,accuracy,val_loss,val_accuracy,lr\n"
          ]
        },
        {
          "output_type": "stream",
          "name": "stdout",
          "text": [
            "\b\b\b\b\b\b\b\b\b\b\b\b\b\b\b\b\b\b\b\b\b\b\b\b\b\b\b\b\b\b\b\b\b\b\b\b\b\b\b\b\b\b\b\b\b\b\b\b\b\b\b\b\b\b\b\b\b\b\b\b\b\b\b\b\b\b\b\b\b\b\b\b\b\b\b\b\b\b\b\b\b\b\b\b\r278/278 [==============================] - 12s 42ms/step - loss: 0.0085 - accuracy: 0.9895 - val_loss: 0.4314 - val_accuracy: 0.6520 - lr: 0.0010\n",
            "Epoch 41/50\n",
            "277/278 [============================>.] - ETA: 0s - loss: 0.0144 - accuracy: 0.9821"
          ]
        },
        {
          "output_type": "stream",
          "name": "stderr",
          "text": [
            "WARNING:tensorflow:Learning rate reduction is conditioned on metric `val_acc` which is not available. Available metrics are: loss,accuracy,val_loss,val_accuracy,lr\n"
          ]
        },
        {
          "output_type": "stream",
          "name": "stdout",
          "text": [
            "\b\b\b\b\b\b\b\b\b\b\b\b\b\b\b\b\b\b\b\b\b\b\b\b\b\b\b\b\b\b\b\b\b\b\b\b\b\b\b\b\b\b\b\b\b\b\b\b\b\b\b\b\b\b\b\b\b\b\b\b\b\b\b\b\b\b\b\b\b\b\b\b\b\b\b\b\b\b\b\b\b\b\b\b\r278/278 [==============================] - 11s 40ms/step - loss: 0.0147 - accuracy: 0.9821 - val_loss: 0.3895 - val_accuracy: 0.6505 - lr: 0.0010\n",
            "Epoch 42/50\n",
            "277/278 [============================>.] - ETA: 0s - loss: 0.0298 - accuracy: 0.9659"
          ]
        },
        {
          "output_type": "stream",
          "name": "stderr",
          "text": [
            "WARNING:tensorflow:Learning rate reduction is conditioned on metric `val_acc` which is not available. Available metrics are: loss,accuracy,val_loss,val_accuracy,lr\n"
          ]
        },
        {
          "output_type": "stream",
          "name": "stdout",
          "text": [
            "\b\b\b\b\b\b\b\b\b\b\b\b\b\b\b\b\b\b\b\b\b\b\b\b\b\b\b\b\b\b\b\b\b\b\b\b\b\b\b\b\b\b\b\b\b\b\b\b\b\b\b\b\b\b\b\b\b\b\b\b\b\b\b\b\b\b\b\b\b\b\b\b\b\b\b\b\b\b\b\b\b\b\b\b\r278/278 [==============================] - 11s 41ms/step - loss: 0.0298 - accuracy: 0.9659 - val_loss: 0.3641 - val_accuracy: 0.6603 - lr: 0.0010\n",
            "Epoch 43/50\n",
            "277/278 [============================>.] - ETA: 0s - loss: 0.0051 - accuracy: 0.9931"
          ]
        },
        {
          "output_type": "stream",
          "name": "stderr",
          "text": [
            "WARNING:tensorflow:Learning rate reduction is conditioned on metric `val_acc` which is not available. Available metrics are: loss,accuracy,val_loss,val_accuracy,lr\n"
          ]
        },
        {
          "output_type": "stream",
          "name": "stdout",
          "text": [
            "\b\b\b\b\b\b\b\b\b\b\b\b\b\b\b\b\b\b\b\b\b\b\b\b\b\b\b\b\b\b\b\b\b\b\b\b\b\b\b\b\b\b\b\b\b\b\b\b\b\b\b\b\b\b\b\b\b\b\b\b\b\b\b\b\b\b\b\b\b\b\b\b\b\b\b\b\b\b\b\b\b\b\b\b\r278/278 [==============================] - 11s 41ms/step - loss: 0.0051 - accuracy: 0.9931 - val_loss: 0.4636 - val_accuracy: 0.6713 - lr: 0.0010\n",
            "Epoch 44/50\n",
            "277/278 [============================>.] - ETA: 0s - loss: 0.0124 - accuracy: 0.9836"
          ]
        },
        {
          "output_type": "stream",
          "name": "stderr",
          "text": [
            "WARNING:tensorflow:Learning rate reduction is conditioned on metric `val_acc` which is not available. Available metrics are: loss,accuracy,val_loss,val_accuracy,lr\n"
          ]
        },
        {
          "output_type": "stream",
          "name": "stdout",
          "text": [
            "\b\b\b\b\b\b\b\b\b\b\b\b\b\b\b\b\b\b\b\b\b\b\b\b\b\b\b\b\b\b\b\b\b\b\b\b\b\b\b\b\b\b\b\b\b\b\b\b\b\b\b\b\b\b\b\b\b\b\b\b\b\b\b\b\b\b\b\b\b\b\b\b\b\b\b\b\b\b\b\b\b\b\b\b\r278/278 [==============================] - 11s 41ms/step - loss: 0.0124 - accuracy: 0.9836 - val_loss: 0.4187 - val_accuracy: 0.6292 - lr: 0.0010\n",
            "Epoch 45/50\n",
            "277/278 [============================>.] - ETA: 0s - loss: 0.0161 - accuracy: 0.9779"
          ]
        },
        {
          "output_type": "stream",
          "name": "stderr",
          "text": [
            "WARNING:tensorflow:Learning rate reduction is conditioned on metric `val_acc` which is not available. Available metrics are: loss,accuracy,val_loss,val_accuracy,lr\n"
          ]
        },
        {
          "output_type": "stream",
          "name": "stdout",
          "text": [
            "\b\b\b\b\b\b\b\b\b\b\b\b\b\b\b\b\b\b\b\b\b\b\b\b\b\b\b\b\b\b\b\b\b\b\b\b\b\b\b\b\b\b\b\b\b\b\b\b\b\b\b\b\b\b\b\b\b\b\b\b\b\b\b\b\b\b\b\b\b\b\b\b\b\b\b\b\b\b\b\b\b\b\b\b\r278/278 [==============================] - 11s 40ms/step - loss: 0.0161 - accuracy: 0.9778 - val_loss: 0.3910 - val_accuracy: 0.6353 - lr: 0.0010\n",
            "Epoch 46/50\n",
            "277/278 [============================>.] - ETA: 0s - loss: 0.0164 - accuracy: 0.9782"
          ]
        },
        {
          "output_type": "stream",
          "name": "stderr",
          "text": [
            "WARNING:tensorflow:Learning rate reduction is conditioned on metric `val_acc` which is not available. Available metrics are: loss,accuracy,val_loss,val_accuracy,lr\n"
          ]
        },
        {
          "output_type": "stream",
          "name": "stdout",
          "text": [
            "\b\b\b\b\b\b\b\b\b\b\b\b\b\b\b\b\b\b\b\b\b\b\b\b\b\b\b\b\b\b\b\b\b\b\b\b\b\b\b\b\b\b\b\b\b\b\b\b\b\b\b\b\b\b\b\b\b\b\b\b\b\b\b\b\b\b\b\b\b\b\b\b\b\b\b\b\b\b\b\b\b\b\b\b\r278/278 [==============================] - 11s 41ms/step - loss: 0.0164 - accuracy: 0.9782 - val_loss: 0.4272 - val_accuracy: 0.6639 - lr: 0.0010\n",
            "Epoch 47/50\n",
            "277/278 [============================>.] - ETA: 0s - loss: 0.0065 - accuracy: 0.9915"
          ]
        },
        {
          "output_type": "stream",
          "name": "stderr",
          "text": [
            "WARNING:tensorflow:Learning rate reduction is conditioned on metric `val_acc` which is not available. Available metrics are: loss,accuracy,val_loss,val_accuracy,lr\n"
          ]
        },
        {
          "output_type": "stream",
          "name": "stdout",
          "text": [
            "\b\b\b\b\b\b\b\b\b\b\b\b\b\b\b\b\b\b\b\b\b\b\b\b\b\b\b\b\b\b\b\b\b\b\b\b\b\b\b\b\b\b\b\b\b\b\b\b\b\b\b\b\b\b\b\b\b\b\b\b\b\b\b\b\b\b\b\b\b\b\b\b\b\b\b\b\b\b\b\b\b\b\b\b\r278/278 [==============================] - 11s 41ms/step - loss: 0.0068 - accuracy: 0.9914 - val_loss: 0.4777 - val_accuracy: 0.6203 - lr: 0.0010\n",
            "Epoch 48/50\n",
            "277/278 [============================>.] - ETA: 0s - loss: 0.0206 - accuracy: 0.9725"
          ]
        },
        {
          "output_type": "stream",
          "name": "stderr",
          "text": [
            "WARNING:tensorflow:Learning rate reduction is conditioned on metric `val_acc` which is not available. Available metrics are: loss,accuracy,val_loss,val_accuracy,lr\n"
          ]
        },
        {
          "output_type": "stream",
          "name": "stdout",
          "text": [
            "\b\b\b\b\b\b\b\b\b\b\b\b\b\b\b\b\b\b\b\b\b\b\b\b\b\b\b\b\b\b\b\b\b\b\b\b\b\b\b\b\b\b\b\b\b\b\b\b\b\b\b\b\b\b\b\b\b\b\b\b\b\b\b\b\b\b\b\b\b\b\b\b\b\b\b\b\b\b\b\b\b\b\b\b\r278/278 [==============================] - 11s 41ms/step - loss: 0.0206 - accuracy: 0.9725 - val_loss: 0.3957 - val_accuracy: 0.6345 - lr: 0.0010\n",
            "Epoch 49/50\n",
            "277/278 [============================>.] - ETA: 0s - loss: 0.0053 - accuracy: 0.9933"
          ]
        },
        {
          "output_type": "stream",
          "name": "stderr",
          "text": [
            "WARNING:tensorflow:Learning rate reduction is conditioned on metric `val_acc` which is not available. Available metrics are: loss,accuracy,val_loss,val_accuracy,lr\n"
          ]
        },
        {
          "output_type": "stream",
          "name": "stdout",
          "text": [
            "\b\b\b\b\b\b\b\b\b\b\b\b\b\b\b\b\b\b\b\b\b\b\b\b\b\b\b\b\b\b\b\b\b\b\b\b\b\b\b\b\b\b\b\b\b\b\b\b\b\b\b\b\b\b\b\b\b\b\b\b\b\b\b\b\b\b\b\b\b\b\b\b\b\b\b\b\b\b\b\b\b\b\b\b\r278/278 [==============================] - 11s 40ms/step - loss: 0.0053 - accuracy: 0.9933 - val_loss: 0.4197 - val_accuracy: 0.6693 - lr: 0.0010\n",
            "Epoch 50/50\n",
            "277/278 [============================>.] - ETA: 0s - loss: 0.0057 - accuracy: 0.9930"
          ]
        },
        {
          "output_type": "stream",
          "name": "stderr",
          "text": [
            "WARNING:tensorflow:Learning rate reduction is conditioned on metric `val_acc` which is not available. Available metrics are: loss,accuracy,val_loss,val_accuracy,lr\n"
          ]
        },
        {
          "output_type": "stream",
          "name": "stdout",
          "text": [
            "\b\b\b\b\b\b\b\b\b\b\b\b\b\b\b\b\b\b\b\b\b\b\b\b\b\b\b\b\b\b\b\b\b\b\b\b\b\b\b\b\b\b\b\b\b\b\b\b\b\b\b\b\b\b\b\b\b\b\b\b\b\b\b\b\b\b\b\b\b\b\b\b\b\b\b\b\b\b\b\b\b\b\b\b\r278/278 [==============================] - 11s 41ms/step - loss: 0.0058 - accuracy: 0.9930 - val_loss: 0.5107 - val_accuracy: 0.6234 - lr: 0.0010\n"
          ]
        }
      ]
    },
    {
      "cell_type": "code",
      "source": [
        "plt.plot(history.history['accuracy'],color='green')\n",
        "plt.plot(history.history['val_accuracy'],color='blue')\n",
        "\n",
        "plt.title('Model Accuracy')\n",
        "plt.ylabel('Accuracy')\n",
        "plt.xlabel('Epochs')\n",
        "\n",
        "plt.legend(['Train', 'Val'], loc='upper left')\n",
        "plt.show()\n",
        "\n",
        "\n",
        "plt.plot(history.history['loss'],color='green')\n",
        "plt.plot(history.history['val_loss'],color='blue')\n",
        "plt.title('Model Loss')\n",
        "plt.ylabel('Loss')\n",
        "plt.xlabel('Epochs')\n",
        "\n",
        "plt.legend(['Train', 'Val'], loc='upper left')\n",
        "plt.show()\n"
      ],
      "metadata": {
        "id": "RF8fjOBVIWUP",
        "colab": {
          "base_uri": "https://localhost:8080/",
          "height": 573
        },
        "outputId": "df1d9924-a8d5-4cff-f8f1-7fcc735840c7"
      },
      "execution_count": null,
      "outputs": [
        {
          "output_type": "display_data",
          "data": {
            "text/plain": [
              "<Figure size 432x288 with 1 Axes>"
            ],
            "image/png": "[encoded data removed]"
          },
          "metadata": {
            "needs_background": "light"
          }
        },
        {
          "output_type": "display_data",
          "data": {
            "text/plain": [
              "<Figure size 432x288 with 1 Axes>"
            ],
            "image/png": "[encoded data removed]"
          },
          "metadata": {
            "needs_background": "light"
          }
        }
      ]
    },
    {
      "cell_type": "code",
      "source": [
        "model_cnn.summary()\n"
      ],
      "metadata": {
        "id": "nifF8dHdIWQh",
        "colab": {
          "base_uri": "https://localhost:8080/"
        },
        "outputId": "8d001a26-6330-4b5e-856c-1994242a25bd"
      },
      "execution_count": null,
      "outputs": [
        {
          "output_type": "stream",
          "name": "stdout",
          "text": [
            "Model: \"sequential_3\"\n",
            "_________________________________________________________________\n",
            " Layer (type)                Output Shape              Param #   \n",
            "=================================================================\n",
            " resnet50 (Functional)       (None, 3, 3, 2048)        23587712  \n",
            "                                                                 \n",
            " flatten_3 (Flatten)         (None, 18432)             0         \n",
            "                                                                 \n",
            " dense_6 (Dense)             (None, 128)               2359424   \n",
            "                                                                 \n",
            " dense_7 (Dense)             (None, 8)                 1032      \n",
            "                                                                 \n",
            "=================================================================\n",
            "Total params: 25,948,168\n",
            "Trainable params: 25,895,048\n",
            "Non-trainable params: 53,120\n",
            "_________________________________________________________________\n"
          ]
        }
      ]
    },
    {
      "cell_type": "code",
      "source": [
        "import tensorflow as tf\n",
        "tf.keras.utils.plot_model(model_cnn)"
      ],
      "metadata": {
        "id": "80pr46qJIWOa",
        "colab": {
          "base_uri": "https://localhost:8080/",
          "height": 466
        },
        "outputId": "b7180952-9468-47ea-ab32-46d0a705e71f"
      },
      "execution_count": null,
      "outputs": [
        {
          "output_type": "execute_result",
          "data": {
            "image/png": "[encoded data removed]",
            "text/plain": [
              "<IPython.core.display.Image object>"
            ]
          },
          "metadata": {},
          "execution_count": 51
        }
      ]
    },
    {
      "cell_type": "markdown",
      "source": [
        "EFFICIENT NET - B5"
      ],
      "metadata": {
        "id": "_xG9QY95H5T1"
      }
    },
    {
      "cell_type": "code",
      "execution_count": null,
      "metadata": {
        "id": "VNaK2AnCRqID",
        "colab": {
          "base_uri": "https://localhost:8080/"
        },
        "outputId": "aa6f2724-3349-4ede-ae65-2d061b530709"
      },
      "outputs": [
        {
          "output_type": "stream",
          "name": "stdout",
          "text": [
            "Looking in indexes: https://pypi.org/simple, https://us-python.pkg.dev/colab-wheels/public/simple/\n",
            "Collecting keras_efficientnets\n",
            "  Downloading keras_efficientnets-0.1.7-py2.py3-none-any.whl (15 kB)\n",
            "Requirement already satisfied: scipy>=1.1.0 in /usr/local/lib/python3.8/dist-packages (from keras_efficientnets) (1.7.3)\n",
            "Requirement already satisfied: keras>=2.2.4 in /usr/local/lib/python3.8/dist-packages (from keras_efficientnets) (2.9.0)\n",
            "Requirement already satisfied: scikit-learn>=0.21.2 in /usr/local/lib/python3.8/dist-packages (from keras_efficientnets) (1.0.2)\n",
            "Requirement already satisfied: threadpoolctl>=2.0.0 in /usr/local/lib/python3.8/dist-packages (from scikit-learn>=0.21.2->keras_efficientnets) (3.1.0)\n",
            "Requirement already satisfied: numpy>=1.14.6 in /usr/local/lib/python3.8/dist-packages (from scikit-learn>=0.21.2->keras_efficientnets) (1.21.6)\n",
            "Requirement already satisfied: joblib>=0.11 in /usr/local/lib/python3.8/dist-packages (from scikit-learn>=0.21.2->keras_efficientnets) (1.2.0)\n",
            "Installing collected packages: keras-efficientnets\n",
            "Successfully installed keras-efficientnets-0.1.7\n"
          ]
        }
      ],
      "source": [
        "!pip install keras_efficientnets"
      ]
    },
    {
      "cell_type": "code",
      "execution_count": null,
      "metadata": {
        "id": "IHOYLKTbgYvG",
        "colab": {
          "base_uri": "https://localhost:8080/"
        },
        "outputId": "b319e57e-9d30-4bf9-e681-f2632874b66d"
      },
      "outputs": [
        {
          "output_type": "stream",
          "name": "stdout",
          "text": [
            "Looking in indexes: https://pypi.org/simple, https://us-python.pkg.dev/colab-wheels/public/simple/\n",
            "Collecting keras_applications\n",
            "  Downloading Keras_Applications-1.0.8-py3-none-any.whl (50 kB)\n",
            "\u001b[K     |████████████████████████████████| 50 kB 4.8 MB/s \n",
            "\u001b[?25hRequirement already satisfied: numpy>=1.9.1 in /usr/local/lib/python3.8/dist-packages (from keras_applications) (1.21.6)\n",
            "Requirement already satisfied: h5py in /usr/local/lib/python3.8/dist-packages (from keras_applications) (3.1.0)\n",
            "Installing collected packages: keras-applications\n",
            "Successfully installed keras-applications-1.0.8\n"
          ]
        }
      ],
      "source": [
        "!pip install keras_applications"
      ]
    },
    {
      "cell_type": "code",
      "execution_count": null,
      "metadata": {
        "id": "qMC9Juy3gbym",
        "colab": {
          "base_uri": "https://localhost:8080/"
        },
        "outputId": "4ac9c58c-a258-4d52-f64c-6354b82b27f5"
      },
      "outputs": [
        {
          "output_type": "stream",
          "name": "stdout",
          "text": [
            "Downloading data from https://github.com/titu1994/keras-efficientnets/releases/download/v0.1/efficientnet-b5_notop.h5\n",
            "115295288/115295288 [==============================] - 10s 0us/step\n"
          ]
        }
      ],
      "source": [
        "import keras_applications\n",
        "from keras_efficientnets import EfficientNetB5\n",
        "base_model = EfficientNetB5(include_top=False, weights=\"imagenet\", input_shape=(75,75,3),classes=y_train.shape[1])"
      ]
    },
    {
      "cell_type": "code",
      "execution_count": null,
      "metadata": {
        "id": "eS3PMouOgcip"
      },
      "outputs": [],
      "source": [
        "def build_cnn_model(input_shape = (75, 75, 3), num_classes=2):\n",
        "    model = Sequential()\n",
        "    model.add(base_model)\n",
        "    #model.add(Conv2D(64, kernel_size=(3,3), padding='Same', input_shape = input_shape, activation='relu', kernel_initializer = 'glorot_uniform'))\n",
        "    #model.add(MaxPool2D(pool_size = (2,2)))\n",
        "    #model.add(Dropout(0.25))\n",
        "\n",
        "\n",
        "    #model.add(Conv2D(64, kernel_size=(3,3), padding='Same', activation='relu', kernel_initializer = 'glorot_uniform'))\n",
        "    #model.add(MaxPool2D(pool_size=(2,2)))\n",
        "    #model.add(Dropout(0.25))\n",
        "\n",
        "\n",
        "    model.add(Flatten())\n",
        "\n",
        "    model.add(Dense(128, activation='relu', kernel_initializer='normal'))\n",
        "    model.add(Dense(128, activation='relu', kernel_initializer='normal'))\n",
        "\n",
        "    model.add(Dense(8, activation = 'softmax'))\n",
        "    model.summary()\n",
        "    optimizer= Adam(lr=0.001)\n",
        "\n",
        "    model.compile(optimizer = optimizer, loss='binary_crossentropy', metrics=[\"accuracy\"])\n",
        "\n",
        "    return model"
      ]
    },
    {
      "cell_type": "code",
      "execution_count": null,
      "metadata": {
        "id": "4HGb-9pHgkop",
        "colab": {
          "base_uri": "https://localhost:8080/"
        },
        "outputId": "12d40af3-7a7d-43f0-f24e-b2f10a8d6c55"
      },
      "outputs": [
        {
          "output_type": "stream",
          "name": "stdout",
          "text": [
            "Model: \"sequential_4\"\n",
            "_________________________________________________________________\n",
            " Layer (type)                Output Shape              Param #   \n",
            "=================================================================\n",
            " model (Functional)          (None, 3, 3, 2048)        28513520  \n",
            "                                                                 \n",
            " flatten_4 (Flatten)         (None, 18432)             0         \n",
            "                                                                 \n",
            " dense_8 (Dense)             (None, 128)               2359424   \n",
            "                                                                 \n",
            " dense_9 (Dense)             (None, 128)               16512     \n",
            "                                                                 \n",
            " dense_10 (Dense)            (None, 8)                 1032      \n",
            "                                                                 \n",
            "=================================================================\n",
            "Total params: 30,890,488\n",
            "Trainable params: 30,717,752\n",
            "Non-trainable params: 172,736\n",
            "_________________________________________________________________\n"
          ]
        }
      ],
      "source": [
        "model_cnn = build_cnn_model()"
      ]
    },
    {
      "cell_type": "code",
      "execution_count": null,
      "metadata": {
        "id": "pYhgL6TaglmU",
        "colab": {
          "base_uri": "https://localhost:8080/"
        },
        "outputId": "767430c7-1031-4b16-c1aa-0623ab387a95"
      },
      "outputs": [
        {
          "output_type": "stream",
          "name": "stdout",
          "text": [
            "Epoch 1/50\n",
            "278/278 [==============================] - ETA: 0s - loss: 0.2082 - accuracy: 0.6444"
          ]
        },
        {
          "output_type": "stream",
          "name": "stderr",
          "text": [
            "WARNING:tensorflow:Learning rate reduction is conditioned on metric `val_acc` which is not available. Available metrics are: loss,accuracy,val_loss,val_accuracy,lr\n"
          ]
        },
        {
          "output_type": "stream",
          "name": "stdout",
          "text": [
            "\b\b\b\b\b\b\b\b\b\b\b\b\b\b\b\b\b\b\b\b\b\b\b\b\b\b\b\b\b\b\b\b\b\b\b\b\b\b\b\b\b\b\b\b\b\b\b\b\b\b\b\b\b\b\b\b\b\b\b\b\b\b\b\b\b\b\b\b\b\b\b\b\b\b\b\b\b\b\b\b\b\b\b\b\r278/278 [==============================] - 69s 171ms/step - loss: 0.2082 - accuracy: 0.6444 - val_loss: 0.2100 - val_accuracy: 0.6450 - lr: 0.0010\n",
            "Epoch 2/50\n",
            "278/278 [==============================] - ETA: 0s - loss: 0.1719 - accuracy: 0.7092"
          ]
        },
        {
          "output_type": "stream",
          "name": "stderr",
          "text": [
            "WARNING:tensorflow:Learning rate reduction is conditioned on metric `val_acc` which is not available. Available metrics are: loss,accuracy,val_loss,val_accuracy,lr\n"
          ]
        },
        {
          "output_type": "stream",
          "name": "stdout",
          "text": [
            "\b\b\b\b\b\b\b\b\b\b\b\b\b\b\b\b\b\b\b\b\b\b\b\b\b\b\b\b\b\b\b\b\b\b\b\b\b\b\b\b\b\b\b\b\b\b\b\b\b\b\b\b\b\b\b\b\b\b\b\b\b\b\b\b\b\b\b\b\b\b\b\b\b\b\b\b\b\b\b\b\b\b\b\b\r278/278 [==============================] - 43s 155ms/step - loss: 0.1719 - accuracy: 0.7092 - val_loss: 0.1757 - val_accuracy: 0.7111 - lr: 0.0010\n",
            "Epoch 3/50\n",
            "278/278 [==============================] - ETA: 0s - loss: 0.1441 - accuracy: 0.7650"
          ]
        },
        {
          "output_type": "stream",
          "name": "stderr",
          "text": [
            "WARNING:tensorflow:Learning rate reduction is conditioned on metric `val_acc` which is not available. Available metrics are: loss,accuracy,val_loss,val_accuracy,lr\n"
          ]
        },
        {
          "output_type": "stream",
          "name": "stdout",
          "text": [
            "\b\b\b\b\b\b\b\b\b\b\b\b\b\b\b\b\b\b\b\b\b\b\b\b\b\b\b\b\b\b\b\b\b\b\b\b\b\b\b\b\b\b\b\b\b\b\b\b\b\b\b\b\b\b\b\b\b\b\b\b\b\b\b\b\b\b\b\b\b\b\b\b\b\b\b\b\b\b\b\b\b\b\b\b\r278/278 [==============================] - 43s 153ms/step - loss: 0.1441 - accuracy: 0.7650 - val_loss: 0.1857 - val_accuracy: 0.7032 - lr: 0.0010\n",
            "Epoch 4/50\n",
            "278/278 [==============================] - ETA: 0s - loss: 0.1230 - accuracy: 0.8054"
          ]
        },
        {
          "output_type": "stream",
          "name": "stderr",
          "text": [
            "WARNING:tensorflow:Learning rate reduction is conditioned on metric `val_acc` which is not available. Available metrics are: loss,accuracy,val_loss,val_accuracy,lr\n"
          ]
        },
        {
          "output_type": "stream",
          "name": "stdout",
          "text": [
            "\b\b\b\b\b\b\b\b\b\b\b\b\b\b\b\b\b\b\b\b\b\b\b\b\b\b\b\b\b\b\b\b\b\b\b\b\b\b\b\b\b\b\b\b\b\b\b\b\b\b\b\b\b\b\b\b\b\b\b\b\b\b\b\b\b\b\b\b\b\b\b\b\b\b\b\b\b\b\b\b\b\b\b\b\r278/278 [==============================] - 43s 154ms/step - loss: 0.1230 - accuracy: 0.8054 - val_loss: 0.1719 - val_accuracy: 0.7226 - lr: 0.0010\n",
            "Epoch 5/50\n",
            "278/278 [==============================] - ETA: 0s - loss: 0.1108 - accuracy: 0.8298"
          ]
        },
        {
          "output_type": "stream",
          "name": "stderr",
          "text": [
            "WARNING:tensorflow:Learning rate reduction is conditioned on metric `val_acc` which is not available. Available metrics are: loss,accuracy,val_loss,val_accuracy,lr\n"
          ]
        },
        {
          "output_type": "stream",
          "name": "stdout",
          "text": [
            "\b\b\b\b\b\b\b\b\b\b\b\b\b\b\b\b\b\b\b\b\b\b\b\b\b\b\b\b\b\b\b\b\b\b\b\b\b\b\b\b\b\b\b\b\b\b\b\b\b\b\b\b\b\b\b\b\b\b\b\b\b\b\b\b\b\b\b\b\b\b\b\b\b\b\b\b\b\b\b\b\b\b\b\b\r278/278 [==============================] - 43s 154ms/step - loss: 0.1108 - accuracy: 0.8298 - val_loss: 0.1946 - val_accuracy: 0.7071 - lr: 0.0010\n",
            "Epoch 6/50\n",
            "278/278 [==============================] - ETA: 0s - loss: 0.0967 - accuracy: 0.8513"
          ]
        },
        {
          "output_type": "stream",
          "name": "stderr",
          "text": [
            "WARNING:tensorflow:Learning rate reduction is conditioned on metric `val_acc` which is not available. Available metrics are: loss,accuracy,val_loss,val_accuracy,lr\n"
          ]
        },
        {
          "output_type": "stream",
          "name": "stdout",
          "text": [
            "\b\b\b\b\b\b\b\b\b\b\b\b\b\b\b\b\b\b\b\b\b\b\b\b\b\b\b\b\b\b\b\b\b\b\b\b\b\b\b\b\b\b\b\b\b\b\b\b\b\b\b\b\b\b\b\b\b\b\b\b\b\b\b\b\b\b\b\b\b\b\b\b\b\b\b\b\b\b\b\b\b\b\b\b\r278/278 [==============================] - 43s 155ms/step - loss: 0.0967 - accuracy: 0.8513 - val_loss: 0.2035 - val_accuracy: 0.7258 - lr: 0.0010\n",
            "Epoch 7/50\n",
            "278/278 [==============================] - ETA: 0s - loss: 0.0892 - accuracy: 0.8635"
          ]
        },
        {
          "output_type": "stream",
          "name": "stderr",
          "text": [
            "WARNING:tensorflow:Learning rate reduction is conditioned on metric `val_acc` which is not available. Available metrics are: loss,accuracy,val_loss,val_accuracy,lr\n"
          ]
        },
        {
          "output_type": "stream",
          "name": "stdout",
          "text": [
            "\b\b\b\b\b\b\b\b\b\b\b\b\b\b\b\b\b\b\b\b\b\b\b\b\b\b\b\b\b\b\b\b\b\b\b\b\b\b\b\b\b\b\b\b\b\b\b\b\b\b\b\b\b\b\b\b\b\b\b\b\b\b\b\b\b\b\b\b\b\b\b\b\b\b\b\b\b\b\b\b\b\b\b\b\r278/278 [==============================] - 43s 154ms/step - loss: 0.0892 - accuracy: 0.8635 - val_loss: 0.1952 - val_accuracy: 0.7401 - lr: 0.0010\n",
            "Epoch 8/50\n",
            "278/278 [==============================] - ETA: 0s - loss: 0.0614 - accuracy: 0.9086"
          ]
        },
        {
          "output_type": "stream",
          "name": "stderr",
          "text": [
            "WARNING:tensorflow:Learning rate reduction is conditioned on metric `val_acc` which is not available. Available metrics are: loss,accuracy,val_loss,val_accuracy,lr\n"
          ]
        },
        {
          "output_type": "stream",
          "name": "stdout",
          "text": [
            "\b\b\b\b\b\b\b\b\b\b\b\b\b\b\b\b\b\b\b\b\b\b\b\b\b\b\b\b\b\b\b\b\b\b\b\b\b\b\b\b\b\b\b\b\b\b\b\b\b\b\b\b\b\b\b\b\b\b\b\b\b\b\b\b\b\b\b\b\b\b\b\b\b\b\b\b\b\b\b\b\b\b\b\b\r278/278 [==============================] - 43s 156ms/step - loss: 0.0614 - accuracy: 0.9086 - val_loss: 0.2146 - val_accuracy: 0.7347 - lr: 0.0010\n",
            "Epoch 9/50\n",
            "278/278 [==============================] - ETA: 0s - loss: 0.0515 - accuracy: 0.9260"
          ]
        },
        {
          "output_type": "stream",
          "name": "stderr",
          "text": [
            "WARNING:tensorflow:Learning rate reduction is conditioned on metric `val_acc` which is not available. Available metrics are: loss,accuracy,val_loss,val_accuracy,lr\n"
          ]
        },
        {
          "output_type": "stream",
          "name": "stdout",
          "text": [
            "\b\b\b\b\b\b\b\b\b\b\b\b\b\b\b\b\b\b\b\b\b\b\b\b\b\b\b\b\b\b\b\b\b\b\b\b\b\b\b\b\b\b\b\b\b\b\b\b\b\b\b\b\b\b\b\b\b\b\b\b\b\b\b\b\b\b\b\b\b\b\b\b\b\b\b\b\b\b\b\b\b\b\b\b\r278/278 [==============================] - 43s 154ms/step - loss: 0.0515 - accuracy: 0.9260 - val_loss: 0.2260 - val_accuracy: 0.7213 - lr: 0.0010\n",
            "Epoch 10/50\n",
            "278/278 [==============================] - ETA: 0s - loss: 0.0408 - accuracy: 0.9432"
          ]
        },
        {
          "output_type": "stream",
          "name": "stderr",
          "text": [
            "WARNING:tensorflow:Learning rate reduction is conditioned on metric `val_acc` which is not available. Available metrics are: loss,accuracy,val_loss,val_accuracy,lr\n"
          ]
        },
        {
          "output_type": "stream",
          "name": "stdout",
          "text": [
            "\b\b\b\b\b\b\b\b\b\b\b\b\b\b\b\b\b\b\b\b\b\b\b\b\b\b\b\b\b\b\b\b\b\b\b\b\b\b\b\b\b\b\b\b\b\b\b\b\b\b\b\b\b\b\b\b\b\b\b\b\b\b\b\b\b\b\b\b\b\b\b\b\b\b\b\b\b\b\b\b\b\b\b\b\r278/278 [==============================] - 44s 157ms/step - loss: 0.0408 - accuracy: 0.9432 - val_loss: 0.2649 - val_accuracy: 0.6957 - lr: 0.0010\n",
            "Epoch 11/50\n",
            "278/278 [==============================] - ETA: 0s - loss: 0.0585 - accuracy: 0.9148"
          ]
        },
        {
          "output_type": "stream",
          "name": "stderr",
          "text": [
            "WARNING:tensorflow:Learning rate reduction is conditioned on metric `val_acc` which is not available. Available metrics are: loss,accuracy,val_loss,val_accuracy,lr\n"
          ]
        },
        {
          "output_type": "stream",
          "name": "stdout",
          "text": [
            "\b\b\b\b\b\b\b\b\b\b\b\b\b\b\b\b\b\b\b\b\b\b\b\b\b\b\b\b\b\b\b\b\b\b\b\b\b\b\b\b\b\b\b\b\b\b\b\b\b\b\b\b\b\b\b\b\b\b\b\b\b\b\b\b\b\b\b\b\b\b\b\b\b\b\b\b\b\b\b\b\b\b\b\b\r278/278 [==============================] - 43s 156ms/step - loss: 0.0585 - accuracy: 0.9148 - val_loss: 0.2292 - val_accuracy: 0.7303 - lr: 0.0010\n",
            "Epoch 12/50\n",
            "278/278 [==============================] - ETA: 0s - loss: 0.0447 - accuracy: 0.9358"
          ]
        },
        {
          "output_type": "stream",
          "name": "stderr",
          "text": [
            "WARNING:tensorflow:Learning rate reduction is conditioned on metric `val_acc` which is not available. Available metrics are: loss,accuracy,val_loss,val_accuracy,lr\n"
          ]
        },
        {
          "output_type": "stream",
          "name": "stdout",
          "text": [
            "\b\b\b\b\b\b\b\b\b\b\b\b\b\b\b\b\b\b\b\b\b\b\b\b\b\b\b\b\b\b\b\b\b\b\b\b\b\b\b\b\b\b\b\b\b\b\b\b\b\b\b\b\b\b\b\b\b\b\b\b\b\b\b\b\b\b\b\b\b\b\b\b\b\b\b\b\b\b\b\b\b\b\b\b\r278/278 [==============================] - 44s 157ms/step - loss: 0.0447 - accuracy: 0.9358 - val_loss: 0.2396 - val_accuracy: 0.7379 - lr: 0.0010\n",
            "Epoch 13/50\n",
            "278/278 [==============================] - ETA: 0s - loss: 0.0304 - accuracy: 0.9586"
          ]
        },
        {
          "output_type": "stream",
          "name": "stderr",
          "text": [
            "WARNING:tensorflow:Learning rate reduction is conditioned on metric `val_acc` which is not available. Available metrics are: loss,accuracy,val_loss,val_accuracy,lr\n"
          ]
        },
        {
          "output_type": "stream",
          "name": "stdout",
          "text": [
            "\b\b\b\b\b\b\b\b\b\b\b\b\b\b\b\b\b\b\b\b\b\b\b\b\b\b\b\b\b\b\b\b\b\b\b\b\b\b\b\b\b\b\b\b\b\b\b\b\b\b\b\b\b\b\b\b\b\b\b\b\b\b\b\b\b\b\b\b\b\b\b\b\b\b\b\b\b\b\b\b\b\b\b\b\r278/278 [==============================] - 44s 158ms/step - loss: 0.0304 - accuracy: 0.9586 - val_loss: 0.2814 - val_accuracy: 0.7458 - lr: 0.0010\n",
            "Epoch 14/50\n",
            "278/278 [==============================] - ETA: 0s - loss: 0.0234 - accuracy: 0.9677"
          ]
        },
        {
          "output_type": "stream",
          "name": "stderr",
          "text": [
            "WARNING:tensorflow:Learning rate reduction is conditioned on metric `val_acc` which is not available. Available metrics are: loss,accuracy,val_loss,val_accuracy,lr\n"
          ]
        },
        {
          "output_type": "stream",
          "name": "stdout",
          "text": [
            "\b\b\b\b\b\b\b\b\b\b\b\b\b\b\b\b\b\b\b\b\b\b\b\b\b\b\b\b\b\b\b\b\b\b\b\b\b\b\b\b\b\b\b\b\b\b\b\b\b\b\b\b\b\b\b\b\b\b\b\b\b\b\b\b\b\b\b\b\b\b\b\b\b\b\b\b\b\b\b\b\b\b\b\b\r278/278 [==============================] - 43s 156ms/step - loss: 0.0234 - accuracy: 0.9677 - val_loss: 0.2453 - val_accuracy: 0.7183 - lr: 0.0010\n",
            "Epoch 15/50\n",
            "278/278 [==============================] - ETA: 0s - loss: 0.0974 - accuracy: 0.8533"
          ]
        },
        {
          "output_type": "stream",
          "name": "stderr",
          "text": [
            "WARNING:tensorflow:Learning rate reduction is conditioned on metric `val_acc` which is not available. Available metrics are: loss,accuracy,val_loss,val_accuracy,lr\n"
          ]
        },
        {
          "output_type": "stream",
          "name": "stdout",
          "text": [
            "\b\b\b\b\b\b\b\b\b\b\b\b\b\b\b\b\b\b\b\b\b\b\b\b\b\b\b\b\b\b\b\b\b\b\b\b\b\b\b\b\b\b\b\b\b\b\b\b\b\b\b\b\b\b\b\b\b\b\b\b\b\b\b\b\b\b\b\b\b\b\b\b\b\b\b\b\b\b\b\b\b\b\b\b\r278/278 [==============================] - 43s 156ms/step - loss: 0.0974 - accuracy: 0.8533 - val_loss: 0.2130 - val_accuracy: 0.7354 - lr: 0.0010\n",
            "Epoch 16/50\n",
            "278/278 [==============================] - ETA: 0s - loss: 0.0287 - accuracy: 0.9598"
          ]
        },
        {
          "output_type": "stream",
          "name": "stderr",
          "text": [
            "WARNING:tensorflow:Learning rate reduction is conditioned on metric `val_acc` which is not available. Available metrics are: loss,accuracy,val_loss,val_accuracy,lr\n"
          ]
        },
        {
          "output_type": "stream",
          "name": "stdout",
          "text": [
            "\b\b\b\b\b\b\b\b\b\b\b\b\b\b\b\b\b\b\b\b\b\b\b\b\b\b\b\b\b\b\b\b\b\b\b\b\b\b\b\b\b\b\b\b\b\b\b\b\b\b\b\b\b\b\b\b\b\b\b\b\b\b\b\b\b\b\b\b\b\b\b\b\b\b\b\b\b\b\b\b\b\b\b\b\r278/278 [==============================] - 43s 155ms/step - loss: 0.0287 - accuracy: 0.9598 - val_loss: 0.2441 - val_accuracy: 0.7493 - lr: 0.0010\n",
            "Epoch 17/50\n",
            "278/278 [==============================] - ETA: 0s - loss: 0.0226 - accuracy: 0.9693"
          ]
        },
        {
          "output_type": "stream",
          "name": "stderr",
          "text": [
            "WARNING:tensorflow:Learning rate reduction is conditioned on metric `val_acc` which is not available. Available metrics are: loss,accuracy,val_loss,val_accuracy,lr\n"
          ]
        },
        {
          "output_type": "stream",
          "name": "stdout",
          "text": [
            "\b\b\b\b\b\b\b\b\b\b\b\b\b\b\b\b\b\b\b\b\b\b\b\b\b\b\b\b\b\b\b\b\b\b\b\b\b\b\b\b\b\b\b\b\b\b\b\b\b\b\b\b\b\b\b\b\b\b\b\b\b\b\b\b\b\b\b\b\b\b\b\b\b\b\b\b\b\b\b\b\b\b\b\b\r278/278 [==============================] - 43s 154ms/step - loss: 0.0226 - accuracy: 0.9693 - val_loss: 0.2546 - val_accuracy: 0.7438 - lr: 0.0010\n",
            "Epoch 18/50\n",
            "278/278 [==============================] - ETA: 0s - loss: 0.0199 - accuracy: 0.9733"
          ]
        },
        {
          "output_type": "stream",
          "name": "stderr",
          "text": [
            "WARNING:tensorflow:Learning rate reduction is conditioned on metric `val_acc` which is not available. Available metrics are: loss,accuracy,val_loss,val_accuracy,lr\n"
          ]
        },
        {
          "output_type": "stream",
          "name": "stdout",
          "text": [
            "\b\b\b\b\b\b\b\b\b\b\b\b\b\b\b\b\b\b\b\b\b\b\b\b\b\b\b\b\b\b\b\b\b\b\b\b\b\b\b\b\b\b\b\b\b\b\b\b\b\b\b\b\b\b\b\b\b\b\b\b\b\b\b\b\b\b\b\b\b\b\b\b\b\b\b\b\b\b\b\b\b\b\b\b\r278/278 [==============================] - 43s 154ms/step - loss: 0.0199 - accuracy: 0.9733 - val_loss: 0.2720 - val_accuracy: 0.7417 - lr: 0.0010\n",
            "Epoch 19/50\n",
            "278/278 [==============================] - ETA: 0s - loss: 0.0188 - accuracy: 0.9750"
          ]
        },
        {
          "output_type": "stream",
          "name": "stderr",
          "text": [
            "WARNING:tensorflow:Learning rate reduction is conditioned on metric `val_acc` which is not available. Available metrics are: loss,accuracy,val_loss,val_accuracy,lr\n"
          ]
        },
        {
          "output_type": "stream",
          "name": "stdout",
          "text": [
            "\b\b\b\b\b\b\b\b\b\b\b\b\b\b\b\b\b\b\b\b\b\b\b\b\b\b\b\b\b\b\b\b\b\b\b\b\b\b\b\b\b\b\b\b\b\b\b\b\b\b\b\b\b\b\b\b\b\b\b\b\b\b\b\b\b\b\b\b\b\b\b\b\b\b\b\b\b\b\b\b\b\b\b\b\r278/278 [==============================] - 43s 155ms/step - loss: 0.0188 - accuracy: 0.9750 - val_loss: 0.2998 - val_accuracy: 0.7497 - lr: 0.0010\n",
            "Epoch 20/50\n",
            "278/278 [==============================] - ETA: 0s - loss: 0.0243 - accuracy: 0.9672"
          ]
        },
        {
          "output_type": "stream",
          "name": "stderr",
          "text": [
            "WARNING:tensorflow:Learning rate reduction is conditioned on metric `val_acc` which is not available. Available metrics are: loss,accuracy,val_loss,val_accuracy,lr\n"
          ]
        },
        {
          "output_type": "stream",
          "name": "stdout",
          "text": [
            "\b\b\b\b\b\b\b\b\b\b\b\b\b\b\b\b\b\b\b\b\b\b\b\b\b\b\b\b\b\b\b\b\b\b\b\b\b\b\b\b\b\b\b\b\b\b\b\b\b\b\b\b\b\b\b\b\b\b\b\b\b\b\b\b\b\b\b\b\b\b\b\b\b\b\b\b\b\b\b\b\b\b\b\b\r278/278 [==============================] - 43s 154ms/step - loss: 0.0243 - accuracy: 0.9672 - val_loss: 0.2628 - val_accuracy: 0.7380 - lr: 0.0010\n",
            "Epoch 21/50\n",
            "278/278 [==============================] - ETA: 0s - loss: 0.0262 - accuracy: 0.9642"
          ]
        },
        {
          "output_type": "stream",
          "name": "stderr",
          "text": [
            "WARNING:tensorflow:Learning rate reduction is conditioned on metric `val_acc` which is not available. Available metrics are: loss,accuracy,val_loss,val_accuracy,lr\n"
          ]
        },
        {
          "output_type": "stream",
          "name": "stdout",
          "text": [
            "\b\b\b\b\b\b\b\b\b\b\b\b\b\b\b\b\b\b\b\b\b\b\b\b\b\b\b\b\b\b\b\b\b\b\b\b\b\b\b\b\b\b\b\b\b\b\b\b\b\b\b\b\b\b\b\b\b\b\b\b\b\b\b\b\b\b\b\b\b\b\b\b\b\b\b\b\b\b\b\b\b\b\b\b\r278/278 [==============================] - 43s 155ms/step - loss: 0.0262 - accuracy: 0.9642 - val_loss: 0.2659 - val_accuracy: 0.7584 - lr: 0.0010\n",
            "Epoch 22/50\n",
            "278/278 [==============================] - ETA: 0s - loss: 0.0146 - accuracy: 0.9803"
          ]
        },
        {
          "output_type": "stream",
          "name": "stderr",
          "text": [
            "WARNING:tensorflow:Learning rate reduction is conditioned on metric `val_acc` which is not available. Available metrics are: loss,accuracy,val_loss,val_accuracy,lr\n"
          ]
        },
        {
          "output_type": "stream",
          "name": "stdout",
          "text": [
            "\b\b\b\b\b\b\b\b\b\b\b\b\b\b\b\b\b\b\b\b\b\b\b\b\b\b\b\b\b\b\b\b\b\b\b\b\b\b\b\b\b\b\b\b\b\b\b\b\b\b\b\b\b\b\b\b\b\b\b\b\b\b\b\b\b\b\b\b\b\b\b\b\b\b\b\b\b\b\b\b\b\b\b\b\r278/278 [==============================] - 43s 155ms/step - loss: 0.0146 - accuracy: 0.9803 - val_loss: 0.2974 - val_accuracy: 0.7478 - lr: 0.0010\n",
            "Epoch 23/50\n",
            "278/278 [==============================] - ETA: 0s - loss: 0.0176 - accuracy: 0.9751"
          ]
        },
        {
          "output_type": "stream",
          "name": "stderr",
          "text": [
            "WARNING:tensorflow:Learning rate reduction is conditioned on metric `val_acc` which is not available. Available metrics are: loss,accuracy,val_loss,val_accuracy,lr\n"
          ]
        },
        {
          "output_type": "stream",
          "name": "stdout",
          "text": [
            "\b\b\b\b\b\b\b\b\b\b\b\b\b\b\b\b\b\b\b\b\b\b\b\b\b\b\b\b\b\b\b\b\b\b\b\b\b\b\b\b\b\b\b\b\b\b\b\b\b\b\b\b\b\b\b\b\b\b\b\b\b\b\b\b\b\b\b\b\b\b\b\b\b\b\b\b\b\b\b\b\b\b\b\b\r278/278 [==============================] - 43s 154ms/step - loss: 0.0176 - accuracy: 0.9751 - val_loss: 0.2991 - val_accuracy: 0.7537 - lr: 0.0010\n",
            "Epoch 24/50\n",
            "278/278 [==============================] - ETA: 0s - loss: 0.0143 - accuracy: 0.9808"
          ]
        },
        {
          "output_type": "stream",
          "name": "stderr",
          "text": [
            "WARNING:tensorflow:Learning rate reduction is conditioned on metric `val_acc` which is not available. Available metrics are: loss,accuracy,val_loss,val_accuracy,lr\n"
          ]
        },
        {
          "output_type": "stream",
          "name": "stdout",
          "text": [
            "\b\b\b\b\b\b\b\b\b\b\b\b\b\b\b\b\b\b\b\b\b\b\b\b\b\b\b\b\b\b\b\b\b\b\b\b\b\b\b\b\b\b\b\b\b\b\b\b\b\b\b\b\b\b\b\b\b\b\b\b\b\b\b\b\b\b\b\b\b\b\b\b\b\b\b\b\b\b\b\b\b\b\b\b\r278/278 [==============================] - 43s 154ms/step - loss: 0.0143 - accuracy: 0.9808 - val_loss: 0.2778 - val_accuracy: 0.7484 - lr: 0.0010\n",
            "Epoch 25/50\n",
            "278/278 [==============================] - ETA: 0s - loss: 0.0164 - accuracy: 0.9775"
          ]
        },
        {
          "output_type": "stream",
          "name": "stderr",
          "text": [
            "WARNING:tensorflow:Learning rate reduction is conditioned on metric `val_acc` which is not available. Available metrics are: loss,accuracy,val_loss,val_accuracy,lr\n"
          ]
        },
        {
          "output_type": "stream",
          "name": "stdout",
          "text": [
            "\b\b\b\b\b\b\b\b\b\b\b\b\b\b\b\b\b\b\b\b\b\b\b\b\b\b\b\b\b\b\b\b\b\b\b\b\b\b\b\b\b\b\b\b\b\b\b\b\b\b\b\b\b\b\b\b\b\b\b\b\b\b\b\b\b\b\b\b\b\b\b\b\b\b\b\b\b\b\b\b\b\b\b\b\r278/278 [==============================] - 43s 155ms/step - loss: 0.0164 - accuracy: 0.9775 - val_loss: 0.3143 - val_accuracy: 0.7566 - lr: 0.0010\n",
            "Epoch 26/50\n",
            "278/278 [==============================] - ETA: 0s - loss: 0.0128 - accuracy: 0.9834"
          ]
        },
        {
          "output_type": "stream",
          "name": "stderr",
          "text": [
            "WARNING:tensorflow:Learning rate reduction is conditioned on metric `val_acc` which is not available. Available metrics are: loss,accuracy,val_loss,val_accuracy,lr\n"
          ]
        },
        {
          "output_type": "stream",
          "name": "stdout",
          "text": [
            "\b\b\b\b\b\b\b\b\b\b\b\b\b\b\b\b\b\b\b\b\b\b\b\b\b\b\b\b\b\b\b\b\b\b\b\b\b\b\b\b\b\b\b\b\b\b\b\b\b\b\b\b\b\b\b\b\b\b\b\b\b\b\b\b\b\b\b\b\b\b\b\b\b\b\b\b\b\b\b\b\b\b\b\b\r278/278 [==============================] - 43s 156ms/step - loss: 0.0128 - accuracy: 0.9834 - val_loss: 0.3309 - val_accuracy: 0.7437 - lr: 0.0010\n",
            "Epoch 27/50\n",
            "278/278 [==============================] - ETA: 0s - loss: 0.0198 - accuracy: 0.9747"
          ]
        },
        {
          "output_type": "stream",
          "name": "stderr",
          "text": [
            "WARNING:tensorflow:Learning rate reduction is conditioned on metric `val_acc` which is not available. Available metrics are: loss,accuracy,val_loss,val_accuracy,lr\n"
          ]
        },
        {
          "output_type": "stream",
          "name": "stdout",
          "text": [
            "\b\b\b\b\b\b\b\b\b\b\b\b\b\b\b\b\b\b\b\b\b\b\b\b\b\b\b\b\b\b\b\b\b\b\b\b\b\b\b\b\b\b\b\b\b\b\b\b\b\b\b\b\b\b\b\b\b\b\b\b\b\b\b\b\b\b\b\b\b\b\b\b\b\b\b\b\b\b\b\b\b\b\b\b\r278/278 [==============================] - 43s 155ms/step - loss: 0.0198 - accuracy: 0.9747 - val_loss: 0.2781 - val_accuracy: 0.7487 - lr: 0.0010\n",
            "Epoch 28/50\n",
            "278/278 [==============================] - ETA: 0s - loss: 0.0154 - accuracy: 0.9809"
          ]
        },
        {
          "output_type": "stream",
          "name": "stderr",
          "text": [
            "WARNING:tensorflow:Learning rate reduction is conditioned on metric `val_acc` which is not available. Available metrics are: loss,accuracy,val_loss,val_accuracy,lr\n"
          ]
        },
        {
          "output_type": "stream",
          "name": "stdout",
          "text": [
            "\b\b\b\b\b\b\b\b\b\b\b\b\b\b\b\b\b\b\b\b\b\b\b\b\b\b\b\b\b\b\b\b\b\b\b\b\b\b\b\b\b\b\b\b\b\b\b\b\b\b\b\b\b\b\b\b\b\b\b\b\b\b\b\b\b\b\b\b\b\b\b\b\b\b\b\b\b\b\b\b\b\b\b\b\r278/278 [==============================] - 43s 155ms/step - loss: 0.0154 - accuracy: 0.9809 - val_loss: 0.2479 - val_accuracy: 0.7514 - lr: 0.0010\n",
            "Epoch 29/50\n",
            "278/278 [==============================] - ETA: 0s - loss: 0.0395 - accuracy: 0.9459"
          ]
        },
        {
          "output_type": "stream",
          "name": "stderr",
          "text": [
            "WARNING:tensorflow:Learning rate reduction is conditioned on metric `val_acc` which is not available. Available metrics are: loss,accuracy,val_loss,val_accuracy,lr\n"
          ]
        },
        {
          "output_type": "stream",
          "name": "stdout",
          "text": [
            "\b\b\b\b\b\b\b\b\b\b\b\b\b\b\b\b\b\b\b\b\b\b\b\b\b\b\b\b\b\b\b\b\b\b\b\b\b\b\b\b\b\b\b\b\b\b\b\b\b\b\b\b\b\b\b\b\b\b\b\b\b\b\b\b\b\b\b\b\b\b\b\b\b\b\b\b\b\b\b\b\b\b\b\b\r278/278 [==============================] - 43s 156ms/step - loss: 0.0395 - accuracy: 0.9459 - val_loss: 0.2533 - val_accuracy: 0.7526 - lr: 0.0010\n",
            "Epoch 30/50\n",
            "278/278 [==============================] - ETA: 0s - loss: 0.0160 - accuracy: 0.9800"
          ]
        },
        {
          "output_type": "stream",
          "name": "stderr",
          "text": [
            "WARNING:tensorflow:Learning rate reduction is conditioned on metric `val_acc` which is not available. Available metrics are: loss,accuracy,val_loss,val_accuracy,lr\n"
          ]
        },
        {
          "output_type": "stream",
          "name": "stdout",
          "text": [
            "\b\b\b\b\b\b\b\b\b\b\b\b\b\b\b\b\b\b\b\b\b\b\b\b\b\b\b\b\b\b\b\b\b\b\b\b\b\b\b\b\b\b\b\b\b\b\b\b\b\b\b\b\b\b\b\b\b\b\b\b\b\b\b\b\b\b\b\b\b\b\b\b\b\b\b\b\b\b\b\b\b\b\b\b\r278/278 [==============================] - 44s 157ms/step - loss: 0.0160 - accuracy: 0.9800 - val_loss: 0.2738 - val_accuracy: 0.7518 - lr: 0.0010\n",
            "Epoch 31/50\n",
            "278/278 [==============================] - ETA: 0s - loss: 0.0292 - accuracy: 0.9593"
          ]
        },
        {
          "output_type": "stream",
          "name": "stderr",
          "text": [
            "WARNING:tensorflow:Learning rate reduction is conditioned on metric `val_acc` which is not available. Available metrics are: loss,accuracy,val_loss,val_accuracy,lr\n"
          ]
        },
        {
          "output_type": "stream",
          "name": "stdout",
          "text": [
            "\b\b\b\b\b\b\b\b\b\b\b\b\b\b\b\b\b\b\b\b\b\b\b\b\b\b\b\b\b\b\b\b\b\b\b\b\b\b\b\b\b\b\b\b\b\b\b\b\b\b\b\b\b\b\b\b\b\b\b\b\b\b\b\b\b\b\b\b\b\b\b\b\b\b\b\b\b\b\b\b\b\b\b\b\r278/278 [==============================] - 44s 157ms/step - loss: 0.0292 - accuracy: 0.9593 - val_loss: 0.2693 - val_accuracy: 0.7537 - lr: 0.0010\n",
            "Epoch 32/50\n",
            "278/278 [==============================] - ETA: 0s - loss: 0.0117 - accuracy: 0.9859"
          ]
        },
        {
          "output_type": "stream",
          "name": "stderr",
          "text": [
            "WARNING:tensorflow:Learning rate reduction is conditioned on metric `val_acc` which is not available. Available metrics are: loss,accuracy,val_loss,val_accuracy,lr\n"
          ]
        },
        {
          "output_type": "stream",
          "name": "stdout",
          "text": [
            "\b\b\b\b\b\b\b\b\b\b\b\b\b\b\b\b\b\b\b\b\b\b\b\b\b\b\b\b\b\b\b\b\b\b\b\b\b\b\b\b\b\b\b\b\b\b\b\b\b\b\b\b\b\b\b\b\b\b\b\b\b\b\b\b\b\b\b\b\b\b\b\b\b\b\b\b\b\b\b\b\b\b\b\b\r278/278 [==============================] - 43s 156ms/step - loss: 0.0117 - accuracy: 0.9859 - val_loss: 0.2485 - val_accuracy: 0.7566 - lr: 0.0010\n",
            "Epoch 33/50\n",
            "278/278 [==============================] - ETA: 0s - loss: 0.0087 - accuracy: 0.9889"
          ]
        },
        {
          "output_type": "stream",
          "name": "stderr",
          "text": [
            "WARNING:tensorflow:Learning rate reduction is conditioned on metric `val_acc` which is not available. Available metrics are: loss,accuracy,val_loss,val_accuracy,lr\n"
          ]
        },
        {
          "output_type": "stream",
          "name": "stdout",
          "text": [
            "\b\b\b\b\b\b\b\b\b\b\b\b\b\b\b\b\b\b\b\b\b\b\b\b\b\b\b\b\b\b\b\b\b\b\b\b\b\b\b\b\b\b\b\b\b\b\b\b\b\b\b\b\b\b\b\b\b\b\b\b\b\b\b\b\b\b\b\b\b\b\b\b\b\b\b\b\b\b\b\b\b\b\b\b\r278/278 [==============================] - 44s 158ms/step - loss: 0.0087 - accuracy: 0.9889 - val_loss: 0.2809 - val_accuracy: 0.7492 - lr: 0.0010\n",
            "Epoch 34/50\n",
            "278/278 [==============================] - ETA: 0s - loss: 0.0255 - accuracy: 0.9650"
          ]
        },
        {
          "output_type": "stream",
          "name": "stderr",
          "text": [
            "WARNING:tensorflow:Learning rate reduction is conditioned on metric `val_acc` which is not available. Available metrics are: loss,accuracy,val_loss,val_accuracy,lr\n"
          ]
        },
        {
          "output_type": "stream",
          "name": "stdout",
          "text": [
            "\b\b\b\b\b\b\b\b\b\b\b\b\b\b\b\b\b\b\b\b\b\b\b\b\b\b\b\b\b\b\b\b\b\b\b\b\b\b\b\b\b\b\b\b\b\b\b\b\b\b\b\b\b\b\b\b\b\b\b\b\b\b\b\b\b\b\b\b\b\b\b\b\b\b\b\b\b\b\b\b\b\b\b\b\r278/278 [==============================] - 43s 156ms/step - loss: 0.0255 - accuracy: 0.9650 - val_loss: 0.3079 - val_accuracy: 0.7382 - lr: 0.0010\n",
            "Epoch 35/50\n",
            "278/278 [==============================] - ETA: 0s - loss: 0.0114 - accuracy: 0.9848"
          ]
        },
        {
          "output_type": "stream",
          "name": "stderr",
          "text": [
            "WARNING:tensorflow:Learning rate reduction is conditioned on metric `val_acc` which is not available. Available metrics are: loss,accuracy,val_loss,val_accuracy,lr\n"
          ]
        },
        {
          "output_type": "stream",
          "name": "stdout",
          "text": [
            "\b\b\b\b\b\b\b\b\b\b\b\b\b\b\b\b\b\b\b\b\b\b\b\b\b\b\b\b\b\b\b\b\b\b\b\b\b\b\b\b\b\b\b\b\b\b\b\b\b\b\b\b\b\b\b\b\b\b\b\b\b\b\b\b\b\b\b\b\b\b\b\b\b\b\b\b\b\b\b\b\b\b\b\b\r278/278 [==============================] - 43s 155ms/step - loss: 0.0114 - accuracy: 0.9848 - val_loss: 0.2953 - val_accuracy: 0.7266 - lr: 0.0010\n",
            "Epoch 36/50\n",
            "278/278 [==============================] - ETA: 0s - loss: 0.0098 - accuracy: 0.9871"
          ]
        },
        {
          "output_type": "stream",
          "name": "stderr",
          "text": [
            "WARNING:tensorflow:Learning rate reduction is conditioned on metric `val_acc` which is not available. Available metrics are: loss,accuracy,val_loss,val_accuracy,lr\n"
          ]
        },
        {
          "output_type": "stream",
          "name": "stdout",
          "text": [
            "\b\b\b\b\b\b\b\b\b\b\b\b\b\b\b\b\b\b\b\b\b\b\b\b\b\b\b\b\b\b\b\b\b\b\b\b\b\b\b\b\b\b\b\b\b\b\b\b\b\b\b\b\b\b\b\b\b\b\b\b\b\b\b\b\b\b\b\b\b\b\b\b\b\b\b\b\b\b\b\b\b\b\b\b\r278/278 [==============================] - 43s 154ms/step - loss: 0.0098 - accuracy: 0.9871 - val_loss: 0.3025 - val_accuracy: 0.7546 - lr: 0.0010\n",
            "Epoch 37/50\n",
            "278/278 [==============================] - ETA: 0s - loss: 0.0093 - accuracy: 0.9879"
          ]
        },
        {
          "output_type": "stream",
          "name": "stderr",
          "text": [
            "WARNING:tensorflow:Learning rate reduction is conditioned on metric `val_acc` which is not available. Available metrics are: loss,accuracy,val_loss,val_accuracy,lr\n"
          ]
        },
        {
          "output_type": "stream",
          "name": "stdout",
          "text": [
            "\b\b\b\b\b\b\b\b\b\b\b\b\b\b\b\b\b\b\b\b\b\b\b\b\b\b\b\b\b\b\b\b\b\b\b\b\b\b\b\b\b\b\b\b\b\b\b\b\b\b\b\b\b\b\b\b\b\b\b\b\b\b\b\b\b\b\b\b\b\b\b\b\b\b\b\b\b\b\b\b\b\b\b\b\r278/278 [==============================] - 43s 155ms/step - loss: 0.0093 - accuracy: 0.9879 - val_loss: 0.3355 - val_accuracy: 0.7246 - lr: 0.0010\n",
            "Epoch 38/50\n",
            "278/278 [==============================] - ETA: 0s - loss: 0.0222 - accuracy: 0.9701"
          ]
        },
        {
          "output_type": "stream",
          "name": "stderr",
          "text": [
            "WARNING:tensorflow:Learning rate reduction is conditioned on metric `val_acc` which is not available. Available metrics are: loss,accuracy,val_loss,val_accuracy,lr\n"
          ]
        },
        {
          "output_type": "stream",
          "name": "stdout",
          "text": [
            "\b\b\b\b\b\b\b\b\b\b\b\b\b\b\b\b\b\b\b\b\b\b\b\b\b\b\b\b\b\b\b\b\b\b\b\b\b\b\b\b\b\b\b\b\b\b\b\b\b\b\b\b\b\b\b\b\b\b\b\b\b\b\b\b\b\b\b\b\b\b\b\b\b\b\b\b\b\b\b\b\b\b\b\b\r278/278 [==============================] - 43s 154ms/step - loss: 0.0222 - accuracy: 0.9701 - val_loss: 0.2747 - val_accuracy: 0.7457 - lr: 0.0010\n",
            "Epoch 39/50\n",
            "278/278 [==============================] - ETA: 0s - loss: 0.0405 - accuracy: 0.9433"
          ]
        },
        {
          "output_type": "stream",
          "name": "stderr",
          "text": [
            "WARNING:tensorflow:Learning rate reduction is conditioned on metric `val_acc` which is not available. Available metrics are: loss,accuracy,val_loss,val_accuracy,lr\n"
          ]
        },
        {
          "output_type": "stream",
          "name": "stdout",
          "text": [
            "\b\b\b\b\b\b\b\b\b\b\b\b\b\b\b\b\b\b\b\b\b\b\b\b\b\b\b\b\b\b\b\b\b\b\b\b\b\b\b\b\b\b\b\b\b\b\b\b\b\b\b\b\b\b\b\b\b\b\b\b\b\b\b\b\b\b\b\b\b\b\b\b\b\b\b\b\b\b\b\b\b\b\b\b\r278/278 [==============================] - 43s 155ms/step - loss: 0.0405 - accuracy: 0.9433 - val_loss: 0.2750 - val_accuracy: 0.7421 - lr: 0.0010\n",
            "Epoch 40/50\n",
            "278/278 [==============================] - ETA: 0s - loss: 0.0117 - accuracy: 0.9857"
          ]
        },
        {
          "output_type": "stream",
          "name": "stderr",
          "text": [
            "WARNING:tensorflow:Learning rate reduction is conditioned on metric `val_acc` which is not available. Available metrics are: loss,accuracy,val_loss,val_accuracy,lr\n"
          ]
        },
        {
          "output_type": "stream",
          "name": "stdout",
          "text": [
            "\b\b\b\b\b\b\b\b\b\b\b\b\b\b\b\b\b\b\b\b\b\b\b\b\b\b\b\b\b\b\b\b\b\b\b\b\b\b\b\b\b\b\b\b\b\b\b\b\b\b\b\b\b\b\b\b\b\b\b\b\b\b\b\b\b\b\b\b\b\b\b\b\b\b\b\b\b\b\b\b\b\b\b\b\r278/278 [==============================] - 43s 154ms/step - loss: 0.0117 - accuracy: 0.9857 - val_loss: 0.2759 - val_accuracy: 0.7492 - lr: 0.0010\n",
            "Epoch 41/50\n",
            "278/278 [==============================] - ETA: 0s - loss: 0.0152 - accuracy: 0.9816"
          ]
        },
        {
          "output_type": "stream",
          "name": "stderr",
          "text": [
            "WARNING:tensorflow:Learning rate reduction is conditioned on metric `val_acc` which is not available. Available metrics are: loss,accuracy,val_loss,val_accuracy,lr\n"
          ]
        },
        {
          "output_type": "stream",
          "name": "stdout",
          "text": [
            "\b\b\b\b\b\b\b\b\b\b\b\b\b\b\b\b\b\b\b\b\b\b\b\b\b\b\b\b\b\b\b\b\b\b\b\b\b\b\b\b\b\b\b\b\b\b\b\b\b\b\b\b\b\b\b\b\b\b\b\b\b\b\b\b\b\b\b\b\b\b\b\b\b\b\b\b\b\b\b\b\b\b\b\b\r278/278 [==============================] - 43s 154ms/step - loss: 0.0152 - accuracy: 0.9816 - val_loss: 0.2743 - val_accuracy: 0.7345 - lr: 0.0010\n",
            "Epoch 42/50\n",
            "278/278 [==============================] - ETA: 0s - loss: 0.0079 - accuracy: 0.9892"
          ]
        },
        {
          "output_type": "stream",
          "name": "stderr",
          "text": [
            "WARNING:tensorflow:Learning rate reduction is conditioned on metric `val_acc` which is not available. Available metrics are: loss,accuracy,val_loss,val_accuracy,lr\n"
          ]
        },
        {
          "output_type": "stream",
          "name": "stdout",
          "text": [
            "\b\b\b\b\b\b\b\b\b\b\b\b\b\b\b\b\b\b\b\b\b\b\b\b\b\b\b\b\b\b\b\b\b\b\b\b\b\b\b\b\b\b\b\b\b\b\b\b\b\b\b\b\b\b\b\b\b\b\b\b\b\b\b\b\b\b\b\b\b\b\b\b\b\b\b\b\b\b\b\b\b\b\b\b\r278/278 [==============================] - 43s 155ms/step - loss: 0.0079 - accuracy: 0.9892 - val_loss: 0.3116 - val_accuracy: 0.7388 - lr: 0.0010\n",
            "Epoch 43/50\n",
            "278/278 [==============================] - ETA: 0s - loss: 0.0151 - accuracy: 0.9805"
          ]
        },
        {
          "output_type": "stream",
          "name": "stderr",
          "text": [
            "WARNING:tensorflow:Learning rate reduction is conditioned on metric `val_acc` which is not available. Available metrics are: loss,accuracy,val_loss,val_accuracy,lr\n"
          ]
        },
        {
          "output_type": "stream",
          "name": "stdout",
          "text": [
            "\b\b\b\b\b\b\b\b\b\b\b\b\b\b\b\b\b\b\b\b\b\b\b\b\b\b\b\b\b\b\b\b\b\b\b\b\b\b\b\b\b\b\b\b\b\b\b\b\b\b\b\b\b\b\b\b\b\b\b\b\b\b\b\b\b\b\b\b\b\b\b\b\b\b\b\b\b\b\b\b\b\b\b\b\r278/278 [==============================] - 43s 154ms/step - loss: 0.0151 - accuracy: 0.9805 - val_loss: 0.2987 - val_accuracy: 0.7425 - lr: 0.0010\n",
            "Epoch 44/50\n",
            "278/278 [==============================] - ETA: 0s - loss: 0.0084 - accuracy: 0.9899"
          ]
        },
        {
          "output_type": "stream",
          "name": "stderr",
          "text": [
            "WARNING:tensorflow:Learning rate reduction is conditioned on metric `val_acc` which is not available. Available metrics are: loss,accuracy,val_loss,val_accuracy,lr\n"
          ]
        },
        {
          "output_type": "stream",
          "name": "stdout",
          "text": [
            "\b\b\b\b\b\b\b\b\b\b\b\b\b\b\b\b\b\b\b\b\b\b\b\b\b\b\b\b\b\b\b\b\b\b\b\b\b\b\b\b\b\b\b\b\b\b\b\b\b\b\b\b\b\b\b\b\b\b\b\b\b\b\b\b\b\b\b\b\b\b\b\b\b\b\b\b\b\b\b\b\b\b\b\b\r278/278 [==============================] - 43s 155ms/step - loss: 0.0084 - accuracy: 0.9899 - val_loss: 0.2780 - val_accuracy: 0.7516 - lr: 0.0010\n",
            "Epoch 45/50\n",
            "278/278 [==============================] - ETA: 0s - loss: 0.0091 - accuracy: 0.9892"
          ]
        },
        {
          "output_type": "stream",
          "name": "stderr",
          "text": [
            "WARNING:tensorflow:Learning rate reduction is conditioned on metric `val_acc` which is not available. Available metrics are: loss,accuracy,val_loss,val_accuracy,lr\n"
          ]
        },
        {
          "output_type": "stream",
          "name": "stdout",
          "text": [
            "\b\b\b\b\b\b\b\b\b\b\b\b\b\b\b\b\b\b\b\b\b\b\b\b\b\b\b\b\b\b\b\b\b\b\b\b\b\b\b\b\b\b\b\b\b\b\b\b\b\b\b\b\b\b\b\b\b\b\b\b\b\b\b\b\b\b\b\b\b\b\b\b\b\b\b\b\b\b\b\b\b\b\b\b\r278/278 [==============================] - 43s 156ms/step - loss: 0.0091 - accuracy: 0.9892 - val_loss: 0.2666 - val_accuracy: 0.7466 - lr: 0.0010\n",
            "Epoch 46/50\n",
            "278/278 [==============================] - ETA: 0s - loss: 0.0096 - accuracy: 0.9880"
          ]
        },
        {
          "output_type": "stream",
          "name": "stderr",
          "text": [
            "WARNING:tensorflow:Learning rate reduction is conditioned on metric `val_acc` which is not available. Available metrics are: loss,accuracy,val_loss,val_accuracy,lr\n"
          ]
        },
        {
          "output_type": "stream",
          "name": "stdout",
          "text": [
            "\b\b\b\b\b\b\b\b\b\b\b\b\b\b\b\b\b\b\b\b\b\b\b\b\b\b\b\b\b\b\b\b\b\b\b\b\b\b\b\b\b\b\b\b\b\b\b\b\b\b\b\b\b\b\b\b\b\b\b\b\b\b\b\b\b\b\b\b\b\b\b\b\b\b\b\b\b\b\b\b\b\b\b\b\r278/278 [==============================] - 43s 156ms/step - loss: 0.0096 - accuracy: 0.9880 - val_loss: 0.2946 - val_accuracy: 0.7503 - lr: 0.0010\n",
            "Epoch 47/50\n",
            "278/278 [==============================] - ETA: 0s - loss: 0.0177 - accuracy: 0.9772"
          ]
        },
        {
          "output_type": "stream",
          "name": "stderr",
          "text": [
            "WARNING:tensorflow:Learning rate reduction is conditioned on metric `val_acc` which is not available. Available metrics are: loss,accuracy,val_loss,val_accuracy,lr\n"
          ]
        },
        {
          "output_type": "stream",
          "name": "stdout",
          "text": [
            "\b\b\b\b\b\b\b\b\b\b\b\b\b\b\b\b\b\b\b\b\b\b\b\b\b\b\b\b\b\b\b\b\b\b\b\b\b\b\b\b\b\b\b\b\b\b\b\b\b\b\b\b\b\b\b\b\b\b\b\b\b\b\b\b\b\b\b\b\b\b\b\b\b\b\b\b\b\b\b\b\b\b\b\b\r278/278 [==============================] - 43s 154ms/step - loss: 0.0177 - accuracy: 0.9772 - val_loss: 0.3034 - val_accuracy: 0.7351 - lr: 0.0010\n",
            "Epoch 48/50\n",
            "278/278 [==============================] - ETA: 0s - loss: 0.0309 - accuracy: 0.9588"
          ]
        },
        {
          "output_type": "stream",
          "name": "stderr",
          "text": [
            "WARNING:tensorflow:Learning rate reduction is conditioned on metric `val_acc` which is not available. Available metrics are: loss,accuracy,val_loss,val_accuracy,lr\n"
          ]
        },
        {
          "output_type": "stream",
          "name": "stdout",
          "text": [
            "\b\b\b\b\b\b\b\b\b\b\b\b\b\b\b\b\b\b\b\b\b\b\b\b\b\b\b\b\b\b\b\b\b\b\b\b\b\b\b\b\b\b\b\b\b\b\b\b\b\b\b\b\b\b\b\b\b\b\b\b\b\b\b\b\b\b\b\b\b\b\b\b\b\b\b\b\b\b\b\b\b\b\b\b\r278/278 [==============================] - 44s 158ms/step - loss: 0.0309 - accuracy: 0.9588 - val_loss: 0.2996 - val_accuracy: 0.7371 - lr: 0.0010\n",
            "Epoch 49/50\n",
            "278/278 [==============================] - ETA: 0s - loss: 0.0119 - accuracy: 0.9860"
          ]
        },
        {
          "output_type": "stream",
          "name": "stderr",
          "text": [
            "WARNING:tensorflow:Learning rate reduction is conditioned on metric `val_acc` which is not available. Available metrics are: loss,accuracy,val_loss,val_accuracy,lr\n"
          ]
        },
        {
          "output_type": "stream",
          "name": "stdout",
          "text": [
            "\b\b\b\b\b\b\b\b\b\b\b\b\b\b\b\b\b\b\b\b\b\b\b\b\b\b\b\b\b\b\b\b\b\b\b\b\b\b\b\b\b\b\b\b\b\b\b\b\b\b\b\b\b\b\b\b\b\b\b\b\b\b\b\b\b\b\b\b\b\b\b\b\b\b\b\b\b\b\b\b\b\b\b\b\r278/278 [==============================] - 44s 160ms/step - loss: 0.0119 - accuracy: 0.9860 - val_loss: 0.3102 - val_accuracy: 0.7407 - lr: 0.0010\n",
            "Epoch 50/50\n",
            "278/278 [==============================] - ETA: 0s - loss: 0.0165 - accuracy: 0.9791"
          ]
        },
        {
          "output_type": "stream",
          "name": "stderr",
          "text": [
            "WARNING:tensorflow:Learning rate reduction is conditioned on metric `val_acc` which is not available. Available metrics are: loss,accuracy,val_loss,val_accuracy,lr\n"
          ]
        },
        {
          "output_type": "stream",
          "name": "stdout",
          "text": [
            "\b\b\b\b\b\b\b\b\b\b\b\b\b\b\b\b\b\b\b\b\b\b\b\b\b\b\b\b\b\b\b\b\b\b\b\b\b\b\b\b\b\b\b\b\b\b\b\b\b\b\b\b\b\b\b\b\b\b\b\b\b\b\b\b\b\b\b\b\b\b\b\b\b\b\b\b\b\b\b\b\b\b\b\b\r278/278 [==============================] - 44s 157ms/step - loss: 0.0165 - accuracy: 0.9791 - val_loss: 0.2928 - val_accuracy: 0.7547 - lr: 0.0010\n"
          ]
        }
      ],
      "source": [
        "from keras.callbacks import ReduceLROnPlateau\n",
        "\n",
        "learning_rate_annealer = ReduceLROnPlateau(monitor='val_acc',mode='max',\n",
        "                                          patience=3,\n",
        "                                          verbose=1,\n",
        "                                         factor=0.5,\n",
        "                                          min_lr = 1e-4)\n",
        "\n",
        "history = model_cnn.fit(x_train,\n",
        "                    y_train,\n",
        "                    validation_split=0.2,\n",
        "                    epochs=50,\n",
        "                    batch_size = 64,\n",
        "                    verbose=1,\n",
        "                    callbacks=[learning_rate_annealer],validation_data=(x_test,y_test))"
      ]
    },
    {
      "cell_type": "code",
      "execution_count": null,
      "metadata": {
        "id": "6opkWREOkJXw",
        "colab": {
          "base_uri": "https://localhost:8080/",
          "height": 573
        },
        "outputId": "d607b63d-a63b-46b9-c940-6e21fb2eb0f2"
      },
      "outputs": [
        {
          "output_type": "display_data",
          "data": {
            "text/plain": [
              "<Figure size 432x288 with 1 Axes>"
            ],
            "image/png": "[encoded data removed]"
          },
          "metadata": {
            "needs_background": "light"
          }
        },
        {
          "output_type": "display_data",
          "data": {
            "text/plain": [
              "<Figure size 432x288 with 1 Axes>"
            ],
            "image/png": "[encoded data removed]"
          },
          "metadata": {
            "needs_background": "light"
          }
        }
      ],
      "source": [
        "plt.plot(history.history['accuracy'])\n",
        "plt.plot(history.history['val_accuracy'])\n",
        "\n",
        "plt.title('Model Accuracy')\n",
        "plt.ylabel('Accuracy')\n",
        "plt.xlabel('Epochs')\n",
        "\n",
        "plt.legend(['Train', 'Val'], loc='upper left')\n",
        "plt.show()\n",
        "\n",
        "\n",
        "plt.plot(history.history['loss'])\n",
        "plt.plot(history.history['val_loss'])\n",
        "plt.title('Model Loss')\n",
        "plt.ylabel('Loss')\n",
        "plt.xlabel('Epochs')\n",
        "\n",
        "plt.legend(['Train', 'Val'], loc='upper left')\n",
        "plt.show()\n"
      ]
    },
    {
      "cell_type": "code",
      "execution_count": null,
      "metadata": {
        "id": "XZ-DiS-vkLmI",
        "colab": {
          "base_uri": "https://localhost:8080/"
        },
        "outputId": "62bab1b6-bc3a-4ec6-cdb2-fe3e275b729e"
      },
      "outputs": [
        {
          "output_type": "stream",
          "name": "stdout",
          "text": [
            "Model: \"sequential_4\"\n",
            "_________________________________________________________________\n",
            " Layer (type)                Output Shape              Param #   \n",
            "=================================================================\n",
            " model (Functional)          (None, 3, 3, 2048)        28513520  \n",
            "                                                                 \n",
            " flatten_4 (Flatten)         (None, 18432)             0         \n",
            "                                                                 \n",
            " dense_8 (Dense)             (None, 128)               2359424   \n",
            "                                                                 \n",
            " dense_9 (Dense)             (None, 128)               16512     \n",
            "                                                                 \n",
            " dense_10 (Dense)            (None, 8)                 1032      \n",
            "                                                                 \n",
            "=================================================================\n",
            "Total params: 30,890,488\n",
            "Trainable params: 30,717,752\n",
            "Non-trainable params: 172,736\n",
            "_________________________________________________________________\n"
          ]
        }
      ],
      "source": [
        "model_cnn.summary()"
      ]
    },
    {
      "cell_type": "code",
      "execution_count": null,
      "metadata": {
        "id": "RkfBREBEkM5y",
        "colab": {
          "base_uri": "https://localhost:8080/",
          "height": 564
        },
        "outputId": "e69b269a-588c-4f24-ce18-f93211101a6b"
      },
      "outputs": [
        {
          "output_type": "execute_result",
          "data": {
            "image/png": "[encoded data removed]",
            "text/plain": [
              "<IPython.core.display.Image object>"
            ]
          },
          "metadata": {},
          "execution_count": 60
        }
      ],
      "source": [
        "import tensorflow as tf\n",
        "tf.keras.utils.plot_model(model_cnn)"
      ]
    },
    {
      "cell_type": "markdown",
      "source": [
        "COMPARING ACCURACIES"
      ],
      "metadata": {
        "id": "udrLBMUiJYtN"
      }
    },
    {
      "cell_type": "code",
      "source": [],
      "metadata": {
        "id": "wqwUGhlR0OJn"
      },
      "execution_count": null,
      "outputs": []
    },
    {
      "cell_type": "code",
      "source": [
        "import numpy as np\n",
        "import matplotlib.pyplot as plt\n",
        "\n",
        "\n",
        "# creating the dataset\n",
        "data = { 'CNN':97.63,'GOOGLE NET': 73.81, 'VGG 16':98.80 ,'RESNET': 97.52 ,'EfficientNet B5':99.14}\n",
        "courses = list(data.keys())\n",
        "values = list(data.values())\n",
        "\n",
        "fig = plt.figure(figsize = (10, 5))\n",
        "\n",
        "# creating the bar plot\n",
        "plt.bar(courses, values, data=data,color =['green','blue','red','yellow','pink'],\n",
        "        width = 0.4)\n",
        "\n",
        "plt.xlabel(\"Architectures used\")\n",
        "plt.ylabel(\"Accuracy\")\n",
        "plt.title(\"Accuracies of different Methods\")\n",
        "plt.show()"
      ],
      "metadata": {
        "id": "Vw2CvsozJYUV",
        "colab": {
          "base_uri": "https://localhost:8080/",
          "height": 350
        },
        "outputId": "6fb0705c-eb88-4cb3-8dc6-020e4da92c24"
      },
      "execution_count": null,
      "outputs": [
        {
          "output_type": "display_data",
          "data": {
            "text/plain": [
              "<Figure size 720x360 with 1 Axes>"
            ],
            "image/png": "[encoded data removed]"
          },
          "metadata": {
            "needs_background": "light"
          }
        }
      ]
    },
    {
      "cell_type": "code",
      "source": [
        "import numpy as np\n",
        "import matplotlib.pyplot as plt\n",
        "\n",
        "\n",
        "# creating the dataset\n",
        "data = { 'CNN':60.22,'GOOGLE NET': 66.64, 'VGG 16':69.07 ,'RESNET': 67.47 ,'EfficientNet B5':75.28}\n",
        "courses = list(data.keys())\n",
        "values = list(data.values())\n",
        "\n",
        "fig = plt.figure(figsize = (10, 5))\n",
        "\n",
        "# creating the bar plot\n",
        "plt.bar(courses, values, data=data,color =['green','blue','red','yellow','pink'],\n",
        "        width = 0.4)\n",
        "\n",
        "plt.xlabel(\"Architectures used\")\n",
        "plt.ylabel(\"Loss\")\n",
        "plt.title(\"Loss of different Methods\")\n",
        "plt.show()"
      ],
      "metadata": {
        "id": "LZiE9NE7Jdha",
        "colab": {
          "base_uri": "https://localhost:8080/",
          "height": 350
        },
        "outputId": "0439237c-0995-4723-e2b9-4f7efba9ac32"
      },
      "execution_count": null,
      "outputs": [
        {
          "output_type": "display_data",
          "data": {
            "text/plain": [
              "<Figure size 720x360 with 1 Axes>"
            ],
            "image/png": "[encoded data removed]"
          },
          "metadata": {
            "needs_background": "light"
          }
        }
      ]
    },
    {
      "cell_type": "code",
      "source": [],
      "metadata": {
        "id": "RuGWy3IF-D6V"
      },
      "execution_count": null,
      "outputs": []
    }
  ],
  "metadata": {
    "accelerator": "GPU",
    "colab": {
      "machine_shape": "hm",
      "provenance": [],
      "gpuClass": "premium"
    },
    "gpuClass": "premium",
    "kernelspec": {
      "display_name": "Python 3",
      "name": "python3"
    },
    "language_info": {
      "name": "python"
    }
  },
  "nbformat": 4,
  "nbformat_minor": 0
}